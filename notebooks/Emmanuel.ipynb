{
 "metadata": {
  "language_info": {
   "codemirror_mode": {
    "name": "ipython",
    "version": 3
   },
   "file_extension": ".py",
   "mimetype": "text/x-python",
   "name": "python",
   "nbconvert_exporter": "python",
   "pygments_lexer": "ipython3",
   "version": "3.8.5-final"
  },
  "orig_nbformat": 2,
  "kernelspec": {
   "name": "python3",
   "display_name": "Python 3",
   "language": "python"
  }
 },
 "nbformat": 4,
 "nbformat_minor": 2,
 "cells": [
  {
   "cell_type": "code",
   "execution_count": 227,
   "metadata": {},
   "outputs": [],
   "source": [
    "import pandas as pd\n",
    "import os"
   ]
  },
  {
   "cell_type": "code",
   "execution_count": 228,
   "metadata": {},
   "outputs": [],
   "source": [
    "class DataLoader(object):\n",
    "\n",
    "       def __init__(self, base_folder):\n",
    "              self.base_folder = base_folder\n",
    "\n",
    "       def load_labour_market_info(self):\n",
    "              full_path = os.path.join(self.base_folder, 'data/raw/labour_market_info.csv')\n",
    "              data = pd.read_csv(full_path, sep=\";\")\n",
    "              data = data.rename(columns={'Onderwijsvolgend': 'Educational', 'KenmerkenArbeid': 'Characteristics Labor', 'Uitkering': 'Payment', 'IngeschrevenUWVWerkbedrijf':'RegisteredUWVWerkbedrijf', 'RegioS': 'Municipalitycode', 'Perioden': 'Periods', 'Jongeren15Tot27Jaar_1':'Youth15To27Year' })\n",
    "              return data\n",
    "\n",
    "       def load_crime_data(self):\n",
    "              full_path = os.path.join(self.base_folder, 'data/raw/crime_data.csv')\n",
    "              data = pd.read_csv(full_path, sep=\";\")\n",
    "              data = data.rename(columns={'SoortMisdrijf': 'CrimeType', 'RegioS': 'Municipalitycode', 'Perioden': 'Periods', 'TotaalGeregistreerdeMisdrijven_1': 'Total Registered Crimes', 'GeregistreerdeMisdrijvenRelatief_2': 'Registered Crimes Relative', 'GeregistreerdeMisdrijvenPer1000Inw_3': 'Registered CrimesPer1000Inw', 'TotaalOpgehelderdeMisdrijven_4': 'TotalClearedCrimes', 'OpgehelderdeMisdrijvenRelatief_5': 'ClearedCrimesRelative', 'RegistratiesVanVerdachten_6': 'RegistrationsofSuspects'})\n",
    "              return data\n",
    "\n",
    "       def load_tourist_info(self):\n",
    "              full_path = os.path.join(self.base_folder, 'data/raw/tourist_info.csv')\n",
    "              data = pd.read_csv(full_path, sep=\";\")\n",
    "              #print(data)\n",
    "              data = data.rename(columns={'WoonlandVanGasten': 'Residential Land Of Guests', 'RegioS': 'Municipalitycode', 'Perioden': 'Periods', 'Gasten_1': 'Guests', 'Overnachtingen_2': 'Overnights'})\n",
    "              return data\n",
    "       \n"
   ]
  },
  {
   "cell_type": "code",
   "execution_count": 229,
   "metadata": {},
   "outputs": [],
   "source": [
    "dataloader = DataLoader(base_folder='/Users/eaowusu/Documents/Documents 2/Amsterdam University of Applied Science/COLLEGE YEAR 2020 l 2021/DDB - COURSES 2020 l 2021/BLOCK 2/Artificial Intelligence for Business/Team2-Know How to Google/product3team2')\n",
    "labour_market_info = dataloader.load_labour_market_info()\n",
    "crime_data = dataloader.load_crime_data()\n",
    "tourist_info = dataloader.load_tourist_info()"
   ]
  },
  {
   "cell_type": "code",
   "execution_count": 230,
   "metadata": {},
   "outputs": [
    {
     "output_type": "execute_result",
     "data": {
      "text/plain": [
       "     ID Residential Land Of Guests Municipalitycode   Periods  Guests  \\\n",
       "0  3476                    T001047           GM0363  2018JJ00    8577   \n",
       "1  3622                    T001047           GM0599  2018JJ00    1261   \n",
       "2  3768                    T001047           GM0518  2018JJ00    1079   \n",
       "3  3914                    T001047           GM0344  2018JJ00     441   \n",
       "4  4060                    T001047           GM0935  2018JJ00     698   \n",
       "\n",
       "   Overnights  \n",
       "0       16673  \n",
       "1        2043  \n",
       "2        1754  \n",
       "3         689  \n",
       "4        1157  "
      ],
      "text/html": "<div>\n<style scoped>\n    .dataframe tbody tr th:only-of-type {\n        vertical-align: middle;\n    }\n\n    .dataframe tbody tr th {\n        vertical-align: top;\n    }\n\n    .dataframe thead th {\n        text-align: right;\n    }\n</style>\n<table border=\"1\" class=\"dataframe\">\n  <thead>\n    <tr style=\"text-align: right;\">\n      <th></th>\n      <th>ID</th>\n      <th>Residential Land Of Guests</th>\n      <th>Municipalitycode</th>\n      <th>Periods</th>\n      <th>Guests</th>\n      <th>Overnights</th>\n    </tr>\n  </thead>\n  <tbody>\n    <tr>\n      <th>0</th>\n      <td>3476</td>\n      <td>T001047</td>\n      <td>GM0363</td>\n      <td>2018JJ00</td>\n      <td>8577</td>\n      <td>16673</td>\n    </tr>\n    <tr>\n      <th>1</th>\n      <td>3622</td>\n      <td>T001047</td>\n      <td>GM0599</td>\n      <td>2018JJ00</td>\n      <td>1261</td>\n      <td>2043</td>\n    </tr>\n    <tr>\n      <th>2</th>\n      <td>3768</td>\n      <td>T001047</td>\n      <td>GM0518</td>\n      <td>2018JJ00</td>\n      <td>1079</td>\n      <td>1754</td>\n    </tr>\n    <tr>\n      <th>3</th>\n      <td>3914</td>\n      <td>T001047</td>\n      <td>GM0344</td>\n      <td>2018JJ00</td>\n      <td>441</td>\n      <td>689</td>\n    </tr>\n    <tr>\n      <th>4</th>\n      <td>4060</td>\n      <td>T001047</td>\n      <td>GM0935</td>\n      <td>2018JJ00</td>\n      <td>698</td>\n      <td>1157</td>\n    </tr>\n  </tbody>\n</table>\n</div>"
     },
     "metadata": {},
     "execution_count": 230
    }
   ],
   "source": [
    "tourist_info.head()"
   ]
  },
  {
   "cell_type": "code",
   "execution_count": 231,
   "metadata": {},
   "outputs": [
    {
     "output_type": "execute_result",
     "data": {
      "text/plain": [
       "    ID Educational Characteristics Labor  Payment RegisteredUWVWerkbedrijf  \\\n",
       "0  811     T001144               T001095  T001410                  T001266   \n",
       "1  825     T001144               T001095  T001410                  T001266   \n",
       "2  839     T001144               T001095  T001410                  T001266   \n",
       "3  853     T001144               T001095  T001410                  T001266   \n",
       "4  867     T001144               T001095  T001410                  T001266   \n",
       "\n",
       "  Municipalitycode   Periods  Youth15To27Year  \n",
       "0           GM1680  2018JJ00             3000  \n",
       "1           GM0358  2018JJ00             4300  \n",
       "2           GM0197  2018JJ00             3500  \n",
       "3           GM0059  2018JJ00             3900  \n",
       "4           GM0482  2018JJ00             3000  "
      ],
      "text/html": "<div>\n<style scoped>\n    .dataframe tbody tr th:only-of-type {\n        vertical-align: middle;\n    }\n\n    .dataframe tbody tr th {\n        vertical-align: top;\n    }\n\n    .dataframe thead th {\n        text-align: right;\n    }\n</style>\n<table border=\"1\" class=\"dataframe\">\n  <thead>\n    <tr style=\"text-align: right;\">\n      <th></th>\n      <th>ID</th>\n      <th>Educational</th>\n      <th>Characteristics Labor</th>\n      <th>Payment</th>\n      <th>RegisteredUWVWerkbedrijf</th>\n      <th>Municipalitycode</th>\n      <th>Periods</th>\n      <th>Youth15To27Year</th>\n    </tr>\n  </thead>\n  <tbody>\n    <tr>\n      <th>0</th>\n      <td>811</td>\n      <td>T001144</td>\n      <td>T001095</td>\n      <td>T001410</td>\n      <td>T001266</td>\n      <td>GM1680</td>\n      <td>2018JJ00</td>\n      <td>3000</td>\n    </tr>\n    <tr>\n      <th>1</th>\n      <td>825</td>\n      <td>T001144</td>\n      <td>T001095</td>\n      <td>T001410</td>\n      <td>T001266</td>\n      <td>GM0358</td>\n      <td>2018JJ00</td>\n      <td>4300</td>\n    </tr>\n    <tr>\n      <th>2</th>\n      <td>839</td>\n      <td>T001144</td>\n      <td>T001095</td>\n      <td>T001410</td>\n      <td>T001266</td>\n      <td>GM0197</td>\n      <td>2018JJ00</td>\n      <td>3500</td>\n    </tr>\n    <tr>\n      <th>3</th>\n      <td>853</td>\n      <td>T001144</td>\n      <td>T001095</td>\n      <td>T001410</td>\n      <td>T001266</td>\n      <td>GM0059</td>\n      <td>2018JJ00</td>\n      <td>3900</td>\n    </tr>\n    <tr>\n      <th>4</th>\n      <td>867</td>\n      <td>T001144</td>\n      <td>T001095</td>\n      <td>T001410</td>\n      <td>T001266</td>\n      <td>GM0482</td>\n      <td>2018JJ00</td>\n      <td>3000</td>\n    </tr>\n  </tbody>\n</table>\n</div>"
     },
     "metadata": {},
     "execution_count": 231
    }
   ],
   "source": [
    "labour_market_info.head()"
   ]
  },
  {
   "cell_type": "code",
   "execution_count": 232,
   "metadata": {},
   "outputs": [
    {
     "output_type": "execute_result",
     "data": {
      "text/plain": [
       "    ID CrimeType Municipalitycode   Periods  Total Registered Crimes  \\\n",
       "0  208   T001161           GM1680  2018JJ00                    545.0   \n",
       "1  218   T001161           GM0738  2018JJ00                    255.0   \n",
       "2  228   T001161           GM0358  2018JJ00                   1135.0   \n",
       "3  238   T001161           GM0197  2018JJ00                    505.0   \n",
       "4  248   T001161           GM0305  2018JJ00                      NaN   \n",
       "\n",
       "   Registered Crimes Relative Registered CrimesPer1000Inw  TotalClearedCrimes  \\\n",
       "0                       100.0                        21.4               125.0   \n",
       "1                       100.0                        19.5                45.0   \n",
       "2                       100.0                        36.0               280.0   \n",
       "3                       100.0                        18.7               180.0   \n",
       "4                         NaN                         NaN                 NaN   \n",
       "\n",
       "   ClearedCrimesRelative  RegistrationsofSuspects  \n",
       "0                   22.7                    155.0  \n",
       "1                   16.8                     50.0  \n",
       "2                   24.7                    325.0  \n",
       "3                   35.3                    215.0  \n",
       "4                    NaN                      NaN  "
      ],
      "text/html": "<div>\n<style scoped>\n    .dataframe tbody tr th:only-of-type {\n        vertical-align: middle;\n    }\n\n    .dataframe tbody tr th {\n        vertical-align: top;\n    }\n\n    .dataframe thead th {\n        text-align: right;\n    }\n</style>\n<table border=\"1\" class=\"dataframe\">\n  <thead>\n    <tr style=\"text-align: right;\">\n      <th></th>\n      <th>ID</th>\n      <th>CrimeType</th>\n      <th>Municipalitycode</th>\n      <th>Periods</th>\n      <th>Total Registered Crimes</th>\n      <th>Registered Crimes Relative</th>\n      <th>Registered CrimesPer1000Inw</th>\n      <th>TotalClearedCrimes</th>\n      <th>ClearedCrimesRelative</th>\n      <th>RegistrationsofSuspects</th>\n    </tr>\n  </thead>\n  <tbody>\n    <tr>\n      <th>0</th>\n      <td>208</td>\n      <td>T001161</td>\n      <td>GM1680</td>\n      <td>2018JJ00</td>\n      <td>545.0</td>\n      <td>100.0</td>\n      <td>21.4</td>\n      <td>125.0</td>\n      <td>22.7</td>\n      <td>155.0</td>\n    </tr>\n    <tr>\n      <th>1</th>\n      <td>218</td>\n      <td>T001161</td>\n      <td>GM0738</td>\n      <td>2018JJ00</td>\n      <td>255.0</td>\n      <td>100.0</td>\n      <td>19.5</td>\n      <td>45.0</td>\n      <td>16.8</td>\n      <td>50.0</td>\n    </tr>\n    <tr>\n      <th>2</th>\n      <td>228</td>\n      <td>T001161</td>\n      <td>GM0358</td>\n      <td>2018JJ00</td>\n      <td>1135.0</td>\n      <td>100.0</td>\n      <td>36.0</td>\n      <td>280.0</td>\n      <td>24.7</td>\n      <td>325.0</td>\n    </tr>\n    <tr>\n      <th>3</th>\n      <td>238</td>\n      <td>T001161</td>\n      <td>GM0197</td>\n      <td>2018JJ00</td>\n      <td>505.0</td>\n      <td>100.0</td>\n      <td>18.7</td>\n      <td>180.0</td>\n      <td>35.3</td>\n      <td>215.0</td>\n    </tr>\n    <tr>\n      <th>4</th>\n      <td>248</td>\n      <td>T001161</td>\n      <td>GM0305</td>\n      <td>2018JJ00</td>\n      <td>NaN</td>\n      <td>NaN</td>\n      <td>NaN</td>\n      <td>NaN</td>\n      <td>NaN</td>\n      <td>NaN</td>\n    </tr>\n  </tbody>\n</table>\n</div>"
     },
     "metadata": {},
     "execution_count": 232
    }
   ],
   "source": [
    "crime_data.head()"
   ]
  },
  {
   "cell_type": "code",
   "execution_count": null,
   "metadata": {},
   "outputs": [],
   "source": []
  }
 ]
}