{
 "cells": [
  {
   "source": [
    "# Neural Network for Regression | Funda dataset"
   ],
   "cell_type": "markdown",
   "metadata": {}
  },
  {
   "source": [
    "## Importing modules"
   ],
   "cell_type": "markdown",
   "metadata": {}
  },
  {
   "cell_type": "code",
   "execution_count": 1,
   "metadata": {},
   "outputs": [],
   "source": [
    "import IPython\n",
    "from sklearn.model_selection import train_test_split\n",
    "from sklearn.metrics import mean_absolute_error \n",
    "import seaborn as sb\n",
    "%matplotlib inline\n",
    "import matplotlib.pyplot as plt\n",
    "import pandas as pd\n",
    "import numpy as np\n",
    "import warnings \n",
    "warnings.filterwarnings('ignore')\n",
    "warnings.filterwarnings('ignore', category=DeprecationWarning)\n",
    "import tensorflow as tf\n",
    "import tensorflow_docs as tfdocs\n",
    "import tensorflow_docs.plots\n",
    "import tensorflow_docs.modeling\n",
    "from tensorflow.keras.callbacks import ModelCheckpoint\n",
    "from tensorflow.keras.models import Sequential\n",
    "from tensorflow.keras.layers import Dense, Activation, Flatten"
   ]
  },
  {
   "source": [
    "## 1. Funda_2018"
   ],
   "cell_type": "markdown",
   "metadata": {}
  },
  {
   "cell_type": "code",
   "execution_count": 9,
   "metadata": {},
   "outputs": [
    {
     "output_type": "stream",
     "name": "stdout",
     "text": [
      "Funda 2018 data loaded\n"
     ]
    }
   ],
   "source": [
    "# Load funda_2018 data\n",
    "from funda.load_data import DataLoader\n",
    "data_loader = DataLoader(base_folder='C:\\\\Users\\\\User\\\\Google Drive\\\\Master DDB\\\\AI for Business\\\\product3team2')\n",
    "funda_2018 = data_loader.load_funda_data_2018()\n",
    "print(\"Funda 2018 data loaded\")"
   ]
  },
  {
   "cell_type": "code",
   "execution_count": 10,
   "metadata": {},
   "outputs": [
    {
     "output_type": "stream",
     "name": "stdout",
     "text": [
      "Funda data 2018 cleaned\n"
     ]
    }
   ],
   "source": [
    "# Clean funda_2018 data\n",
    "from funda.clean_data import DataCleaner\n",
    "data_cleaner = DataCleaner\n",
    "funda_2018_cleaned = data_cleaner.cleaned_funda_2018(data=funda_2018)"
   ]
  },
  {
   "cell_type": "code",
   "execution_count": 4,
   "metadata": {},
   "outputs": [
    {
     "output_type": "execute_result",
     "data": {
      "text/plain": [
       "  publicationDate zipcode  sellingPrice  \\\n",
       "0      2018-07-31  1774PG      139000.0   \n",
       "1      2018-09-24  7481LK      209000.0   \n",
       "2      2018-08-02  1068MS      267500.0   \n",
       "3      2018-08-04  5628EN      349000.0   \n",
       "4      2018-08-05  7731TV      495000.0   \n",
       "\n",
       "                                     fullDescription  \\\n",
       "0  Ruimte, vrijheid, en altijd het water en de we...   \n",
       "1  Verrassend ruime tussenwoning nabij het centru...   \n",
       "2  - ENGLISH TRANSLATION - On the 21st of Septemb...   \n",
       "3  Wonen in een zeer royaal bemeten geschakelde 2...   \n",
       "4  Landgoed Junne is een eeuwenoud landgoed en li...   \n",
       "\n",
       "                                         houseType categoryObject  \\\n",
       "0                      woonboot,vrijstaandewoning,       Woonhuis   \n",
       "1                    eengezinswoning,tussenwoning,       Woonhuis   \n",
       "2                    tussenverdieping,appartement,    Appartement   \n",
       "3  eengezinswoning,geschakelde2-onder-1-kapwoning,       Woonhuis   \n",
       "4                 woonboerderij,vrijstaandewoning,       Woonhuis   \n",
       "\n",
       "   yearOfBuilding  garden  parcelSurface  numberRooms  numberBathrooms  \\\n",
       "0            1975       1            NaN            3              0.0   \n",
       "1            1980       1          148.0            5              1.0   \n",
       "2            2005       0            NaN            3              0.0   \n",
       "3            1973       1          244.0            5              0.0   \n",
       "4            1900       0         4500.0            8              1.0   \n",
       "\n",
       "  energylabelClass  surface sellingDate  sellingTime  \n",
       "0                0       62  2018-11-12          104  \n",
       "1                B      136  2018-08-30          -25  \n",
       "2                0       70  2018-11-23          113  \n",
       "3                0      144  2018-12-14          132  \n",
       "4                0      323  2018-12-06          123  "
      ],
      "text/html": "<div>\n<style scoped>\n    .dataframe tbody tr th:only-of-type {\n        vertical-align: middle;\n    }\n\n    .dataframe tbody tr th {\n        vertical-align: top;\n    }\n\n    .dataframe thead th {\n        text-align: right;\n    }\n</style>\n<table border=\"1\" class=\"dataframe\">\n  <thead>\n    <tr style=\"text-align: right;\">\n      <th></th>\n      <th>publicationDate</th>\n      <th>zipcode</th>\n      <th>sellingPrice</th>\n      <th>fullDescription</th>\n      <th>houseType</th>\n      <th>categoryObject</th>\n      <th>yearOfBuilding</th>\n      <th>garden</th>\n      <th>parcelSurface</th>\n      <th>numberRooms</th>\n      <th>numberBathrooms</th>\n      <th>energylabelClass</th>\n      <th>surface</th>\n      <th>sellingDate</th>\n      <th>sellingTime</th>\n    </tr>\n  </thead>\n  <tbody>\n    <tr>\n      <th>0</th>\n      <td>2018-07-31</td>\n      <td>1774PG</td>\n      <td>139000.0</td>\n      <td>Ruimte, vrijheid, en altijd het water en de we...</td>\n      <td>woonboot,vrijstaandewoning,</td>\n      <td>Woonhuis</td>\n      <td>1975</td>\n      <td>1</td>\n      <td>NaN</td>\n      <td>3</td>\n      <td>0.0</td>\n      <td>0</td>\n      <td>62</td>\n      <td>2018-11-12</td>\n      <td>104</td>\n    </tr>\n    <tr>\n      <th>1</th>\n      <td>2018-09-24</td>\n      <td>7481LK</td>\n      <td>209000.0</td>\n      <td>Verrassend ruime tussenwoning nabij het centru...</td>\n      <td>eengezinswoning,tussenwoning,</td>\n      <td>Woonhuis</td>\n      <td>1980</td>\n      <td>1</td>\n      <td>148.0</td>\n      <td>5</td>\n      <td>1.0</td>\n      <td>B</td>\n      <td>136</td>\n      <td>2018-08-30</td>\n      <td>-25</td>\n    </tr>\n    <tr>\n      <th>2</th>\n      <td>2018-08-02</td>\n      <td>1068MS</td>\n      <td>267500.0</td>\n      <td>- ENGLISH TRANSLATION - On the 21st of Septemb...</td>\n      <td>tussenverdieping,appartement,</td>\n      <td>Appartement</td>\n      <td>2005</td>\n      <td>0</td>\n      <td>NaN</td>\n      <td>3</td>\n      <td>0.0</td>\n      <td>0</td>\n      <td>70</td>\n      <td>2018-11-23</td>\n      <td>113</td>\n    </tr>\n    <tr>\n      <th>3</th>\n      <td>2018-08-04</td>\n      <td>5628EN</td>\n      <td>349000.0</td>\n      <td>Wonen in een zeer royaal bemeten geschakelde 2...</td>\n      <td>eengezinswoning,geschakelde2-onder-1-kapwoning,</td>\n      <td>Woonhuis</td>\n      <td>1973</td>\n      <td>1</td>\n      <td>244.0</td>\n      <td>5</td>\n      <td>0.0</td>\n      <td>0</td>\n      <td>144</td>\n      <td>2018-12-14</td>\n      <td>132</td>\n    </tr>\n    <tr>\n      <th>4</th>\n      <td>2018-08-05</td>\n      <td>7731TV</td>\n      <td>495000.0</td>\n      <td>Landgoed Junne is een eeuwenoud landgoed en li...</td>\n      <td>woonboerderij,vrijstaandewoning,</td>\n      <td>Woonhuis</td>\n      <td>1900</td>\n      <td>0</td>\n      <td>4500.0</td>\n      <td>8</td>\n      <td>1.0</td>\n      <td>0</td>\n      <td>323</td>\n      <td>2018-12-06</td>\n      <td>123</td>\n    </tr>\n  </tbody>\n</table>\n</div>"
     },
     "metadata": {},
     "execution_count": 4
    }
   ],
   "source": [
    "funda_2018_cleaned.head(5)"
   ]
  },
  {
   "source": [
    "## Explore correlations"
   ],
   "cell_type": "markdown",
   "metadata": {}
  },
  {
   "cell_type": "code",
   "execution_count": 5,
   "metadata": {},
   "outputs": [
    {
     "output_type": "display_data",
     "data": {
      "text/plain": "<Figure size 576x576 with 2 Axes>",
      "image/svg+xml": "<?xml version=\"1.0\" encoding=\"utf-8\" standalone=\"no\"?>\r\n<!DOCTYPE svg PUBLIC \"-//W3C//DTD SVG 1.1//EN\"\r\n  \"http://www.w3.org/Graphics/SVG/1.1/DTD/svg11.dtd\">\r\n<!-- Created with matplotlib (https://matplotlib.org/) -->\r\n<svg height=\"514.547656pt\" version=\"1.1\" viewBox=\"0 0 547.21525 514.547656\" width=\"547.21525pt\" xmlns=\"http://www.w3.org/2000/svg\" xmlns:xlink=\"http://www.w3.org/1999/xlink\">\r\n <metadata>\r\n  <rdf:RDF xmlns:cc=\"http://creativecommons.org/ns#\" xmlns:dc=\"http://purl.org/dc/elements/1.1/\" xmlns:rdf=\"http://www.w3.org/1999/02/22-rdf-syntax-ns#\">\r\n   <cc:Work>\r\n    <dc:type rdf:resource=\"http://purl.org/dc/dcmitype/StillImage\"/>\r\n    <dc:date>2021-01-11T16:39:06.192943</dc:date>\r\n    <dc:format>image/svg+xml</dc:format>\r\n    <dc:creator>\r\n     <cc:Agent>\r\n      <dc:title>Matplotlib v3.3.3, https://matplotlib.org/</dc:title>\r\n     </cc:Agent>\r\n    </dc:creator>\r\n   </cc:Work>\r\n  </rdf:RDF>\r\n </metadata>\r\n <defs>\r\n  <style type=\"text/css\">*{stroke-linecap:butt;stroke-linejoin:round;}</style>\r\n </defs>\r\n <g id=\"figure_1\">\r\n  <g id=\"patch_1\">\r\n   <path d=\"M 0 514.547656 \r\nL 547.21525 514.547656 \r\nL 547.21525 0 \r\nL 0 0 \r\nz\r\n\" style=\"fill:none;\"/>\r\n  </g>\r\n  <g id=\"axes_1\">\r\n   <g id=\"patch_2\">\r\n    <path d=\"M 107.548438 406.999219 \r\nL 464.668437 406.999219 \r\nL 464.668437 49.879219 \r\nL 107.548438 49.879219 \r\nz\r\n\" style=\"fill:#ffffff;\"/>\r\n   </g>\r\n   <g id=\"QuadMesh_1\">\r\n    <path clip-path=\"url(#p69f79b8a5d)\" d=\"M 107.548438 49.879219 \r\nL 152.188438 49.879219 \r\nL 152.188438 94.519219 \r\nL 107.548438 94.519219 \r\nL 107.548438 49.879219 \r\n\" style=\"fill:#67001f;\"/>\r\n    <path clip-path=\"url(#p69f79b8a5d)\" d=\"M 152.188438 49.879219 \r\nL 196.828438 49.879219 \r\nL 196.828438 94.519219 \r\nL 152.188438 94.519219 \r\nL 152.188438 49.879219 \r\n\" style=\"fill:#edf2f5;\"/>\r\n    <path clip-path=\"url(#p69f79b8a5d)\" d=\"M 196.828438 49.879219 \r\nL 241.468438 49.879219 \r\nL 241.468438 94.519219 \r\nL 196.828438 94.519219 \r\nL 196.828438 49.879219 \r\n\" style=\"fill:#fbe6da;\"/>\r\n    <path clip-path=\"url(#p69f79b8a5d)\" d=\"M 241.468438 49.879219 \r\nL 286.108438 49.879219 \r\nL 286.108438 94.519219 \r\nL 241.468438 94.519219 \r\nL 241.468438 49.879219 \r\n\" style=\"fill:#fbceb7;\"/>\r\n    <path clip-path=\"url(#p69f79b8a5d)\" d=\"M 286.108438 49.879219 \r\nL 330.748438 49.879219 \r\nL 330.748438 94.519219 \r\nL 286.108438 94.519219 \r\nL 286.108438 49.879219 \r\n\" style=\"fill:#e8896c;\"/>\r\n    <path clip-path=\"url(#p69f79b8a5d)\" d=\"M 330.748438 49.879219 \r\nL 375.388438 49.879219 \r\nL 375.388438 94.519219 \r\nL 330.748438 94.519219 \r\nL 330.748438 49.879219 \r\n\" style=\"fill:#f7b99c;\"/>\r\n    <path clip-path=\"url(#p69f79b8a5d)\" d=\"M 375.388438 49.879219 \r\nL 420.028437 49.879219 \r\nL 420.028437 94.519219 \r\nL 375.388438 94.519219 \r\nL 375.388438 49.879219 \r\n\" style=\"fill:#b1182b;\"/>\r\n    <path clip-path=\"url(#p69f79b8a5d)\" d=\"M 420.028437 49.879219 \r\nL 464.668437 49.879219 \r\nL 464.668437 94.519219 \r\nL 420.028437 94.519219 \r\nL 420.028437 49.879219 \r\n\" style=\"fill:#fddbc7;\"/>\r\n    <path clip-path=\"url(#p69f79b8a5d)\" d=\"M 107.548438 94.519219 \r\nL 152.188438 94.519219 \r\nL 152.188438 139.159219 \r\nL 107.548438 139.159219 \r\nL 107.548438 94.519219 \r\n\" style=\"fill:#edf2f5;\"/>\r\n    <path clip-path=\"url(#p69f79b8a5d)\" d=\"M 152.188438 94.519219 \r\nL 196.828438 94.519219 \r\nL 196.828438 139.159219 \r\nL 152.188438 139.159219 \r\nL 152.188438 94.519219 \r\n\" style=\"fill:#67001f;\"/>\r\n    <path clip-path=\"url(#p69f79b8a5d)\" d=\"M 196.828438 94.519219 \r\nL 241.468438 94.519219 \r\nL 241.468438 139.159219 \r\nL 196.828438 139.159219 \r\nL 196.828438 94.519219 \r\n\" style=\"fill:#f0f4f6;\"/>\r\n    <path clip-path=\"url(#p69f79b8a5d)\" d=\"M 241.468438 94.519219 \r\nL 286.108438 94.519219 \r\nL 286.108438 139.159219 \r\nL 241.468438 139.159219 \r\nL 241.468438 94.519219 \r\n\" style=\"fill:#e3edf3;\"/>\r\n    <path clip-path=\"url(#p69f79b8a5d)\" d=\"M 286.108438 94.519219 \r\nL 330.748438 94.519219 \r\nL 330.748438 139.159219 \r\nL 286.108438 139.159219 \r\nL 286.108438 94.519219 \r\n\" style=\"fill:#e6eff4;\"/>\r\n    <path clip-path=\"url(#p69f79b8a5d)\" d=\"M 330.748438 94.519219 \r\nL 375.388438 94.519219 \r\nL 375.388438 139.159219 \r\nL 330.748438 139.159219 \r\nL 330.748438 94.519219 \r\n\" style=\"fill:#e0ecf3;\"/>\r\n    <path clip-path=\"url(#p69f79b8a5d)\" d=\"M 375.388438 94.519219 \r\nL 420.028437 94.519219 \r\nL 420.028437 139.159219 \r\nL 375.388438 139.159219 \r\nL 375.388438 94.519219 \r\n\" style=\"fill:#f8f3f0;\"/>\r\n    <path clip-path=\"url(#p69f79b8a5d)\" d=\"M 420.028437 94.519219 \r\nL 464.668437 94.519219 \r\nL 464.668437 139.159219 \r\nL 420.028437 139.159219 \r\nL 420.028437 94.519219 \r\n\" style=\"fill:#f9eee7;\"/>\r\n    <path clip-path=\"url(#p69f79b8a5d)\" d=\"M 107.548438 139.159219 \r\nL 152.188438 139.159219 \r\nL 152.188438 183.799219 \r\nL 107.548438 183.799219 \r\nL 107.548438 139.159219 \r\n\" style=\"fill:#fbe6da;\"/>\r\n    <path clip-path=\"url(#p69f79b8a5d)\" d=\"M 152.188438 139.159219 \r\nL 196.828438 139.159219 \r\nL 196.828438 183.799219 \r\nL 152.188438 183.799219 \r\nL 152.188438 139.159219 \r\n\" style=\"fill:#f0f4f6;\"/>\r\n    <path clip-path=\"url(#p69f79b8a5d)\" d=\"M 196.828438 139.159219 \r\nL 241.468438 139.159219 \r\nL 241.468438 183.799219 \r\nL 196.828438 183.799219 \r\nL 196.828438 139.159219 \r\n\" style=\"fill:#67001f;\"/>\r\n    <path clip-path=\"url(#p69f79b8a5d)\" d=\"M 241.468438 139.159219 \r\nL 286.108438 139.159219 \r\nL 286.108438 183.799219 \r\nL 241.468438 183.799219 \r\nL 241.468438 139.159219 \r\n\" style=\"fill:#f5f6f7;\"/>\r\n    <path clip-path=\"url(#p69f79b8a5d)\" d=\"M 286.108438 139.159219 \r\nL 330.748438 139.159219 \r\nL 330.748438 183.799219 \r\nL 286.108438 183.799219 \r\nL 286.108438 139.159219 \r\n\" style=\"fill:#db6b55;\"/>\r\n    <path clip-path=\"url(#p69f79b8a5d)\" d=\"M 330.748438 139.159219 \r\nL 375.388438 139.159219 \r\nL 375.388438 183.799219 \r\nL 330.748438 183.799219 \r\nL 330.748438 139.159219 \r\n\" style=\"fill:#fce0d0;\"/>\r\n    <path clip-path=\"url(#p69f79b8a5d)\" d=\"M 375.388438 139.159219 \r\nL 420.028437 139.159219 \r\nL 420.028437 183.799219 \r\nL 375.388438 183.799219 \r\nL 375.388438 139.159219 \r\n\" style=\"fill:#f4a683;\"/>\r\n    <path clip-path=\"url(#p69f79b8a5d)\" d=\"M 420.028437 139.159219 \r\nL 464.668437 139.159219 \r\nL 464.668437 183.799219 \r\nL 420.028437 183.799219 \r\nL 420.028437 139.159219 \r\n\" style=\"fill:#f9ede5;\"/>\r\n    <path clip-path=\"url(#p69f79b8a5d)\" d=\"M 107.548438 183.799219 \r\nL 152.188438 183.799219 \r\nL 152.188438 228.439219 \r\nL 107.548438 228.439219 \r\nL 107.548438 183.799219 \r\n\" style=\"fill:#fbceb7;\"/>\r\n    <path clip-path=\"url(#p69f79b8a5d)\" d=\"M 152.188438 183.799219 \r\nL 196.828438 183.799219 \r\nL 196.828438 228.439219 \r\nL 152.188438 228.439219 \r\nL 152.188438 183.799219 \r\n\" style=\"fill:#e3edf3;\"/>\r\n    <path clip-path=\"url(#p69f79b8a5d)\" d=\"M 196.828438 183.799219 \r\nL 241.468438 183.799219 \r\nL 241.468438 228.439219 \r\nL 196.828438 228.439219 \r\nL 196.828438 183.799219 \r\n\" style=\"fill:#f5f6f7;\"/>\r\n    <path clip-path=\"url(#p69f79b8a5d)\" d=\"M 241.468438 183.799219 \r\nL 286.108438 183.799219 \r\nL 286.108438 228.439219 \r\nL 241.468438 228.439219 \r\nL 241.468438 183.799219 \r\n\" style=\"fill:#67001f;\"/>\r\n    <path clip-path=\"url(#p69f79b8a5d)\" d=\"M 286.108438 183.799219 \r\nL 330.748438 183.799219 \r\nL 330.748438 228.439219 \r\nL 286.108438 228.439219 \r\nL 286.108438 183.799219 \r\n\" style=\"fill:#fce2d2;\"/>\r\n    <path clip-path=\"url(#p69f79b8a5d)\" d=\"M 330.748438 183.799219 \r\nL 375.388438 183.799219 \r\nL 375.388438 228.439219 \r\nL 330.748438 228.439219 \r\nL 330.748438 183.799219 \r\n\" style=\"fill:#f9ede5;\"/>\r\n    <path clip-path=\"url(#p69f79b8a5d)\" d=\"M 375.388438 183.799219 \r\nL 420.028437 183.799219 \r\nL 420.028437 228.439219 \r\nL 375.388438 228.439219 \r\nL 375.388438 183.799219 \r\n\" style=\"fill:#fac8af;\"/>\r\n    <path clip-path=\"url(#p69f79b8a5d)\" d=\"M 420.028437 183.799219 \r\nL 464.668437 183.799219 \r\nL 464.668437 228.439219 \r\nL 420.028437 228.439219 \r\nL 420.028437 183.799219 \r\n\" style=\"fill:#fbe6da;\"/>\r\n    <path clip-path=\"url(#p69f79b8a5d)\" d=\"M 107.548438 228.439219 \r\nL 152.188438 228.439219 \r\nL 152.188438 273.079219 \r\nL 107.548438 273.079219 \r\nL 107.548438 228.439219 \r\n\" style=\"fill:#e8896c;\"/>\r\n    <path clip-path=\"url(#p69f79b8a5d)\" d=\"M 152.188438 228.439219 \r\nL 196.828438 228.439219 \r\nL 196.828438 273.079219 \r\nL 152.188438 273.079219 \r\nL 152.188438 228.439219 \r\n\" style=\"fill:#e6eff4;\"/>\r\n    <path clip-path=\"url(#p69f79b8a5d)\" d=\"M 196.828438 228.439219 \r\nL 241.468438 228.439219 \r\nL 241.468438 273.079219 \r\nL 196.828438 273.079219 \r\nL 196.828438 228.439219 \r\n\" style=\"fill:#db6b55;\"/>\r\n    <path clip-path=\"url(#p69f79b8a5d)\" d=\"M 241.468438 228.439219 \r\nL 286.108438 228.439219 \r\nL 286.108438 273.079219 \r\nL 241.468438 273.079219 \r\nL 241.468438 228.439219 \r\n\" style=\"fill:#fce2d2;\"/>\r\n    <path clip-path=\"url(#p69f79b8a5d)\" d=\"M 286.108438 228.439219 \r\nL 330.748438 228.439219 \r\nL 330.748438 273.079219 \r\nL 286.108438 273.079219 \r\nL 286.108438 228.439219 \r\n\" style=\"fill:#67001f;\"/>\r\n    <path clip-path=\"url(#p69f79b8a5d)\" d=\"M 330.748438 228.439219 \r\nL 375.388438 228.439219 \r\nL 375.388438 273.079219 \r\nL 330.748438 273.079219 \r\nL 330.748438 228.439219 \r\n\" style=\"fill:#fcd7c2;\"/>\r\n    <path clip-path=\"url(#p69f79b8a5d)\" d=\"M 375.388438 228.439219 \r\nL 420.028437 228.439219 \r\nL 420.028437 273.079219 \r\nL 375.388438 273.079219 \r\nL 375.388438 228.439219 \r\n\" style=\"fill:#9c1127;\"/>\r\n    <path clip-path=\"url(#p69f79b8a5d)\" d=\"M 420.028437 228.439219 \r\nL 464.668437 228.439219 \r\nL 464.668437 273.079219 \r\nL 420.028437 273.079219 \r\nL 420.028437 228.439219 \r\n\" style=\"fill:#fcdecd;\"/>\r\n    <path clip-path=\"url(#p69f79b8a5d)\" d=\"M 107.548438 273.079219 \r\nL 152.188438 273.079219 \r\nL 152.188438 317.719219 \r\nL 107.548438 317.719219 \r\nL 107.548438 273.079219 \r\n\" style=\"fill:#f7b99c;\"/>\r\n    <path clip-path=\"url(#p69f79b8a5d)\" d=\"M 152.188438 273.079219 \r\nL 196.828438 273.079219 \r\nL 196.828438 317.719219 \r\nL 152.188438 317.719219 \r\nL 152.188438 273.079219 \r\n\" style=\"fill:#e0ecf3;\"/>\r\n    <path clip-path=\"url(#p69f79b8a5d)\" d=\"M 196.828438 273.079219 \r\nL 241.468438 273.079219 \r\nL 241.468438 317.719219 \r\nL 196.828438 317.719219 \r\nL 196.828438 273.079219 \r\n\" style=\"fill:#fce0d0;\"/>\r\n    <path clip-path=\"url(#p69f79b8a5d)\" d=\"M 241.468438 273.079219 \r\nL 286.108438 273.079219 \r\nL 286.108438 317.719219 \r\nL 241.468438 317.719219 \r\nL 241.468438 273.079219 \r\n\" style=\"fill:#f9ede5;\"/>\r\n    <path clip-path=\"url(#p69f79b8a5d)\" d=\"M 286.108438 273.079219 \r\nL 330.748438 273.079219 \r\nL 330.748438 317.719219 \r\nL 286.108438 317.719219 \r\nL 286.108438 273.079219 \r\n\" style=\"fill:#fcd7c2;\"/>\r\n    <path clip-path=\"url(#p69f79b8a5d)\" d=\"M 330.748438 273.079219 \r\nL 375.388438 273.079219 \r\nL 375.388438 317.719219 \r\nL 330.748438 317.719219 \r\nL 330.748438 273.079219 \r\n\" style=\"fill:#67001f;\"/>\r\n    <path clip-path=\"url(#p69f79b8a5d)\" d=\"M 375.388438 273.079219 \r\nL 420.028437 273.079219 \r\nL 420.028437 317.719219 \r\nL 375.388438 317.719219 \r\nL 375.388438 273.079219 \r\n\" style=\"fill:#f9c6ac;\"/>\r\n    <path clip-path=\"url(#p69f79b8a5d)\" d=\"M 420.028437 273.079219 \r\nL 464.668437 273.079219 \r\nL 464.668437 317.719219 \r\nL 420.028437 317.719219 \r\nL 420.028437 273.079219 \r\n\" style=\"fill:#f6f7f7;\"/>\r\n    <path clip-path=\"url(#p69f79b8a5d)\" d=\"M 107.548438 317.719219 \r\nL 152.188438 317.719219 \r\nL 152.188438 362.359219 \r\nL 107.548438 362.359219 \r\nL 107.548438 317.719219 \r\n\" style=\"fill:#b1182b;\"/>\r\n    <path clip-path=\"url(#p69f79b8a5d)\" d=\"M 152.188438 317.719219 \r\nL 196.828438 317.719219 \r\nL 196.828438 362.359219 \r\nL 152.188438 362.359219 \r\nL 152.188438 317.719219 \r\n\" style=\"fill:#f8f3f0;\"/>\r\n    <path clip-path=\"url(#p69f79b8a5d)\" d=\"M 196.828438 317.719219 \r\nL 241.468438 317.719219 \r\nL 241.468438 362.359219 \r\nL 196.828438 362.359219 \r\nL 196.828438 317.719219 \r\n\" style=\"fill:#f4a683;\"/>\r\n    <path clip-path=\"url(#p69f79b8a5d)\" d=\"M 241.468438 317.719219 \r\nL 286.108438 317.719219 \r\nL 286.108438 362.359219 \r\nL 241.468438 362.359219 \r\nL 241.468438 317.719219 \r\n\" style=\"fill:#fac8af;\"/>\r\n    <path clip-path=\"url(#p69f79b8a5d)\" d=\"M 286.108438 317.719219 \r\nL 330.748438 317.719219 \r\nL 330.748438 362.359219 \r\nL 286.108438 362.359219 \r\nL 286.108438 317.719219 \r\n\" style=\"fill:#9c1127;\"/>\r\n    <path clip-path=\"url(#p69f79b8a5d)\" d=\"M 330.748438 317.719219 \r\nL 375.388438 317.719219 \r\nL 375.388438 362.359219 \r\nL 330.748438 362.359219 \r\nL 330.748438 317.719219 \r\n\" style=\"fill:#f9c6ac;\"/>\r\n    <path clip-path=\"url(#p69f79b8a5d)\" d=\"M 375.388438 317.719219 \r\nL 420.028437 317.719219 \r\nL 420.028437 362.359219 \r\nL 375.388438 362.359219 \r\nL 375.388438 317.719219 \r\n\" style=\"fill:#67001f;\"/>\r\n    <path clip-path=\"url(#p69f79b8a5d)\" d=\"M 420.028437 317.719219 \r\nL 464.668437 317.719219 \r\nL 464.668437 362.359219 \r\nL 420.028437 362.359219 \r\nL 420.028437 317.719219 \r\n\" style=\"fill:#f9c4a9;\"/>\r\n    <path clip-path=\"url(#p69f79b8a5d)\" d=\"M 107.548438 362.359219 \r\nL 152.188438 362.359219 \r\nL 152.188438 406.999219 \r\nL 107.548438 406.999219 \r\nL 107.548438 362.359219 \r\n\" style=\"fill:#fddbc7;\"/>\r\n    <path clip-path=\"url(#p69f79b8a5d)\" d=\"M 152.188438 362.359219 \r\nL 196.828438 362.359219 \r\nL 196.828438 406.999219 \r\nL 152.188438 406.999219 \r\nL 152.188438 362.359219 \r\n\" style=\"fill:#f9eee7;\"/>\r\n    <path clip-path=\"url(#p69f79b8a5d)\" d=\"M 196.828438 362.359219 \r\nL 241.468438 362.359219 \r\nL 241.468438 406.999219 \r\nL 196.828438 406.999219 \r\nL 196.828438 362.359219 \r\n\" style=\"fill:#f9ede5;\"/>\r\n    <path clip-path=\"url(#p69f79b8a5d)\" d=\"M 241.468438 362.359219 \r\nL 286.108438 362.359219 \r\nL 286.108438 406.999219 \r\nL 241.468438 406.999219 \r\nL 241.468438 362.359219 \r\n\" style=\"fill:#fbe6da;\"/>\r\n    <path clip-path=\"url(#p69f79b8a5d)\" d=\"M 286.108438 362.359219 \r\nL 330.748438 362.359219 \r\nL 330.748438 406.999219 \r\nL 286.108438 406.999219 \r\nL 286.108438 362.359219 \r\n\" style=\"fill:#fcdecd;\"/>\r\n    <path clip-path=\"url(#p69f79b8a5d)\" d=\"M 330.748438 362.359219 \r\nL 375.388438 362.359219 \r\nL 375.388438 406.999219 \r\nL 330.748438 406.999219 \r\nL 330.748438 362.359219 \r\n\" style=\"fill:#f6f7f7;\"/>\r\n    <path clip-path=\"url(#p69f79b8a5d)\" d=\"M 375.388438 362.359219 \r\nL 420.028437 362.359219 \r\nL 420.028437 406.999219 \r\nL 375.388438 406.999219 \r\nL 375.388438 362.359219 \r\n\" style=\"fill:#f9c4a9;\"/>\r\n    <path clip-path=\"url(#p69f79b8a5d)\" d=\"M 420.028437 362.359219 \r\nL 464.668437 362.359219 \r\nL 464.668437 406.999219 \r\nL 420.028437 406.999219 \r\nL 420.028437 362.359219 \r\n\" style=\"fill:#67001f;\"/>\r\n   </g>\r\n   <g id=\"matplotlib.axis_1\">\r\n    <g id=\"xtick_1\">\r\n     <g id=\"line2d_1\">\r\n      <defs>\r\n       <path d=\"M 0 0 \r\nL 0 3.5 \r\n\" id=\"m6ab11230e0\" style=\"stroke:#000000;stroke-width:0.8;\"/>\r\n      </defs>\r\n      <g>\r\n       <use style=\"stroke:#000000;stroke-width:0.8;\" x=\"129.868437\" xlink:href=\"#m6ab11230e0\" y=\"406.999219\"/>\r\n      </g>\r\n     </g>\r\n     <g id=\"text_1\">\r\n      <!-- sellingPrice -->\r\n      <g transform=\"translate(132.627813 470.777344)rotate(-90)scale(0.1 -0.1)\">\r\n       <defs>\r\n        <path d=\"M 44.28125 53.078125 \r\nL 44.28125 44.578125 \r\nQ 40.484375 46.53125 36.375 47.5 \r\nQ 32.28125 48.484375 27.875 48.484375 \r\nQ 21.1875 48.484375 17.84375 46.4375 \r\nQ 14.5 44.390625 14.5 40.28125 \r\nQ 14.5 37.15625 16.890625 35.375 \r\nQ 19.28125 33.59375 26.515625 31.984375 \r\nL 29.59375 31.296875 \r\nQ 39.15625 29.25 43.1875 25.515625 \r\nQ 47.21875 21.78125 47.21875 15.09375 \r\nQ 47.21875 7.46875 41.1875 3.015625 \r\nQ 35.15625 -1.421875 24.609375 -1.421875 \r\nQ 20.21875 -1.421875 15.453125 -0.5625 \r\nQ 10.6875 0.296875 5.421875 2 \r\nL 5.421875 11.28125 \r\nQ 10.40625 8.6875 15.234375 7.390625 \r\nQ 20.0625 6.109375 24.8125 6.109375 \r\nQ 31.15625 6.109375 34.5625 8.28125 \r\nQ 37.984375 10.453125 37.984375 14.40625 \r\nQ 37.984375 18.0625 35.515625 20.015625 \r\nQ 33.0625 21.96875 24.703125 23.78125 \r\nL 21.578125 24.515625 \r\nQ 13.234375 26.265625 9.515625 29.90625 \r\nQ 5.8125 33.546875 5.8125 39.890625 \r\nQ 5.8125 47.609375 11.28125 51.796875 \r\nQ 16.75 56 26.8125 56 \r\nQ 31.78125 56 36.171875 55.265625 \r\nQ 40.578125 54.546875 44.28125 53.078125 \r\nz\r\n\" id=\"DejaVuSans-115\"/>\r\n        <path d=\"M 56.203125 29.59375 \r\nL 56.203125 25.203125 \r\nL 14.890625 25.203125 \r\nQ 15.484375 15.921875 20.484375 11.0625 \r\nQ 25.484375 6.203125 34.421875 6.203125 \r\nQ 39.59375 6.203125 44.453125 7.46875 \r\nQ 49.3125 8.734375 54.109375 11.28125 \r\nL 54.109375 2.78125 \r\nQ 49.265625 0.734375 44.1875 -0.34375 \r\nQ 39.109375 -1.421875 33.890625 -1.421875 \r\nQ 20.796875 -1.421875 13.15625 6.1875 \r\nQ 5.515625 13.8125 5.515625 26.8125 \r\nQ 5.515625 40.234375 12.765625 48.109375 \r\nQ 20.015625 56 32.328125 56 \r\nQ 43.359375 56 49.78125 48.890625 \r\nQ 56.203125 41.796875 56.203125 29.59375 \r\nz\r\nM 47.21875 32.234375 \r\nQ 47.125 39.59375 43.09375 43.984375 \r\nQ 39.0625 48.390625 32.421875 48.390625 \r\nQ 24.90625 48.390625 20.390625 44.140625 \r\nQ 15.875 39.890625 15.1875 32.171875 \r\nz\r\n\" id=\"DejaVuSans-101\"/>\r\n        <path d=\"M 9.421875 75.984375 \r\nL 18.40625 75.984375 \r\nL 18.40625 0 \r\nL 9.421875 0 \r\nz\r\n\" id=\"DejaVuSans-108\"/>\r\n        <path d=\"M 9.421875 54.6875 \r\nL 18.40625 54.6875 \r\nL 18.40625 0 \r\nL 9.421875 0 \r\nz\r\nM 9.421875 75.984375 \r\nL 18.40625 75.984375 \r\nL 18.40625 64.59375 \r\nL 9.421875 64.59375 \r\nz\r\n\" id=\"DejaVuSans-105\"/>\r\n        <path d=\"M 54.890625 33.015625 \r\nL 54.890625 0 \r\nL 45.90625 0 \r\nL 45.90625 32.71875 \r\nQ 45.90625 40.484375 42.875 44.328125 \r\nQ 39.84375 48.1875 33.796875 48.1875 \r\nQ 26.515625 48.1875 22.3125 43.546875 \r\nQ 18.109375 38.921875 18.109375 30.90625 \r\nL 18.109375 0 \r\nL 9.078125 0 \r\nL 9.078125 54.6875 \r\nL 18.109375 54.6875 \r\nL 18.109375 46.1875 \r\nQ 21.34375 51.125 25.703125 53.5625 \r\nQ 30.078125 56 35.796875 56 \r\nQ 45.21875 56 50.046875 50.171875 \r\nQ 54.890625 44.34375 54.890625 33.015625 \r\nz\r\n\" id=\"DejaVuSans-110\"/>\r\n        <path d=\"M 45.40625 27.984375 \r\nQ 45.40625 37.75 41.375 43.109375 \r\nQ 37.359375 48.484375 30.078125 48.484375 \r\nQ 22.859375 48.484375 18.828125 43.109375 \r\nQ 14.796875 37.75 14.796875 27.984375 \r\nQ 14.796875 18.265625 18.828125 12.890625 \r\nQ 22.859375 7.515625 30.078125 7.515625 \r\nQ 37.359375 7.515625 41.375 12.890625 \r\nQ 45.40625 18.265625 45.40625 27.984375 \r\nz\r\nM 54.390625 6.78125 \r\nQ 54.390625 -7.171875 48.1875 -13.984375 \r\nQ 42 -20.796875 29.203125 -20.796875 \r\nQ 24.46875 -20.796875 20.265625 -20.09375 \r\nQ 16.0625 -19.390625 12.109375 -17.921875 \r\nL 12.109375 -9.1875 \r\nQ 16.0625 -11.328125 19.921875 -12.34375 \r\nQ 23.78125 -13.375 27.78125 -13.375 \r\nQ 36.625 -13.375 41.015625 -8.765625 \r\nQ 45.40625 -4.15625 45.40625 5.171875 \r\nL 45.40625 9.625 \r\nQ 42.625 4.78125 38.28125 2.390625 \r\nQ 33.9375 0 27.875 0 \r\nQ 17.828125 0 11.671875 7.65625 \r\nQ 5.515625 15.328125 5.515625 27.984375 \r\nQ 5.515625 40.671875 11.671875 48.328125 \r\nQ 17.828125 56 27.875 56 \r\nQ 33.9375 56 38.28125 53.609375 \r\nQ 42.625 51.21875 45.40625 46.390625 \r\nL 45.40625 54.6875 \r\nL 54.390625 54.6875 \r\nz\r\n\" id=\"DejaVuSans-103\"/>\r\n        <path d=\"M 19.671875 64.796875 \r\nL 19.671875 37.40625 \r\nL 32.078125 37.40625 \r\nQ 38.96875 37.40625 42.71875 40.96875 \r\nQ 46.484375 44.53125 46.484375 51.125 \r\nQ 46.484375 57.671875 42.71875 61.234375 \r\nQ 38.96875 64.796875 32.078125 64.796875 \r\nz\r\nM 9.8125 72.90625 \r\nL 32.078125 72.90625 \r\nQ 44.34375 72.90625 50.609375 67.359375 \r\nQ 56.890625 61.8125 56.890625 51.125 \r\nQ 56.890625 40.328125 50.609375 34.8125 \r\nQ 44.34375 29.296875 32.078125 29.296875 \r\nL 19.671875 29.296875 \r\nL 19.671875 0 \r\nL 9.8125 0 \r\nz\r\n\" id=\"DejaVuSans-80\"/>\r\n        <path d=\"M 41.109375 46.296875 \r\nQ 39.59375 47.171875 37.8125 47.578125 \r\nQ 36.03125 48 33.890625 48 \r\nQ 26.265625 48 22.1875 43.046875 \r\nQ 18.109375 38.09375 18.109375 28.8125 \r\nL 18.109375 0 \r\nL 9.078125 0 \r\nL 9.078125 54.6875 \r\nL 18.109375 54.6875 \r\nL 18.109375 46.1875 \r\nQ 20.953125 51.171875 25.484375 53.578125 \r\nQ 30.03125 56 36.53125 56 \r\nQ 37.453125 56 38.578125 55.875 \r\nQ 39.703125 55.765625 41.0625 55.515625 \r\nz\r\n\" id=\"DejaVuSans-114\"/>\r\n        <path d=\"M 48.78125 52.59375 \r\nL 48.78125 44.1875 \r\nQ 44.96875 46.296875 41.140625 47.34375 \r\nQ 37.3125 48.390625 33.40625 48.390625 \r\nQ 24.65625 48.390625 19.8125 42.84375 \r\nQ 14.984375 37.3125 14.984375 27.296875 \r\nQ 14.984375 17.28125 19.8125 11.734375 \r\nQ 24.65625 6.203125 33.40625 6.203125 \r\nQ 37.3125 6.203125 41.140625 7.25 \r\nQ 44.96875 8.296875 48.78125 10.40625 \r\nL 48.78125 2.09375 \r\nQ 45.015625 0.34375 40.984375 -0.53125 \r\nQ 36.96875 -1.421875 32.421875 -1.421875 \r\nQ 20.0625 -1.421875 12.78125 6.34375 \r\nQ 5.515625 14.109375 5.515625 27.296875 \r\nQ 5.515625 40.671875 12.859375 48.328125 \r\nQ 20.21875 56 33.015625 56 \r\nQ 37.15625 56 41.109375 55.140625 \r\nQ 45.0625 54.296875 48.78125 52.59375 \r\nz\r\n\" id=\"DejaVuSans-99\"/>\r\n       </defs>\r\n       <use xlink:href=\"#DejaVuSans-115\"/>\r\n       <use x=\"52.099609\" xlink:href=\"#DejaVuSans-101\"/>\r\n       <use x=\"113.623047\" xlink:href=\"#DejaVuSans-108\"/>\r\n       <use x=\"141.40625\" xlink:href=\"#DejaVuSans-108\"/>\r\n       <use x=\"169.189453\" xlink:href=\"#DejaVuSans-105\"/>\r\n       <use x=\"196.972656\" xlink:href=\"#DejaVuSans-110\"/>\r\n       <use x=\"260.351562\" xlink:href=\"#DejaVuSans-103\"/>\r\n       <use x=\"323.828125\" xlink:href=\"#DejaVuSans-80\"/>\r\n       <use x=\"382.380859\" xlink:href=\"#DejaVuSans-114\"/>\r\n       <use x=\"423.494141\" xlink:href=\"#DejaVuSans-105\"/>\r\n       <use x=\"451.277344\" xlink:href=\"#DejaVuSans-99\"/>\r\n       <use x=\"506.257812\" xlink:href=\"#DejaVuSans-101\"/>\r\n      </g>\r\n     </g>\r\n    </g>\r\n    <g id=\"xtick_2\">\r\n     <g id=\"line2d_2\">\r\n      <g>\r\n       <use style=\"stroke:#000000;stroke-width:0.8;\" x=\"174.508438\" xlink:href=\"#m6ab11230e0\" y=\"406.999219\"/>\r\n      </g>\r\n     </g>\r\n     <g id=\"text_2\">\r\n      <!-- yearOfBuilding -->\r\n      <g transform=\"translate(177.267813 488.269531)rotate(-90)scale(0.1 -0.1)\">\r\n       <defs>\r\n        <path d=\"M 32.171875 -5.078125 \r\nQ 28.375 -14.84375 24.75 -17.8125 \r\nQ 21.140625 -20.796875 15.09375 -20.796875 \r\nL 7.90625 -20.796875 \r\nL 7.90625 -13.28125 \r\nL 13.1875 -13.28125 \r\nQ 16.890625 -13.28125 18.9375 -11.515625 \r\nQ 21 -9.765625 23.484375 -3.21875 \r\nL 25.09375 0.875 \r\nL 2.984375 54.6875 \r\nL 12.5 54.6875 \r\nL 29.59375 11.921875 \r\nL 46.6875 54.6875 \r\nL 56.203125 54.6875 \r\nz\r\n\" id=\"DejaVuSans-121\"/>\r\n        <path d=\"M 34.28125 27.484375 \r\nQ 23.390625 27.484375 19.1875 25 \r\nQ 14.984375 22.515625 14.984375 16.5 \r\nQ 14.984375 11.71875 18.140625 8.90625 \r\nQ 21.296875 6.109375 26.703125 6.109375 \r\nQ 34.1875 6.109375 38.703125 11.40625 \r\nQ 43.21875 16.703125 43.21875 25.484375 \r\nL 43.21875 27.484375 \r\nz\r\nM 52.203125 31.203125 \r\nL 52.203125 0 \r\nL 43.21875 0 \r\nL 43.21875 8.296875 \r\nQ 40.140625 3.328125 35.546875 0.953125 \r\nQ 30.953125 -1.421875 24.3125 -1.421875 \r\nQ 15.921875 -1.421875 10.953125 3.296875 \r\nQ 6 8.015625 6 15.921875 \r\nQ 6 25.140625 12.171875 29.828125 \r\nQ 18.359375 34.515625 30.609375 34.515625 \r\nL 43.21875 34.515625 \r\nL 43.21875 35.40625 \r\nQ 43.21875 41.609375 39.140625 45 \r\nQ 35.0625 48.390625 27.6875 48.390625 \r\nQ 23 48.390625 18.546875 47.265625 \r\nQ 14.109375 46.140625 10.015625 43.890625 \r\nL 10.015625 52.203125 \r\nQ 14.9375 54.109375 19.578125 55.046875 \r\nQ 24.21875 56 28.609375 56 \r\nQ 40.484375 56 46.34375 49.84375 \r\nQ 52.203125 43.703125 52.203125 31.203125 \r\nz\r\n\" id=\"DejaVuSans-97\"/>\r\n        <path d=\"M 39.40625 66.21875 \r\nQ 28.65625 66.21875 22.328125 58.203125 \r\nQ 16.015625 50.203125 16.015625 36.375 \r\nQ 16.015625 22.609375 22.328125 14.59375 \r\nQ 28.65625 6.59375 39.40625 6.59375 \r\nQ 50.140625 6.59375 56.421875 14.59375 \r\nQ 62.703125 22.609375 62.703125 36.375 \r\nQ 62.703125 50.203125 56.421875 58.203125 \r\nQ 50.140625 66.21875 39.40625 66.21875 \r\nz\r\nM 39.40625 74.21875 \r\nQ 54.734375 74.21875 63.90625 63.9375 \r\nQ 73.09375 53.65625 73.09375 36.375 \r\nQ 73.09375 19.140625 63.90625 8.859375 \r\nQ 54.734375 -1.421875 39.40625 -1.421875 \r\nQ 24.03125 -1.421875 14.8125 8.828125 \r\nQ 5.609375 19.09375 5.609375 36.375 \r\nQ 5.609375 53.65625 14.8125 63.9375 \r\nQ 24.03125 74.21875 39.40625 74.21875 \r\nz\r\n\" id=\"DejaVuSans-79\"/>\r\n        <path d=\"M 37.109375 75.984375 \r\nL 37.109375 68.5 \r\nL 28.515625 68.5 \r\nQ 23.6875 68.5 21.796875 66.546875 \r\nQ 19.921875 64.59375 19.921875 59.515625 \r\nL 19.921875 54.6875 \r\nL 34.71875 54.6875 \r\nL 34.71875 47.703125 \r\nL 19.921875 47.703125 \r\nL 19.921875 0 \r\nL 10.890625 0 \r\nL 10.890625 47.703125 \r\nL 2.296875 47.703125 \r\nL 2.296875 54.6875 \r\nL 10.890625 54.6875 \r\nL 10.890625 58.5 \r\nQ 10.890625 67.625 15.140625 71.796875 \r\nQ 19.390625 75.984375 28.609375 75.984375 \r\nz\r\n\" id=\"DejaVuSans-102\"/>\r\n        <path d=\"M 19.671875 34.8125 \r\nL 19.671875 8.109375 \r\nL 35.5 8.109375 \r\nQ 43.453125 8.109375 47.28125 11.40625 \r\nQ 51.125 14.703125 51.125 21.484375 \r\nQ 51.125 28.328125 47.28125 31.5625 \r\nQ 43.453125 34.8125 35.5 34.8125 \r\nz\r\nM 19.671875 64.796875 \r\nL 19.671875 42.828125 \r\nL 34.28125 42.828125 \r\nQ 41.5 42.828125 45.03125 45.53125 \r\nQ 48.578125 48.25 48.578125 53.8125 \r\nQ 48.578125 59.328125 45.03125 62.0625 \r\nQ 41.5 64.796875 34.28125 64.796875 \r\nz\r\nM 9.8125 72.90625 \r\nL 35.015625 72.90625 \r\nQ 46.296875 72.90625 52.390625 68.21875 \r\nQ 58.5 63.53125 58.5 54.890625 \r\nQ 58.5 48.1875 55.375 44.234375 \r\nQ 52.25 40.28125 46.1875 39.3125 \r\nQ 53.46875 37.75 57.5 32.78125 \r\nQ 61.53125 27.828125 61.53125 20.40625 \r\nQ 61.53125 10.640625 54.890625 5.3125 \r\nQ 48.25 0 35.984375 0 \r\nL 9.8125 0 \r\nz\r\n\" id=\"DejaVuSans-66\"/>\r\n        <path d=\"M 8.5 21.578125 \r\nL 8.5 54.6875 \r\nL 17.484375 54.6875 \r\nL 17.484375 21.921875 \r\nQ 17.484375 14.15625 20.5 10.265625 \r\nQ 23.53125 6.390625 29.59375 6.390625 \r\nQ 36.859375 6.390625 41.078125 11.03125 \r\nQ 45.3125 15.671875 45.3125 23.6875 \r\nL 45.3125 54.6875 \r\nL 54.296875 54.6875 \r\nL 54.296875 0 \r\nL 45.3125 0 \r\nL 45.3125 8.40625 \r\nQ 42.046875 3.421875 37.71875 1 \r\nQ 33.40625 -1.421875 27.6875 -1.421875 \r\nQ 18.265625 -1.421875 13.375 4.4375 \r\nQ 8.5 10.296875 8.5 21.578125 \r\nz\r\nM 31.109375 56 \r\nz\r\n\" id=\"DejaVuSans-117\"/>\r\n        <path d=\"M 45.40625 46.390625 \r\nL 45.40625 75.984375 \r\nL 54.390625 75.984375 \r\nL 54.390625 0 \r\nL 45.40625 0 \r\nL 45.40625 8.203125 \r\nQ 42.578125 3.328125 38.25 0.953125 \r\nQ 33.9375 -1.421875 27.875 -1.421875 \r\nQ 17.96875 -1.421875 11.734375 6.484375 \r\nQ 5.515625 14.40625 5.515625 27.296875 \r\nQ 5.515625 40.1875 11.734375 48.09375 \r\nQ 17.96875 56 27.875 56 \r\nQ 33.9375 56 38.25 53.625 \r\nQ 42.578125 51.265625 45.40625 46.390625 \r\nz\r\nM 14.796875 27.296875 \r\nQ 14.796875 17.390625 18.875 11.75 \r\nQ 22.953125 6.109375 30.078125 6.109375 \r\nQ 37.203125 6.109375 41.296875 11.75 \r\nQ 45.40625 17.390625 45.40625 27.296875 \r\nQ 45.40625 37.203125 41.296875 42.84375 \r\nQ 37.203125 48.484375 30.078125 48.484375 \r\nQ 22.953125 48.484375 18.875 42.84375 \r\nQ 14.796875 37.203125 14.796875 27.296875 \r\nz\r\n\" id=\"DejaVuSans-100\"/>\r\n       </defs>\r\n       <use xlink:href=\"#DejaVuSans-121\"/>\r\n       <use x=\"59.179688\" xlink:href=\"#DejaVuSans-101\"/>\r\n       <use x=\"120.703125\" xlink:href=\"#DejaVuSans-97\"/>\r\n       <use x=\"181.982422\" xlink:href=\"#DejaVuSans-114\"/>\r\n       <use x=\"223.095703\" xlink:href=\"#DejaVuSans-79\"/>\r\n       <use x=\"301.806641\" xlink:href=\"#DejaVuSans-102\"/>\r\n       <use x=\"337.011719\" xlink:href=\"#DejaVuSans-66\"/>\r\n       <use x=\"405.615234\" xlink:href=\"#DejaVuSans-117\"/>\r\n       <use x=\"468.994141\" xlink:href=\"#DejaVuSans-105\"/>\r\n       <use x=\"496.777344\" xlink:href=\"#DejaVuSans-108\"/>\r\n       <use x=\"524.560547\" xlink:href=\"#DejaVuSans-100\"/>\r\n       <use x=\"588.037109\" xlink:href=\"#DejaVuSans-105\"/>\r\n       <use x=\"615.820312\" xlink:href=\"#DejaVuSans-110\"/>\r\n       <use x=\"679.199219\" xlink:href=\"#DejaVuSans-103\"/>\r\n      </g>\r\n     </g>\r\n    </g>\r\n    <g id=\"xtick_3\">\r\n     <g id=\"line2d_3\">\r\n      <g>\r\n       <use style=\"stroke:#000000;stroke-width:0.8;\" x=\"219.148438\" xlink:href=\"#m6ab11230e0\" y=\"406.999219\"/>\r\n      </g>\r\n     </g>\r\n     <g id=\"text_3\">\r\n      <!-- garden -->\r\n      <g transform=\"translate(221.907813 449.250781)rotate(-90)scale(0.1 -0.1)\">\r\n       <use xlink:href=\"#DejaVuSans-103\"/>\r\n       <use x=\"63.476562\" xlink:href=\"#DejaVuSans-97\"/>\r\n       <use x=\"124.755859\" xlink:href=\"#DejaVuSans-114\"/>\r\n       <use x=\"164.119141\" xlink:href=\"#DejaVuSans-100\"/>\r\n       <use x=\"227.595703\" xlink:href=\"#DejaVuSans-101\"/>\r\n       <use x=\"289.119141\" xlink:href=\"#DejaVuSans-110\"/>\r\n      </g>\r\n     </g>\r\n    </g>\r\n    <g id=\"xtick_4\">\r\n     <g id=\"line2d_4\">\r\n      <g>\r\n       <use style=\"stroke:#000000;stroke-width:0.8;\" x=\"263.788437\" xlink:href=\"#m6ab11230e0\" y=\"406.999219\"/>\r\n      </g>\r\n     </g>\r\n     <g id=\"text_4\">\r\n      <!-- parcelSurface -->\r\n      <g transform=\"translate(266.547812 482.888281)rotate(-90)scale(0.1 -0.1)\">\r\n       <defs>\r\n        <path d=\"M 18.109375 8.203125 \r\nL 18.109375 -20.796875 \r\nL 9.078125 -20.796875 \r\nL 9.078125 54.6875 \r\nL 18.109375 54.6875 \r\nL 18.109375 46.390625 \r\nQ 20.953125 51.265625 25.265625 53.625 \r\nQ 29.59375 56 35.59375 56 \r\nQ 45.5625 56 51.78125 48.09375 \r\nQ 58.015625 40.1875 58.015625 27.296875 \r\nQ 58.015625 14.40625 51.78125 6.484375 \r\nQ 45.5625 -1.421875 35.59375 -1.421875 \r\nQ 29.59375 -1.421875 25.265625 0.953125 \r\nQ 20.953125 3.328125 18.109375 8.203125 \r\nz\r\nM 48.6875 27.296875 \r\nQ 48.6875 37.203125 44.609375 42.84375 \r\nQ 40.53125 48.484375 33.40625 48.484375 \r\nQ 26.265625 48.484375 22.1875 42.84375 \r\nQ 18.109375 37.203125 18.109375 27.296875 \r\nQ 18.109375 17.390625 22.1875 11.75 \r\nQ 26.265625 6.109375 33.40625 6.109375 \r\nQ 40.53125 6.109375 44.609375 11.75 \r\nQ 48.6875 17.390625 48.6875 27.296875 \r\nz\r\n\" id=\"DejaVuSans-112\"/>\r\n        <path d=\"M 53.515625 70.515625 \r\nL 53.515625 60.890625 \r\nQ 47.90625 63.578125 42.921875 64.890625 \r\nQ 37.9375 66.21875 33.296875 66.21875 \r\nQ 25.25 66.21875 20.875 63.09375 \r\nQ 16.5 59.96875 16.5 54.203125 \r\nQ 16.5 49.359375 19.40625 46.890625 \r\nQ 22.3125 44.4375 30.421875 42.921875 \r\nL 36.375 41.703125 \r\nQ 47.40625 39.59375 52.65625 34.296875 \r\nQ 57.90625 29 57.90625 20.125 \r\nQ 57.90625 9.515625 50.796875 4.046875 \r\nQ 43.703125 -1.421875 29.984375 -1.421875 \r\nQ 24.8125 -1.421875 18.96875 -0.25 \r\nQ 13.140625 0.921875 6.890625 3.21875 \r\nL 6.890625 13.375 \r\nQ 12.890625 10.015625 18.65625 8.296875 \r\nQ 24.421875 6.59375 29.984375 6.59375 \r\nQ 38.421875 6.59375 43.015625 9.90625 \r\nQ 47.609375 13.234375 47.609375 19.390625 \r\nQ 47.609375 24.75 44.3125 27.78125 \r\nQ 41.015625 30.8125 33.5 32.328125 \r\nL 27.484375 33.5 \r\nQ 16.453125 35.6875 11.515625 40.375 \r\nQ 6.59375 45.0625 6.59375 53.421875 \r\nQ 6.59375 63.09375 13.40625 68.65625 \r\nQ 20.21875 74.21875 32.171875 74.21875 \r\nQ 37.3125 74.21875 42.625 73.28125 \r\nQ 47.953125 72.359375 53.515625 70.515625 \r\nz\r\n\" id=\"DejaVuSans-83\"/>\r\n       </defs>\r\n       <use xlink:href=\"#DejaVuSans-112\"/>\r\n       <use x=\"63.476562\" xlink:href=\"#DejaVuSans-97\"/>\r\n       <use x=\"124.755859\" xlink:href=\"#DejaVuSans-114\"/>\r\n       <use x=\"163.619141\" xlink:href=\"#DejaVuSans-99\"/>\r\n       <use x=\"218.599609\" xlink:href=\"#DejaVuSans-101\"/>\r\n       <use x=\"280.123047\" xlink:href=\"#DejaVuSans-108\"/>\r\n       <use x=\"307.90625\" xlink:href=\"#DejaVuSans-83\"/>\r\n       <use x=\"371.382812\" xlink:href=\"#DejaVuSans-117\"/>\r\n       <use x=\"434.761719\" xlink:href=\"#DejaVuSans-114\"/>\r\n       <use x=\"475.875\" xlink:href=\"#DejaVuSans-102\"/>\r\n       <use x=\"511.080078\" xlink:href=\"#DejaVuSans-97\"/>\r\n       <use x=\"572.359375\" xlink:href=\"#DejaVuSans-99\"/>\r\n       <use x=\"627.339844\" xlink:href=\"#DejaVuSans-101\"/>\r\n      </g>\r\n     </g>\r\n    </g>\r\n    <g id=\"xtick_5\">\r\n     <g id=\"line2d_5\">\r\n      <g>\r\n       <use style=\"stroke:#000000;stroke-width:0.8;\" x=\"308.428437\" xlink:href=\"#m6ab11230e0\" y=\"406.999219\"/>\r\n      </g>\r\n     </g>\r\n     <g id=\"text_5\">\r\n      <!-- numberRooms -->\r\n      <g transform=\"translate(311.187812 486.713281)rotate(-90)scale(0.1 -0.1)\">\r\n       <defs>\r\n        <path d=\"M 52 44.1875 \r\nQ 55.375 50.25 60.0625 53.125 \r\nQ 64.75 56 71.09375 56 \r\nQ 79.640625 56 84.28125 50.015625 \r\nQ 88.921875 44.046875 88.921875 33.015625 \r\nL 88.921875 0 \r\nL 79.890625 0 \r\nL 79.890625 32.71875 \r\nQ 79.890625 40.578125 77.09375 44.375 \r\nQ 74.3125 48.1875 68.609375 48.1875 \r\nQ 61.625 48.1875 57.5625 43.546875 \r\nQ 53.515625 38.921875 53.515625 30.90625 \r\nL 53.515625 0 \r\nL 44.484375 0 \r\nL 44.484375 32.71875 \r\nQ 44.484375 40.625 41.703125 44.40625 \r\nQ 38.921875 48.1875 33.109375 48.1875 \r\nQ 26.21875 48.1875 22.15625 43.53125 \r\nQ 18.109375 38.875 18.109375 30.90625 \r\nL 18.109375 0 \r\nL 9.078125 0 \r\nL 9.078125 54.6875 \r\nL 18.109375 54.6875 \r\nL 18.109375 46.1875 \r\nQ 21.1875 51.21875 25.484375 53.609375 \r\nQ 29.78125 56 35.6875 56 \r\nQ 41.65625 56 45.828125 52.96875 \r\nQ 50 49.953125 52 44.1875 \r\nz\r\n\" id=\"DejaVuSans-109\"/>\r\n        <path d=\"M 48.6875 27.296875 \r\nQ 48.6875 37.203125 44.609375 42.84375 \r\nQ 40.53125 48.484375 33.40625 48.484375 \r\nQ 26.265625 48.484375 22.1875 42.84375 \r\nQ 18.109375 37.203125 18.109375 27.296875 \r\nQ 18.109375 17.390625 22.1875 11.75 \r\nQ 26.265625 6.109375 33.40625 6.109375 \r\nQ 40.53125 6.109375 44.609375 11.75 \r\nQ 48.6875 17.390625 48.6875 27.296875 \r\nz\r\nM 18.109375 46.390625 \r\nQ 20.953125 51.265625 25.265625 53.625 \r\nQ 29.59375 56 35.59375 56 \r\nQ 45.5625 56 51.78125 48.09375 \r\nQ 58.015625 40.1875 58.015625 27.296875 \r\nQ 58.015625 14.40625 51.78125 6.484375 \r\nQ 45.5625 -1.421875 35.59375 -1.421875 \r\nQ 29.59375 -1.421875 25.265625 0.953125 \r\nQ 20.953125 3.328125 18.109375 8.203125 \r\nL 18.109375 0 \r\nL 9.078125 0 \r\nL 9.078125 75.984375 \r\nL 18.109375 75.984375 \r\nz\r\n\" id=\"DejaVuSans-98\"/>\r\n        <path d=\"M 44.390625 34.1875 \r\nQ 47.5625 33.109375 50.5625 29.59375 \r\nQ 53.5625 26.078125 56.59375 19.921875 \r\nL 66.609375 0 \r\nL 56 0 \r\nL 46.6875 18.703125 \r\nQ 43.0625 26.03125 39.671875 28.421875 \r\nQ 36.28125 30.8125 30.421875 30.8125 \r\nL 19.671875 30.8125 \r\nL 19.671875 0 \r\nL 9.8125 0 \r\nL 9.8125 72.90625 \r\nL 32.078125 72.90625 \r\nQ 44.578125 72.90625 50.734375 67.671875 \r\nQ 56.890625 62.453125 56.890625 51.90625 \r\nQ 56.890625 45.015625 53.6875 40.46875 \r\nQ 50.484375 35.9375 44.390625 34.1875 \r\nz\r\nM 19.671875 64.796875 \r\nL 19.671875 38.921875 \r\nL 32.078125 38.921875 \r\nQ 39.203125 38.921875 42.84375 42.21875 \r\nQ 46.484375 45.515625 46.484375 51.90625 \r\nQ 46.484375 58.296875 42.84375 61.546875 \r\nQ 39.203125 64.796875 32.078125 64.796875 \r\nz\r\n\" id=\"DejaVuSans-82\"/>\r\n        <path d=\"M 30.609375 48.390625 \r\nQ 23.390625 48.390625 19.1875 42.75 \r\nQ 14.984375 37.109375 14.984375 27.296875 \r\nQ 14.984375 17.484375 19.15625 11.84375 \r\nQ 23.34375 6.203125 30.609375 6.203125 \r\nQ 37.796875 6.203125 41.984375 11.859375 \r\nQ 46.1875 17.53125 46.1875 27.296875 \r\nQ 46.1875 37.015625 41.984375 42.703125 \r\nQ 37.796875 48.390625 30.609375 48.390625 \r\nz\r\nM 30.609375 56 \r\nQ 42.328125 56 49.015625 48.375 \r\nQ 55.71875 40.765625 55.71875 27.296875 \r\nQ 55.71875 13.875 49.015625 6.21875 \r\nQ 42.328125 -1.421875 30.609375 -1.421875 \r\nQ 18.84375 -1.421875 12.171875 6.21875 \r\nQ 5.515625 13.875 5.515625 27.296875 \r\nQ 5.515625 40.765625 12.171875 48.375 \r\nQ 18.84375 56 30.609375 56 \r\nz\r\n\" id=\"DejaVuSans-111\"/>\r\n       </defs>\r\n       <use xlink:href=\"#DejaVuSans-110\"/>\r\n       <use x=\"63.378906\" xlink:href=\"#DejaVuSans-117\"/>\r\n       <use x=\"126.757812\" xlink:href=\"#DejaVuSans-109\"/>\r\n       <use x=\"224.169922\" xlink:href=\"#DejaVuSans-98\"/>\r\n       <use x=\"287.646484\" xlink:href=\"#DejaVuSans-101\"/>\r\n       <use x=\"349.169922\" xlink:href=\"#DejaVuSans-114\"/>\r\n       <use x=\"390.283203\" xlink:href=\"#DejaVuSans-82\"/>\r\n       <use x=\"455.265625\" xlink:href=\"#DejaVuSans-111\"/>\r\n       <use x=\"516.447266\" xlink:href=\"#DejaVuSans-111\"/>\r\n       <use x=\"577.628906\" xlink:href=\"#DejaVuSans-109\"/>\r\n       <use x=\"675.041016\" xlink:href=\"#DejaVuSans-115\"/>\r\n      </g>\r\n     </g>\r\n    </g>\r\n    <g id=\"xtick_6\">\r\n     <g id=\"line2d_6\">\r\n      <g>\r\n       <use style=\"stroke:#000000;stroke-width:0.8;\" x=\"353.068438\" xlink:href=\"#m6ab11230e0\" y=\"406.999219\"/>\r\n      </g>\r\n     </g>\r\n     <g id=\"text_6\">\r\n      <!-- numberBathrooms -->\r\n      <g transform=\"translate(355.827812 507.347656)rotate(-90)scale(0.1 -0.1)\">\r\n       <defs>\r\n        <path d=\"M 18.3125 70.21875 \r\nL 18.3125 54.6875 \r\nL 36.8125 54.6875 \r\nL 36.8125 47.703125 \r\nL 18.3125 47.703125 \r\nL 18.3125 18.015625 \r\nQ 18.3125 11.328125 20.140625 9.421875 \r\nQ 21.96875 7.515625 27.59375 7.515625 \r\nL 36.8125 7.515625 \r\nL 36.8125 0 \r\nL 27.59375 0 \r\nQ 17.1875 0 13.234375 3.875 \r\nQ 9.28125 7.765625 9.28125 18.015625 \r\nL 9.28125 47.703125 \r\nL 2.6875 47.703125 \r\nL 2.6875 54.6875 \r\nL 9.28125 54.6875 \r\nL 9.28125 70.21875 \r\nz\r\n\" id=\"DejaVuSans-116\"/>\r\n        <path d=\"M 54.890625 33.015625 \r\nL 54.890625 0 \r\nL 45.90625 0 \r\nL 45.90625 32.71875 \r\nQ 45.90625 40.484375 42.875 44.328125 \r\nQ 39.84375 48.1875 33.796875 48.1875 \r\nQ 26.515625 48.1875 22.3125 43.546875 \r\nQ 18.109375 38.921875 18.109375 30.90625 \r\nL 18.109375 0 \r\nL 9.078125 0 \r\nL 9.078125 75.984375 \r\nL 18.109375 75.984375 \r\nL 18.109375 46.1875 \r\nQ 21.34375 51.125 25.703125 53.5625 \r\nQ 30.078125 56 35.796875 56 \r\nQ 45.21875 56 50.046875 50.171875 \r\nQ 54.890625 44.34375 54.890625 33.015625 \r\nz\r\n\" id=\"DejaVuSans-104\"/>\r\n       </defs>\r\n       <use xlink:href=\"#DejaVuSans-110\"/>\r\n       <use x=\"63.378906\" xlink:href=\"#DejaVuSans-117\"/>\r\n       <use x=\"126.757812\" xlink:href=\"#DejaVuSans-109\"/>\r\n       <use x=\"224.169922\" xlink:href=\"#DejaVuSans-98\"/>\r\n       <use x=\"287.646484\" xlink:href=\"#DejaVuSans-101\"/>\r\n       <use x=\"349.169922\" xlink:href=\"#DejaVuSans-114\"/>\r\n       <use x=\"390.283203\" xlink:href=\"#DejaVuSans-66\"/>\r\n       <use x=\"458.886719\" xlink:href=\"#DejaVuSans-97\"/>\r\n       <use x=\"520.166016\" xlink:href=\"#DejaVuSans-116\"/>\r\n       <use x=\"559.375\" xlink:href=\"#DejaVuSans-104\"/>\r\n       <use x=\"622.753906\" xlink:href=\"#DejaVuSans-114\"/>\r\n       <use x=\"661.617188\" xlink:href=\"#DejaVuSans-111\"/>\r\n       <use x=\"722.798828\" xlink:href=\"#DejaVuSans-111\"/>\r\n       <use x=\"783.980469\" xlink:href=\"#DejaVuSans-109\"/>\r\n       <use x=\"881.392578\" xlink:href=\"#DejaVuSans-115\"/>\r\n      </g>\r\n     </g>\r\n    </g>\r\n    <g id=\"xtick_7\">\r\n     <g id=\"line2d_7\">\r\n      <g>\r\n       <use style=\"stroke:#000000;stroke-width:0.8;\" x=\"397.708438\" xlink:href=\"#m6ab11230e0\" y=\"406.999219\"/>\r\n      </g>\r\n     </g>\r\n     <g id=\"text_7\">\r\n      <!-- surface -->\r\n      <g transform=\"translate(400.467813 450.957031)rotate(-90)scale(0.1 -0.1)\">\r\n       <use xlink:href=\"#DejaVuSans-115\"/>\r\n       <use x=\"52.099609\" xlink:href=\"#DejaVuSans-117\"/>\r\n       <use x=\"115.478516\" xlink:href=\"#DejaVuSans-114\"/>\r\n       <use x=\"156.591797\" xlink:href=\"#DejaVuSans-102\"/>\r\n       <use x=\"191.796875\" xlink:href=\"#DejaVuSans-97\"/>\r\n       <use x=\"253.076172\" xlink:href=\"#DejaVuSans-99\"/>\r\n       <use x=\"308.056641\" xlink:href=\"#DejaVuSans-101\"/>\r\n      </g>\r\n     </g>\r\n    </g>\r\n    <g id=\"xtick_8\">\r\n     <g id=\"line2d_8\">\r\n      <g>\r\n       <use style=\"stroke:#000000;stroke-width:0.8;\" x=\"442.348438\" xlink:href=\"#m6ab11230e0\" y=\"406.999219\"/>\r\n      </g>\r\n     </g>\r\n     <g id=\"text_8\">\r\n      <!-- sellingTime -->\r\n      <g transform=\"translate(445.107813 470.849219)rotate(-90)scale(0.1 -0.1)\">\r\n       <defs>\r\n        <path d=\"M -0.296875 72.90625 \r\nL 61.375 72.90625 \r\nL 61.375 64.59375 \r\nL 35.5 64.59375 \r\nL 35.5 0 \r\nL 25.59375 0 \r\nL 25.59375 64.59375 \r\nL -0.296875 64.59375 \r\nz\r\n\" id=\"DejaVuSans-84\"/>\r\n       </defs>\r\n       <use xlink:href=\"#DejaVuSans-115\"/>\r\n       <use x=\"52.099609\" xlink:href=\"#DejaVuSans-101\"/>\r\n       <use x=\"113.623047\" xlink:href=\"#DejaVuSans-108\"/>\r\n       <use x=\"141.40625\" xlink:href=\"#DejaVuSans-108\"/>\r\n       <use x=\"169.189453\" xlink:href=\"#DejaVuSans-105\"/>\r\n       <use x=\"196.972656\" xlink:href=\"#DejaVuSans-110\"/>\r\n       <use x=\"260.351562\" xlink:href=\"#DejaVuSans-103\"/>\r\n       <use x=\"323.828125\" xlink:href=\"#DejaVuSans-84\"/>\r\n       <use x=\"381.787109\" xlink:href=\"#DejaVuSans-105\"/>\r\n       <use x=\"409.570312\" xlink:href=\"#DejaVuSans-109\"/>\r\n       <use x=\"506.982422\" xlink:href=\"#DejaVuSans-101\"/>\r\n      </g>\r\n     </g>\r\n    </g>\r\n   </g>\r\n   <g id=\"matplotlib.axis_2\">\r\n    <g id=\"ytick_1\">\r\n     <g id=\"line2d_9\">\r\n      <defs>\r\n       <path d=\"M 0 0 \r\nL -3.5 0 \r\n\" id=\"m41e5a02e43\" style=\"stroke:#000000;stroke-width:0.8;\"/>\r\n      </defs>\r\n      <g>\r\n       <use style=\"stroke:#000000;stroke-width:0.8;\" x=\"107.548438\" xlink:href=\"#m41e5a02e43\" y=\"72.199219\"/>\r\n      </g>\r\n     </g>\r\n     <g id=\"text_9\">\r\n      <!-- sellingPrice -->\r\n      <g transform=\"translate(43.770313 75.998438)scale(0.1 -0.1)\">\r\n       <use xlink:href=\"#DejaVuSans-115\"/>\r\n       <use x=\"52.099609\" xlink:href=\"#DejaVuSans-101\"/>\r\n       <use x=\"113.623047\" xlink:href=\"#DejaVuSans-108\"/>\r\n       <use x=\"141.40625\" xlink:href=\"#DejaVuSans-108\"/>\r\n       <use x=\"169.189453\" xlink:href=\"#DejaVuSans-105\"/>\r\n       <use x=\"196.972656\" xlink:href=\"#DejaVuSans-110\"/>\r\n       <use x=\"260.351562\" xlink:href=\"#DejaVuSans-103\"/>\r\n       <use x=\"323.828125\" xlink:href=\"#DejaVuSans-80\"/>\r\n       <use x=\"382.380859\" xlink:href=\"#DejaVuSans-114\"/>\r\n       <use x=\"423.494141\" xlink:href=\"#DejaVuSans-105\"/>\r\n       <use x=\"451.277344\" xlink:href=\"#DejaVuSans-99\"/>\r\n       <use x=\"506.257812\" xlink:href=\"#DejaVuSans-101\"/>\r\n      </g>\r\n     </g>\r\n    </g>\r\n    <g id=\"ytick_2\">\r\n     <g id=\"line2d_10\">\r\n      <g>\r\n       <use style=\"stroke:#000000;stroke-width:0.8;\" x=\"107.548438\" xlink:href=\"#m41e5a02e43\" y=\"116.839219\"/>\r\n      </g>\r\n     </g>\r\n     <g id=\"text_10\">\r\n      <!-- yearOfBuilding -->\r\n      <g transform=\"translate(26.278125 120.638438)scale(0.1 -0.1)\">\r\n       <use xlink:href=\"#DejaVuSans-121\"/>\r\n       <use x=\"59.179688\" xlink:href=\"#DejaVuSans-101\"/>\r\n       <use x=\"120.703125\" xlink:href=\"#DejaVuSans-97\"/>\r\n       <use x=\"181.982422\" xlink:href=\"#DejaVuSans-114\"/>\r\n       <use x=\"223.095703\" xlink:href=\"#DejaVuSans-79\"/>\r\n       <use x=\"301.806641\" xlink:href=\"#DejaVuSans-102\"/>\r\n       <use x=\"337.011719\" xlink:href=\"#DejaVuSans-66\"/>\r\n       <use x=\"405.615234\" xlink:href=\"#DejaVuSans-117\"/>\r\n       <use x=\"468.994141\" xlink:href=\"#DejaVuSans-105\"/>\r\n       <use x=\"496.777344\" xlink:href=\"#DejaVuSans-108\"/>\r\n       <use x=\"524.560547\" xlink:href=\"#DejaVuSans-100\"/>\r\n       <use x=\"588.037109\" xlink:href=\"#DejaVuSans-105\"/>\r\n       <use x=\"615.820312\" xlink:href=\"#DejaVuSans-110\"/>\r\n       <use x=\"679.199219\" xlink:href=\"#DejaVuSans-103\"/>\r\n      </g>\r\n     </g>\r\n    </g>\r\n    <g id=\"ytick_3\">\r\n     <g id=\"line2d_11\">\r\n      <g>\r\n       <use style=\"stroke:#000000;stroke-width:0.8;\" x=\"107.548438\" xlink:href=\"#m41e5a02e43\" y=\"161.479219\"/>\r\n      </g>\r\n     </g>\r\n     <g id=\"text_11\">\r\n      <!-- garden -->\r\n      <g transform=\"translate(65.296875 165.278438)scale(0.1 -0.1)\">\r\n       <use xlink:href=\"#DejaVuSans-103\"/>\r\n       <use x=\"63.476562\" xlink:href=\"#DejaVuSans-97\"/>\r\n       <use x=\"124.755859\" xlink:href=\"#DejaVuSans-114\"/>\r\n       <use x=\"164.119141\" xlink:href=\"#DejaVuSans-100\"/>\r\n       <use x=\"227.595703\" xlink:href=\"#DejaVuSans-101\"/>\r\n       <use x=\"289.119141\" xlink:href=\"#DejaVuSans-110\"/>\r\n      </g>\r\n     </g>\r\n    </g>\r\n    <g id=\"ytick_4\">\r\n     <g id=\"line2d_12\">\r\n      <g>\r\n       <use style=\"stroke:#000000;stroke-width:0.8;\" x=\"107.548438\" xlink:href=\"#m41e5a02e43\" y=\"206.119219\"/>\r\n      </g>\r\n     </g>\r\n     <g id=\"text_12\">\r\n      <!-- parcelSurface -->\r\n      <g transform=\"translate(31.659375 209.918438)scale(0.1 -0.1)\">\r\n       <use xlink:href=\"#DejaVuSans-112\"/>\r\n       <use x=\"63.476562\" xlink:href=\"#DejaVuSans-97\"/>\r\n       <use x=\"124.755859\" xlink:href=\"#DejaVuSans-114\"/>\r\n       <use x=\"163.619141\" xlink:href=\"#DejaVuSans-99\"/>\r\n       <use x=\"218.599609\" xlink:href=\"#DejaVuSans-101\"/>\r\n       <use x=\"280.123047\" xlink:href=\"#DejaVuSans-108\"/>\r\n       <use x=\"307.90625\" xlink:href=\"#DejaVuSans-83\"/>\r\n       <use x=\"371.382812\" xlink:href=\"#DejaVuSans-117\"/>\r\n       <use x=\"434.761719\" xlink:href=\"#DejaVuSans-114\"/>\r\n       <use x=\"475.875\" xlink:href=\"#DejaVuSans-102\"/>\r\n       <use x=\"511.080078\" xlink:href=\"#DejaVuSans-97\"/>\r\n       <use x=\"572.359375\" xlink:href=\"#DejaVuSans-99\"/>\r\n       <use x=\"627.339844\" xlink:href=\"#DejaVuSans-101\"/>\r\n      </g>\r\n     </g>\r\n    </g>\r\n    <g id=\"ytick_5\">\r\n     <g id=\"line2d_13\">\r\n      <g>\r\n       <use style=\"stroke:#000000;stroke-width:0.8;\" x=\"107.548438\" xlink:href=\"#m41e5a02e43\" y=\"250.759219\"/>\r\n      </g>\r\n     </g>\r\n     <g id=\"text_13\">\r\n      <!-- numberRooms -->\r\n      <g transform=\"translate(27.834375 254.558438)scale(0.1 -0.1)\">\r\n       <use xlink:href=\"#DejaVuSans-110\"/>\r\n       <use x=\"63.378906\" xlink:href=\"#DejaVuSans-117\"/>\r\n       <use x=\"126.757812\" xlink:href=\"#DejaVuSans-109\"/>\r\n       <use x=\"224.169922\" xlink:href=\"#DejaVuSans-98\"/>\r\n       <use x=\"287.646484\" xlink:href=\"#DejaVuSans-101\"/>\r\n       <use x=\"349.169922\" xlink:href=\"#DejaVuSans-114\"/>\r\n       <use x=\"390.283203\" xlink:href=\"#DejaVuSans-82\"/>\r\n       <use x=\"455.265625\" xlink:href=\"#DejaVuSans-111\"/>\r\n       <use x=\"516.447266\" xlink:href=\"#DejaVuSans-111\"/>\r\n       <use x=\"577.628906\" xlink:href=\"#DejaVuSans-109\"/>\r\n       <use x=\"675.041016\" xlink:href=\"#DejaVuSans-115\"/>\r\n      </g>\r\n     </g>\r\n    </g>\r\n    <g id=\"ytick_6\">\r\n     <g id=\"line2d_14\">\r\n      <g>\r\n       <use style=\"stroke:#000000;stroke-width:0.8;\" x=\"107.548438\" xlink:href=\"#m41e5a02e43\" y=\"295.399219\"/>\r\n      </g>\r\n     </g>\r\n     <g id=\"text_14\">\r\n      <!-- numberBathrooms -->\r\n      <g transform=\"translate(7.2 299.198438)scale(0.1 -0.1)\">\r\n       <use xlink:href=\"#DejaVuSans-110\"/>\r\n       <use x=\"63.378906\" xlink:href=\"#DejaVuSans-117\"/>\r\n       <use x=\"126.757812\" xlink:href=\"#DejaVuSans-109\"/>\r\n       <use x=\"224.169922\" xlink:href=\"#DejaVuSans-98\"/>\r\n       <use x=\"287.646484\" xlink:href=\"#DejaVuSans-101\"/>\r\n       <use x=\"349.169922\" xlink:href=\"#DejaVuSans-114\"/>\r\n       <use x=\"390.283203\" xlink:href=\"#DejaVuSans-66\"/>\r\n       <use x=\"458.886719\" xlink:href=\"#DejaVuSans-97\"/>\r\n       <use x=\"520.166016\" xlink:href=\"#DejaVuSans-116\"/>\r\n       <use x=\"559.375\" xlink:href=\"#DejaVuSans-104\"/>\r\n       <use x=\"622.753906\" xlink:href=\"#DejaVuSans-114\"/>\r\n       <use x=\"661.617188\" xlink:href=\"#DejaVuSans-111\"/>\r\n       <use x=\"722.798828\" xlink:href=\"#DejaVuSans-111\"/>\r\n       <use x=\"783.980469\" xlink:href=\"#DejaVuSans-109\"/>\r\n       <use x=\"881.392578\" xlink:href=\"#DejaVuSans-115\"/>\r\n      </g>\r\n     </g>\r\n    </g>\r\n    <g id=\"ytick_7\">\r\n     <g id=\"line2d_15\">\r\n      <g>\r\n       <use style=\"stroke:#000000;stroke-width:0.8;\" x=\"107.548438\" xlink:href=\"#m41e5a02e43\" y=\"340.039219\"/>\r\n      </g>\r\n     </g>\r\n     <g id=\"text_15\">\r\n      <!-- surface -->\r\n      <g transform=\"translate(63.590625 343.838438)scale(0.1 -0.1)\">\r\n       <use xlink:href=\"#DejaVuSans-115\"/>\r\n       <use x=\"52.099609\" xlink:href=\"#DejaVuSans-117\"/>\r\n       <use x=\"115.478516\" xlink:href=\"#DejaVuSans-114\"/>\r\n       <use x=\"156.591797\" xlink:href=\"#DejaVuSans-102\"/>\r\n       <use x=\"191.796875\" xlink:href=\"#DejaVuSans-97\"/>\r\n       <use x=\"253.076172\" xlink:href=\"#DejaVuSans-99\"/>\r\n       <use x=\"308.056641\" xlink:href=\"#DejaVuSans-101\"/>\r\n      </g>\r\n     </g>\r\n    </g>\r\n    <g id=\"ytick_8\">\r\n     <g id=\"line2d_16\">\r\n      <g>\r\n       <use style=\"stroke:#000000;stroke-width:0.8;\" x=\"107.548438\" xlink:href=\"#m41e5a02e43\" y=\"384.679219\"/>\r\n      </g>\r\n     </g>\r\n     <g id=\"text_16\">\r\n      <!-- sellingTime -->\r\n      <g transform=\"translate(43.698438 388.478438)scale(0.1 -0.1)\">\r\n       <use xlink:href=\"#DejaVuSans-115\"/>\r\n       <use x=\"52.099609\" xlink:href=\"#DejaVuSans-101\"/>\r\n       <use x=\"113.623047\" xlink:href=\"#DejaVuSans-108\"/>\r\n       <use x=\"141.40625\" xlink:href=\"#DejaVuSans-108\"/>\r\n       <use x=\"169.189453\" xlink:href=\"#DejaVuSans-105\"/>\r\n       <use x=\"196.972656\" xlink:href=\"#DejaVuSans-110\"/>\r\n       <use x=\"260.351562\" xlink:href=\"#DejaVuSans-103\"/>\r\n       <use x=\"323.828125\" xlink:href=\"#DejaVuSans-84\"/>\r\n       <use x=\"381.787109\" xlink:href=\"#DejaVuSans-105\"/>\r\n       <use x=\"409.570312\" xlink:href=\"#DejaVuSans-109\"/>\r\n       <use x=\"506.982422\" xlink:href=\"#DejaVuSans-101\"/>\r\n      </g>\r\n     </g>\r\n    </g>\r\n   </g>\r\n  </g>\r\n  <g id=\"axes_2\">\r\n   <g id=\"patch_3\">\r\n    <path clip-path=\"url(#pf9ea7f530c)\" d=\"M 486.988438 445.879219 \r\nL 486.988438 444.180469 \r\nL 486.988438 12.697969 \r\nL 486.988438 10.999219 \r\nL 508.732438 10.999219 \r\nL 508.732438 12.697969 \r\nL 508.732438 444.180469 \r\nL 508.732438 445.879219 \r\nz\r\n\" style=\"fill:#ffffff;stroke:#ffffff;stroke-linejoin:miter;stroke-width:0.01;\"/>\r\n   </g>\r\n   <image height=\"435\" id=\"image90983c970c\" transform=\"scale(1 -1)translate(0 -435)\" width=\"22\" x=\"487\" xlink:href=\"data:image/png;base64,\r\niVBORw0KGgoAAAANSUhEUgAAABYAAAGzCAYAAAArEufSAAACUUlEQVR4nO2c223EMBAD/VD6SUvpvwbL+bBFVzAfA3AKWBAktVbunNt/fv/uDWDsx0nM3Q5k6gYqrhUBVHxC4R0+K6r4G8yI9llRxQGsG7SEfFb4FHfRB5/iWhGqOHCXQqEVVbwGH8eODCat0CneGcUNL1RxGAdVN58VPsXUkR47pNm3NpXh2azwKabWps9jY3g6xdil0LfoheFhJ0+3hBreglN8UnWjBvus8CkWWjF0ihveYpy6r48b3sKoWHcTat0WXfT8YJ8VPsW1IlRxaN2CUTH2ZazvwsIIFn7YJLxttm4LYd0a3sJ3QITPvNYtg4VWCOvGDO6lMJB1Ywb7tlsvhcFXN6EVkGCybls9fgf7nnmtWwYLrdAphgR30X+QJ49B+Hql8OTpFFOTja9X6sIDFz0z2LeEWrfQe0UQLvr9Rn5vaxvbPZHBpBU2xZTHY4Na4bOidQtk3WrFA6h4QuG1xwtScZ/SD60bP9hnResWuEXfS+HCVzehFULF82IG39CR9llRxWHcF1Q36gnS8MK4qV3hC4+ywlc3Y3jQEvKF51Pce0XwKW54wadYuTZbtwffTUi4K+6ritfghvfiUzymbtG3bgufYmF4s+HRg7srQsMLYza8F9/HYz15wafY+Mxr3b7BttcgjHXzeQy9oWdcmw3vHewLb+pOHlU349rUnbyGt+gzL/RSGBpewP4GMVohVNzwHoThTd2b/xf1D1NQdkIrSMXY4Frx4Kub0gpmsC88n8e1IvjqVisCeCmkBvusaN0WPo9rRfDVzWcFNvgfm7JO+BMAG+EAAAAASUVORK5CYII=\" y=\"-10\"/>\r\n   <g id=\"matplotlib.axis_3\"/>\r\n   <g id=\"matplotlib.axis_4\">\r\n    <g id=\"ytick_9\">\r\n     <g id=\"line2d_17\">\r\n      <defs>\r\n       <path d=\"M 0 0 \r\nL 3.5 0 \r\n\" id=\"m2d47e88950\" style=\"stroke:#000000;stroke-width:0.8;\"/>\r\n      </defs>\r\n      <g>\r\n       <use style=\"stroke:#000000;stroke-width:0.8;\" x=\"508.732438\" xlink:href=\"#m2d47e88950\" y=\"445.879219\"/>\r\n      </g>\r\n     </g>\r\n     <g id=\"text_17\">\r\n      <!-- −0.8 -->\r\n      <g transform=\"translate(515.732438 449.678437)scale(0.1 -0.1)\">\r\n       <defs>\r\n        <path d=\"M 10.59375 35.5 \r\nL 73.1875 35.5 \r\nL 73.1875 27.203125 \r\nL 10.59375 27.203125 \r\nz\r\n\" id=\"DejaVuSans-8722\"/>\r\n        <path d=\"M 31.78125 66.40625 \r\nQ 24.171875 66.40625 20.328125 58.90625 \r\nQ 16.5 51.421875 16.5 36.375 \r\nQ 16.5 21.390625 20.328125 13.890625 \r\nQ 24.171875 6.390625 31.78125 6.390625 \r\nQ 39.453125 6.390625 43.28125 13.890625 \r\nQ 47.125 21.390625 47.125 36.375 \r\nQ 47.125 51.421875 43.28125 58.90625 \r\nQ 39.453125 66.40625 31.78125 66.40625 \r\nz\r\nM 31.78125 74.21875 \r\nQ 44.046875 74.21875 50.515625 64.515625 \r\nQ 56.984375 54.828125 56.984375 36.375 \r\nQ 56.984375 17.96875 50.515625 8.265625 \r\nQ 44.046875 -1.421875 31.78125 -1.421875 \r\nQ 19.53125 -1.421875 13.0625 8.265625 \r\nQ 6.59375 17.96875 6.59375 36.375 \r\nQ 6.59375 54.828125 13.0625 64.515625 \r\nQ 19.53125 74.21875 31.78125 74.21875 \r\nz\r\n\" id=\"DejaVuSans-48\"/>\r\n        <path d=\"M 10.6875 12.40625 \r\nL 21 12.40625 \r\nL 21 0 \r\nL 10.6875 0 \r\nz\r\n\" id=\"DejaVuSans-46\"/>\r\n        <path d=\"M 31.78125 34.625 \r\nQ 24.75 34.625 20.71875 30.859375 \r\nQ 16.703125 27.09375 16.703125 20.515625 \r\nQ 16.703125 13.921875 20.71875 10.15625 \r\nQ 24.75 6.390625 31.78125 6.390625 \r\nQ 38.8125 6.390625 42.859375 10.171875 \r\nQ 46.921875 13.96875 46.921875 20.515625 \r\nQ 46.921875 27.09375 42.890625 30.859375 \r\nQ 38.875 34.625 31.78125 34.625 \r\nz\r\nM 21.921875 38.8125 \r\nQ 15.578125 40.375 12.03125 44.71875 \r\nQ 8.5 49.078125 8.5 55.328125 \r\nQ 8.5 64.0625 14.71875 69.140625 \r\nQ 20.953125 74.21875 31.78125 74.21875 \r\nQ 42.671875 74.21875 48.875 69.140625 \r\nQ 55.078125 64.0625 55.078125 55.328125 \r\nQ 55.078125 49.078125 51.53125 44.71875 \r\nQ 48 40.375 41.703125 38.8125 \r\nQ 48.828125 37.15625 52.796875 32.3125 \r\nQ 56.78125 27.484375 56.78125 20.515625 \r\nQ 56.78125 9.90625 50.3125 4.234375 \r\nQ 43.84375 -1.421875 31.78125 -1.421875 \r\nQ 19.734375 -1.421875 13.25 4.234375 \r\nQ 6.78125 9.90625 6.78125 20.515625 \r\nQ 6.78125 27.484375 10.78125 32.3125 \r\nQ 14.796875 37.15625 21.921875 38.8125 \r\nz\r\nM 18.3125 54.390625 \r\nQ 18.3125 48.734375 21.84375 45.5625 \r\nQ 25.390625 42.390625 31.78125 42.390625 \r\nQ 38.140625 42.390625 41.71875 45.5625 \r\nQ 45.3125 48.734375 45.3125 54.390625 \r\nQ 45.3125 60.0625 41.71875 63.234375 \r\nQ 38.140625 66.40625 31.78125 66.40625 \r\nQ 25.390625 66.40625 21.84375 63.234375 \r\nQ 18.3125 60.0625 18.3125 54.390625 \r\nz\r\n\" id=\"DejaVuSans-56\"/>\r\n       </defs>\r\n       <use xlink:href=\"#DejaVuSans-8722\"/>\r\n       <use x=\"83.789062\" xlink:href=\"#DejaVuSans-48\"/>\r\n       <use x=\"147.412109\" xlink:href=\"#DejaVuSans-46\"/>\r\n       <use x=\"179.199219\" xlink:href=\"#DejaVuSans-56\"/>\r\n      </g>\r\n     </g>\r\n    </g>\r\n    <g id=\"ytick_10\">\r\n     <g id=\"line2d_18\">\r\n      <g>\r\n       <use style=\"stroke:#000000;stroke-width:0.8;\" x=\"508.732438\" xlink:href=\"#m2d47e88950\" y=\"391.519219\"/>\r\n      </g>\r\n     </g>\r\n     <g id=\"text_18\">\r\n      <!-- −0.6 -->\r\n      <g transform=\"translate(515.732438 395.318437)scale(0.1 -0.1)\">\r\n       <defs>\r\n        <path d=\"M 33.015625 40.375 \r\nQ 26.375 40.375 22.484375 35.828125 \r\nQ 18.609375 31.296875 18.609375 23.390625 \r\nQ 18.609375 15.53125 22.484375 10.953125 \r\nQ 26.375 6.390625 33.015625 6.390625 \r\nQ 39.65625 6.390625 43.53125 10.953125 \r\nQ 47.40625 15.53125 47.40625 23.390625 \r\nQ 47.40625 31.296875 43.53125 35.828125 \r\nQ 39.65625 40.375 33.015625 40.375 \r\nz\r\nM 52.59375 71.296875 \r\nL 52.59375 62.3125 \r\nQ 48.875 64.0625 45.09375 64.984375 \r\nQ 41.3125 65.921875 37.59375 65.921875 \r\nQ 27.828125 65.921875 22.671875 59.328125 \r\nQ 17.53125 52.734375 16.796875 39.40625 \r\nQ 19.671875 43.65625 24.015625 45.921875 \r\nQ 28.375 48.1875 33.59375 48.1875 \r\nQ 44.578125 48.1875 50.953125 41.515625 \r\nQ 57.328125 34.859375 57.328125 23.390625 \r\nQ 57.328125 12.15625 50.6875 5.359375 \r\nQ 44.046875 -1.421875 33.015625 -1.421875 \r\nQ 20.359375 -1.421875 13.671875 8.265625 \r\nQ 6.984375 17.96875 6.984375 36.375 \r\nQ 6.984375 53.65625 15.1875 63.9375 \r\nQ 23.390625 74.21875 37.203125 74.21875 \r\nQ 40.921875 74.21875 44.703125 73.484375 \r\nQ 48.484375 72.75 52.59375 71.296875 \r\nz\r\n\" id=\"DejaVuSans-54\"/>\r\n       </defs>\r\n       <use xlink:href=\"#DejaVuSans-8722\"/>\r\n       <use x=\"83.789062\" xlink:href=\"#DejaVuSans-48\"/>\r\n       <use x=\"147.412109\" xlink:href=\"#DejaVuSans-46\"/>\r\n       <use x=\"179.199219\" xlink:href=\"#DejaVuSans-54\"/>\r\n      </g>\r\n     </g>\r\n    </g>\r\n    <g id=\"ytick_11\">\r\n     <g id=\"line2d_19\">\r\n      <g>\r\n       <use style=\"stroke:#000000;stroke-width:0.8;\" x=\"508.732438\" xlink:href=\"#m2d47e88950\" y=\"337.159219\"/>\r\n      </g>\r\n     </g>\r\n     <g id=\"text_19\">\r\n      <!-- −0.4 -->\r\n      <g transform=\"translate(515.732438 340.958437)scale(0.1 -0.1)\">\r\n       <defs>\r\n        <path d=\"M 37.796875 64.3125 \r\nL 12.890625 25.390625 \r\nL 37.796875 25.390625 \r\nz\r\nM 35.203125 72.90625 \r\nL 47.609375 72.90625 \r\nL 47.609375 25.390625 \r\nL 58.015625 25.390625 \r\nL 58.015625 17.1875 \r\nL 47.609375 17.1875 \r\nL 47.609375 0 \r\nL 37.796875 0 \r\nL 37.796875 17.1875 \r\nL 4.890625 17.1875 \r\nL 4.890625 26.703125 \r\nz\r\n\" id=\"DejaVuSans-52\"/>\r\n       </defs>\r\n       <use xlink:href=\"#DejaVuSans-8722\"/>\r\n       <use x=\"83.789062\" xlink:href=\"#DejaVuSans-48\"/>\r\n       <use x=\"147.412109\" xlink:href=\"#DejaVuSans-46\"/>\r\n       <use x=\"179.199219\" xlink:href=\"#DejaVuSans-52\"/>\r\n      </g>\r\n     </g>\r\n    </g>\r\n    <g id=\"ytick_12\">\r\n     <g id=\"line2d_20\">\r\n      <g>\r\n       <use style=\"stroke:#000000;stroke-width:0.8;\" x=\"508.732438\" xlink:href=\"#m2d47e88950\" y=\"282.799219\"/>\r\n      </g>\r\n     </g>\r\n     <g id=\"text_20\">\r\n      <!-- −0.2 -->\r\n      <g transform=\"translate(515.732438 286.598437)scale(0.1 -0.1)\">\r\n       <defs>\r\n        <path d=\"M 19.1875 8.296875 \r\nL 53.609375 8.296875 \r\nL 53.609375 0 \r\nL 7.328125 0 \r\nL 7.328125 8.296875 \r\nQ 12.9375 14.109375 22.625 23.890625 \r\nQ 32.328125 33.6875 34.8125 36.53125 \r\nQ 39.546875 41.84375 41.421875 45.53125 \r\nQ 43.3125 49.21875 43.3125 52.78125 \r\nQ 43.3125 58.59375 39.234375 62.25 \r\nQ 35.15625 65.921875 28.609375 65.921875 \r\nQ 23.96875 65.921875 18.8125 64.3125 \r\nQ 13.671875 62.703125 7.8125 59.421875 \r\nL 7.8125 69.390625 \r\nQ 13.765625 71.78125 18.9375 73 \r\nQ 24.125 74.21875 28.421875 74.21875 \r\nQ 39.75 74.21875 46.484375 68.546875 \r\nQ 53.21875 62.890625 53.21875 53.421875 \r\nQ 53.21875 48.921875 51.53125 44.890625 \r\nQ 49.859375 40.875 45.40625 35.40625 \r\nQ 44.1875 33.984375 37.640625 27.21875 \r\nQ 31.109375 20.453125 19.1875 8.296875 \r\nz\r\n\" id=\"DejaVuSans-50\"/>\r\n       </defs>\r\n       <use xlink:href=\"#DejaVuSans-8722\"/>\r\n       <use x=\"83.789062\" xlink:href=\"#DejaVuSans-48\"/>\r\n       <use x=\"147.412109\" xlink:href=\"#DejaVuSans-46\"/>\r\n       <use x=\"179.199219\" xlink:href=\"#DejaVuSans-50\"/>\r\n      </g>\r\n     </g>\r\n    </g>\r\n    <g id=\"ytick_13\">\r\n     <g id=\"line2d_21\">\r\n      <g>\r\n       <use style=\"stroke:#000000;stroke-width:0.8;\" x=\"508.732438\" xlink:href=\"#m2d47e88950\" y=\"228.439219\"/>\r\n      </g>\r\n     </g>\r\n     <g id=\"text_21\">\r\n      <!-- 0.0 -->\r\n      <g transform=\"translate(515.732438 232.238438)scale(0.1 -0.1)\">\r\n       <use xlink:href=\"#DejaVuSans-48\"/>\r\n       <use x=\"63.623047\" xlink:href=\"#DejaVuSans-46\"/>\r\n       <use x=\"95.410156\" xlink:href=\"#DejaVuSans-48\"/>\r\n      </g>\r\n     </g>\r\n    </g>\r\n    <g id=\"ytick_14\">\r\n     <g id=\"line2d_22\">\r\n      <g>\r\n       <use style=\"stroke:#000000;stroke-width:0.8;\" x=\"508.732438\" xlink:href=\"#m2d47e88950\" y=\"174.079219\"/>\r\n      </g>\r\n     </g>\r\n     <g id=\"text_22\">\r\n      <!-- 0.2 -->\r\n      <g transform=\"translate(515.732438 177.878438)scale(0.1 -0.1)\">\r\n       <use xlink:href=\"#DejaVuSans-48\"/>\r\n       <use x=\"63.623047\" xlink:href=\"#DejaVuSans-46\"/>\r\n       <use x=\"95.410156\" xlink:href=\"#DejaVuSans-50\"/>\r\n      </g>\r\n     </g>\r\n    </g>\r\n    <g id=\"ytick_15\">\r\n     <g id=\"line2d_23\">\r\n      <g>\r\n       <use style=\"stroke:#000000;stroke-width:0.8;\" x=\"508.732438\" xlink:href=\"#m2d47e88950\" y=\"119.719219\"/>\r\n      </g>\r\n     </g>\r\n     <g id=\"text_23\">\r\n      <!-- 0.4 -->\r\n      <g transform=\"translate(515.732438 123.518438)scale(0.1 -0.1)\">\r\n       <use xlink:href=\"#DejaVuSans-48\"/>\r\n       <use x=\"63.623047\" xlink:href=\"#DejaVuSans-46\"/>\r\n       <use x=\"95.410156\" xlink:href=\"#DejaVuSans-52\"/>\r\n      </g>\r\n     </g>\r\n    </g>\r\n    <g id=\"ytick_16\">\r\n     <g id=\"line2d_24\">\r\n      <g>\r\n       <use style=\"stroke:#000000;stroke-width:0.8;\" x=\"508.732438\" xlink:href=\"#m2d47e88950\" y=\"65.359219\"/>\r\n      </g>\r\n     </g>\r\n     <g id=\"text_24\">\r\n      <!-- 0.6 -->\r\n      <g transform=\"translate(515.732438 69.158438)scale(0.1 -0.1)\">\r\n       <use xlink:href=\"#DejaVuSans-48\"/>\r\n       <use x=\"63.623047\" xlink:href=\"#DejaVuSans-46\"/>\r\n       <use x=\"95.410156\" xlink:href=\"#DejaVuSans-54\"/>\r\n      </g>\r\n     </g>\r\n    </g>\r\n    <g id=\"ytick_17\">\r\n     <g id=\"line2d_25\">\r\n      <g>\r\n       <use style=\"stroke:#000000;stroke-width:0.8;\" x=\"508.732438\" xlink:href=\"#m2d47e88950\" y=\"10.999219\"/>\r\n      </g>\r\n     </g>\r\n     <g id=\"text_25\">\r\n      <!-- 0.8 -->\r\n      <g transform=\"translate(515.732438 14.798438)scale(0.1 -0.1)\">\r\n       <use xlink:href=\"#DejaVuSans-48\"/>\r\n       <use x=\"63.623047\" xlink:href=\"#DejaVuSans-46\"/>\r\n       <use x=\"95.410156\" xlink:href=\"#DejaVuSans-56\"/>\r\n      </g>\r\n     </g>\r\n    </g>\r\n   </g>\r\n   <g id=\"patch_4\">\r\n    <path d=\"M 486.988438 445.879219 \r\nL 486.988438 444.180469 \r\nL 486.988438 12.697969 \r\nL 486.988438 10.999219 \r\nL 508.732438 10.999219 \r\nL 508.732438 12.697969 \r\nL 508.732438 444.180469 \r\nL 508.732438 445.879219 \r\nz\r\n\" style=\"fill:none;\"/>\r\n   </g>\r\n  </g>\r\n </g>\r\n <defs>\r\n  <clipPath id=\"p69f79b8a5d\">\r\n   <rect height=\"357.12\" width=\"357.12\" x=\"107.548438\" y=\"49.879219\"/>\r\n  </clipPath>\r\n  <clipPath id=\"pf9ea7f530c\">\r\n   <rect height=\"434.88\" width=\"21.744\" x=\"486.988438\" y=\"10.999219\"/>\r\n  </clipPath>\r\n </defs>\r\n</svg>\r\n",
      "image/png": "[encoded data removed]"
     },
     "metadata": {
      "needs_background": "light"
     }
    }
   ],
   "source": [
    "# Compute correlation\n",
    "correlation_matrix = funda_2018_cleaned.corr()\n",
    "\n",
    "# Open figure container\n",
    "fig = plt.figure(figsize = (8,8))\n",
    "# Make color heatmap (library seaborn)\n",
    "sb.heatmap(correlation_matrix, vmax = 0.8, vmin=-0.8, square = True, cmap='RdBu_r')\n",
    "# Display plot\n",
    "plt.show()"
   ]
  },
  {
   "source": [
    "## Prepare features funda_2018 for predicting the sales price"
   ],
   "cell_type": "markdown",
   "metadata": {}
  },
  {
   "cell_type": "code",
   "execution_count": 28,
   "metadata": {},
   "outputs": [],
   "source": [
    "import datetime\n",
    "# create column with publication day, month and year\n",
    "funda_2018_cleaned['publicationDay'] = pd.DatetimeIndex(funda_2018_cleaned['publicationDate']).day\n",
    "funda_2018_cleaned['publicationMonth'] = pd.DatetimeIndex(funda_2018_cleaned['publicationDate']).month\n",
    "funda_2018_cleaned['publicationYear'] = pd.DatetimeIndex(funda_2018_cleaned['publicationDate']).year\n",
    "# dummy code categoryObject & energylabelClass\n",
    "pd.get_dummies(data=funda_2018_cleaned, columns=['categoryObject', 'energylabelClass'])\n",
    "# drop columns publicationDate, sellingPrice, sellingTime and sellingDate\n",
    "funda_2018_cleaned = funda_2018_cleaned.drop(columns=['publicationDate', 'sellingPrice', 'sellingTime', 'sellingDate'])"
   ]
  },
  {
   "source": [
    "## Create new dataframe with houseTypes dummy codes"
   ],
   "cell_type": "markdown",
   "metadata": {}
  },
  {
   "cell_type": "code",
   "execution_count": 29,
   "metadata": {},
   "outputs": [],
   "source": [
    "houseTypes_df = funda_2018_cleaned['houseType'].str.get_dummies(sep=\",\")"
   ]
  },
  {
   "cell_type": "code",
   "execution_count": 14,
   "metadata": {},
   "outputs": [
    {
     "output_type": "execute_result",
     "data": {
      "text/plain": [
       "   2-onder-1-kapwoning  OpenPortiek  OpenPortiek2  appartement  \\\n",
       "0                    0            0             0            0   \n",
       "1                    0            0             0            0   \n",
       "2                    0            0             0            1   \n",
       "3                    0            0             0            0   \n",
       "4                    0            0             0            0   \n",
       "\n",
       "   bedrijfs-ofdienstwoning  bel-etage  beneden+bovenwoning  benedenwoning  \\\n",
       "0                        0          0                    0              0   \n",
       "1                        0          0                    0              0   \n",
       "2                        0          0                    0              0   \n",
       "3                        0          0                    0              0   \n",
       "4                        0          0                    0              0   \n",
       "\n",
       "   bovenwoning  bungalow  ...  tussenverdieping  tussenwoning  verspringend  \\\n",
       "0            0         0  ...                 0             0             0   \n",
       "1            0         0  ...                 0             1             0   \n",
       "2            0         0  ...                 1             0             0   \n",
       "3            0         0  ...                 0             0             0   \n",
       "4            0         0  ...                 0             0             0   \n",
       "\n",
       "   verzorgingsflat  villa  vrijstaandewoning  waterwoning  wind/watermolen  \\\n",
       "0                0      0                  1            0                0   \n",
       "1                0      0                  0            0                0   \n",
       "2                0      0                  0            0                0   \n",
       "3                0      0                  0            0                0   \n",
       "4                0      0                  1            0                0   \n",
       "\n",
       "   woonboerderij  woonboot  \n",
       "0              0         1  \n",
       "1              0         0  \n",
       "2              0         0  \n",
       "3              0         0  \n",
       "4              1         0  \n",
       "\n",
       "[5 rows x 50 columns]"
      ],
      "text/html": "<div>\n<style scoped>\n    .dataframe tbody tr th:only-of-type {\n        vertical-align: middle;\n    }\n\n    .dataframe tbody tr th {\n        vertical-align: top;\n    }\n\n    .dataframe thead th {\n        text-align: right;\n    }\n</style>\n<table border=\"1\" class=\"dataframe\">\n  <thead>\n    <tr style=\"text-align: right;\">\n      <th></th>\n      <th>2-onder-1-kapwoning</th>\n      <th>OpenPortiek</th>\n      <th>OpenPortiek2</th>\n      <th>appartement</th>\n      <th>bedrijfs-ofdienstwoning</th>\n      <th>bel-etage</th>\n      <th>beneden+bovenwoning</th>\n      <th>benedenwoning</th>\n      <th>bovenwoning</th>\n      <th>bungalow</th>\n      <th>...</th>\n      <th>tussenverdieping</th>\n      <th>tussenwoning</th>\n      <th>verspringend</th>\n      <th>verzorgingsflat</th>\n      <th>villa</th>\n      <th>vrijstaandewoning</th>\n      <th>waterwoning</th>\n      <th>wind/watermolen</th>\n      <th>woonboerderij</th>\n      <th>woonboot</th>\n    </tr>\n  </thead>\n  <tbody>\n    <tr>\n      <th>0</th>\n      <td>0</td>\n      <td>0</td>\n      <td>0</td>\n      <td>0</td>\n      <td>0</td>\n      <td>0</td>\n      <td>0</td>\n      <td>0</td>\n      <td>0</td>\n      <td>0</td>\n      <td>...</td>\n      <td>0</td>\n      <td>0</td>\n      <td>0</td>\n      <td>0</td>\n      <td>0</td>\n      <td>1</td>\n      <td>0</td>\n      <td>0</td>\n      <td>0</td>\n      <td>1</td>\n    </tr>\n    <tr>\n      <th>1</th>\n      <td>0</td>\n      <td>0</td>\n      <td>0</td>\n      <td>0</td>\n      <td>0</td>\n      <td>0</td>\n      <td>0</td>\n      <td>0</td>\n      <td>0</td>\n      <td>0</td>\n      <td>...</td>\n      <td>0</td>\n      <td>1</td>\n      <td>0</td>\n      <td>0</td>\n      <td>0</td>\n      <td>0</td>\n      <td>0</td>\n      <td>0</td>\n      <td>0</td>\n      <td>0</td>\n    </tr>\n    <tr>\n      <th>2</th>\n      <td>0</td>\n      <td>0</td>\n      <td>0</td>\n      <td>1</td>\n      <td>0</td>\n      <td>0</td>\n      <td>0</td>\n      <td>0</td>\n      <td>0</td>\n      <td>0</td>\n      <td>...</td>\n      <td>1</td>\n      <td>0</td>\n      <td>0</td>\n      <td>0</td>\n      <td>0</td>\n      <td>0</td>\n      <td>0</td>\n      <td>0</td>\n      <td>0</td>\n      <td>0</td>\n    </tr>\n    <tr>\n      <th>3</th>\n      <td>0</td>\n      <td>0</td>\n      <td>0</td>\n      <td>0</td>\n      <td>0</td>\n      <td>0</td>\n      <td>0</td>\n      <td>0</td>\n      <td>0</td>\n      <td>0</td>\n      <td>...</td>\n      <td>0</td>\n      <td>0</td>\n      <td>0</td>\n      <td>0</td>\n      <td>0</td>\n      <td>0</td>\n      <td>0</td>\n      <td>0</td>\n      <td>0</td>\n      <td>0</td>\n    </tr>\n    <tr>\n      <th>4</th>\n      <td>0</td>\n      <td>0</td>\n      <td>0</td>\n      <td>0</td>\n      <td>0</td>\n      <td>0</td>\n      <td>0</td>\n      <td>0</td>\n      <td>0</td>\n      <td>0</td>\n      <td>...</td>\n      <td>0</td>\n      <td>0</td>\n      <td>0</td>\n      <td>0</td>\n      <td>0</td>\n      <td>1</td>\n      <td>0</td>\n      <td>0</td>\n      <td>1</td>\n      <td>0</td>\n    </tr>\n  </tbody>\n</table>\n<p>5 rows × 50 columns</p>\n</div>"
     },
     "metadata": {},
     "execution_count": 14
    }
   ],
   "source": [
    "houseTypes_df.head(5)"
   ]
  },
  {
   "cell_type": "code",
   "execution_count": 30,
   "metadata": {},
   "outputs": [
    {
     "output_type": "execute_result",
     "data": {
      "text/plain": [
       "Index(['2-onder-1-kapwoning', 'OpenPortiek', 'OpenPortiek2', 'appartement',\n",
       "       'bedrijfs-ofdienstwoning', 'bel-etage', 'beneden+bovenwoning',\n",
       "       'benedenwoning', 'bovenwoning', 'bungalow', 'corridorflat',\n",
       "       'dijkwoning', 'drive-inwoning', 'dubbelbenedenhuis', 'dubbelbovenhuis',\n",
       "       'eengezinswoning', 'eindwoning', 'galerijflat',\n",
       "       'geschakelde2-onder-1-kapwoning', 'geschakeldewoning', 'grachtenpand',\n",
       "       'halfvrijstaandewoning', 'herenhuis', 'hoekwoning', 'hofjeswoning',\n",
       "       'kwadrantwoning', 'landgoed', 'landhuis', 'maisonnette', 'paalwoning',\n",
       "       'patiowoning', 'penthouse', 'portiekflat', 'portiekwoning',\n",
       "       'semi-bungalow', 'serviceflat', 'souterrain', 'split-levelwoning',\n",
       "       'stacaravan', 'studentenkamer', 'tussenverdieping', 'tussenwoning',\n",
       "       'verspringend', 'verzorgingsflat', 'villa', 'vrijstaandewoning',\n",
       "       'waterwoning', 'wind/watermolen', 'woonboerderij', 'woonboot'],\n",
       "      dtype='object')"
      ]
     },
     "metadata": {},
     "execution_count": 30
    }
   ],
   "source": [
    "houseTypes_df.columns"
   ]
  },
  {
   "source": [
    "## Join houseType_df with funda_2018"
   ],
   "cell_type": "markdown",
   "metadata": {}
  },
  {
   "cell_type": "code",
   "execution_count": 31,
   "metadata": {},
   "outputs": [],
   "source": [
    "joined_df = funda_2018_cleaned.join(houseTypes_df, how='right').drop(axis=1, columns='houseType')"
   ]
  },
  {
   "cell_type": "code",
   "execution_count": 32,
   "metadata": {},
   "outputs": [
    {
     "output_type": "execute_result",
     "data": {
      "text/plain": [
       "Index(['zipcode', 'fullDescription', 'categoryObject', 'yearOfBuilding',\n",
       "       'garden', 'parcelSurface', 'numberRooms', 'numberBathrooms',\n",
       "       'energylabelClass', 'surface', 'publicationDay', 'publicationMonth',\n",
       "       'publicationYear', '2-onder-1-kapwoning', 'OpenPortiek', 'OpenPortiek2',\n",
       "       'appartement', 'bedrijfs-ofdienstwoning', 'bel-etage',\n",
       "       'beneden+bovenwoning', 'benedenwoning', 'bovenwoning', 'bungalow',\n",
       "       'corridorflat', 'dijkwoning', 'drive-inwoning', 'dubbelbenedenhuis',\n",
       "       'dubbelbovenhuis', 'eengezinswoning', 'eindwoning', 'galerijflat',\n",
       "       'geschakelde2-onder-1-kapwoning', 'geschakeldewoning', 'grachtenpand',\n",
       "       'halfvrijstaandewoning', 'herenhuis', 'hoekwoning', 'hofjeswoning',\n",
       "       'kwadrantwoning', 'landgoed', 'landhuis', 'maisonnette', 'paalwoning',\n",
       "       'patiowoning', 'penthouse', 'portiekflat', 'portiekwoning',\n",
       "       'semi-bungalow', 'serviceflat', 'souterrain', 'split-levelwoning',\n",
       "       'stacaravan', 'studentenkamer', 'tussenverdieping', 'tussenwoning',\n",
       "       'verspringend', 'verzorgingsflat', 'villa', 'vrijstaandewoning',\n",
       "       'waterwoning', 'wind/watermolen', 'woonboerderij', 'woonboot'],\n",
       "      dtype='object')"
      ]
     },
     "metadata": {},
     "execution_count": 32
    }
   ],
   "source": [
    "joined_df.columns"
   ]
  },
  {
   "cell_type": "code",
   "execution_count": 11,
   "metadata": {},
   "outputs": [],
   "source": [
    "#joined_df.head(5)"
   ]
  },
  {
   "source": [
    "## 2. Zipcode data"
   ],
   "cell_type": "markdown",
   "metadata": {}
  },
  {
   "cell_type": "code",
   "execution_count": 33,
   "metadata": {},
   "outputs": [
    {
     "output_type": "stream",
     "name": "stdout",
     "text": [
      "Zipcode data loaded\n"
     ]
    }
   ],
   "source": [
    "# Load zipcode data\n",
    "from funda.load_data import DataLoader\n",
    "data_loader = DataLoader(base_folder='C:\\\\Users\\\\User\\\\Google Drive\\\\Master DDB\\\\AI for Business\\\\product3team2')\n",
    "zipcode_data = data_loader.load_cbs_postcodes()\n",
    "print(\"Zipcode data loaded\")"
   ]
  },
  {
   "cell_type": "code",
   "execution_count": 34,
   "metadata": {},
   "outputs": [
    {
     "output_type": "execute_result",
     "data": {
      "text/plain": [
       "  zipcode NeighborhoodCode  DistrictCode  Municipalitycode\n",
       "0  1011AB          3630400         36304               363\n",
       "1  1011AC          3630400         36304               363\n",
       "2  1011AD          3630400         36304               363\n",
       "3  1011AE          3630400         36304               363\n",
       "4  1011AG          3630403         36304               363"
      ],
      "text/html": "<div>\n<style scoped>\n    .dataframe tbody tr th:only-of-type {\n        vertical-align: middle;\n    }\n\n    .dataframe tbody tr th {\n        vertical-align: top;\n    }\n\n    .dataframe thead th {\n        text-align: right;\n    }\n</style>\n<table border=\"1\" class=\"dataframe\">\n  <thead>\n    <tr style=\"text-align: right;\">\n      <th></th>\n      <th>zipcode</th>\n      <th>NeighborhoodCode</th>\n      <th>DistrictCode</th>\n      <th>Municipalitycode</th>\n    </tr>\n  </thead>\n  <tbody>\n    <tr>\n      <th>0</th>\n      <td>1011AB</td>\n      <td>3630400</td>\n      <td>36304</td>\n      <td>363</td>\n    </tr>\n    <tr>\n      <th>1</th>\n      <td>1011AC</td>\n      <td>3630400</td>\n      <td>36304</td>\n      <td>363</td>\n    </tr>\n    <tr>\n      <th>2</th>\n      <td>1011AD</td>\n      <td>3630400</td>\n      <td>36304</td>\n      <td>363</td>\n    </tr>\n    <tr>\n      <th>3</th>\n      <td>1011AE</td>\n      <td>3630400</td>\n      <td>36304</td>\n      <td>363</td>\n    </tr>\n    <tr>\n      <th>4</th>\n      <td>1011AG</td>\n      <td>3630403</td>\n      <td>36304</td>\n      <td>363</td>\n    </tr>\n  </tbody>\n</table>\n</div>"
     },
     "metadata": {},
     "execution_count": 34
    }
   ],
   "source": [
    "# Clean zipcode data\n",
    "from funda.clean_data import DataCleaner\n",
    "data_cleaner = DataCleaner\n",
    "zipcode_data_cleaned = data_cleaner.clean_cbs_postcodes(data=zipcode_data)\n",
    "zipcode_data_cleaned.head(5)"
   ]
  },
  {
   "source": [
    "## 3. Brt data"
   ],
   "cell_type": "markdown",
   "metadata": {}
  },
  {
   "cell_type": "code",
   "execution_count": 35,
   "metadata": {},
   "outputs": [
    {
     "output_type": "stream",
     "name": "stdout",
     "text": [
      "Brt_data data loaded\n"
     ]
    }
   ],
   "source": [
    "# load brt_2020\n",
    "from funda.load_data import DataLoader\n",
    "data_loader = DataLoader(base_folder='C:\\\\Users\\\\User\\\\Google Drive\\\\Master DDB\\\\AI for Business\\\\product3team2')\n",
    "brt_data = data_loader.load_brt_2020()\n",
    "print(\"Brt_data data loaded\")"
   ]
  },
  {
   "cell_type": "code",
   "execution_count": 36,
   "metadata": {},
   "outputs": [
    {
     "output_type": "stream",
     "name": "stdout",
     "text": [
      "Brt_data cleaned\n"
     ]
    }
   ],
   "source": [
    "# clean brt_2020\n",
    "from funda.clean_data import DataCleaner\n",
    "data_cleaner = DataCleaner\n",
    "brt_data_cleaned = data_cleaner.clean_brt_2020(data=brt_data)\n",
    "print(\"Brt_data cleaned\")"
   ]
  },
  {
   "cell_type": "code",
   "execution_count": 37,
   "metadata": {},
   "outputs": [
    {
     "output_type": "execute_result",
     "data": {
      "text/plain": [
       "Index(['NeighborhoodCode', 'NeighborhoodName', 'Municipalitycode',\n",
       "       'MunicipalityName', 'DistrictCode', 'DistrictName'],\n",
       "      dtype='object')"
      ]
     },
     "metadata": {},
     "execution_count": 37
    }
   ],
   "source": [
    "brt_data_cleaned.columns"
   ]
  },
  {
   "source": [
    "# Joining csv files"
   ],
   "cell_type": "markdown",
   "metadata": {}
  },
  {
   "cell_type": "code",
   "execution_count": 38,
   "metadata": {},
   "outputs": [],
   "source": [
    "# combine csv files funda_2018, pc6-gwb2020 (postcodes), join them on zipcode\n",
    "funda_zipcode_df = joined_df.join(zipcode_data_cleaned.set_index('zipcode'), on='zipcode')"
   ]
  },
  {
   "cell_type": "code",
   "execution_count": 39,
   "metadata": {},
   "outputs": [
    {
     "output_type": "execute_result",
     "data": {
      "text/plain": [
       "Index(['zipcode', 'fullDescription', 'categoryObject', 'yearOfBuilding',\n",
       "       'garden', 'parcelSurface', 'numberRooms', 'numberBathrooms',\n",
       "       'energylabelClass', 'surface', 'publicationDay', 'publicationMonth',\n",
       "       'publicationYear', '2-onder-1-kapwoning', 'OpenPortiek', 'OpenPortiek2',\n",
       "       'appartement', 'bedrijfs-ofdienstwoning', 'bel-etage',\n",
       "       'beneden+bovenwoning', 'benedenwoning', 'bovenwoning', 'bungalow',\n",
       "       'corridorflat', 'dijkwoning', 'drive-inwoning', 'dubbelbenedenhuis',\n",
       "       'dubbelbovenhuis', 'eengezinswoning', 'eindwoning', 'galerijflat',\n",
       "       'geschakelde2-onder-1-kapwoning', 'geschakeldewoning', 'grachtenpand',\n",
       "       'halfvrijstaandewoning', 'herenhuis', 'hoekwoning', 'hofjeswoning',\n",
       "       'kwadrantwoning', 'landgoed', 'landhuis', 'maisonnette', 'paalwoning',\n",
       "       'patiowoning', 'penthouse', 'portiekflat', 'portiekwoning',\n",
       "       'semi-bungalow', 'serviceflat', 'souterrain', 'split-levelwoning',\n",
       "       'stacaravan', 'studentenkamer', 'tussenverdieping', 'tussenwoning',\n",
       "       'verspringend', 'verzorgingsflat', 'villa', 'vrijstaandewoning',\n",
       "       'waterwoning', 'wind/watermolen', 'woonboerderij', 'woonboot',\n",
       "       'NeighborhoodCode', 'DistrictCode', 'Municipalitycode'],\n",
       "      dtype='object')"
      ]
     },
     "metadata": {},
     "execution_count": 39
    }
   ],
   "source": [
    "funda_zipcode_df.columns"
   ]
  },
  {
   "cell_type": "code",
   "execution_count": 40,
   "metadata": {},
   "outputs": [],
   "source": [
    "# combine csv files funda_2018, pc6-gwb2020 and brt, join them on NeighborhoodCode\r\n",
    "# right: use only keys from right frame, similar to a SQL right outer join; preserve key order.\r\n",
    "funda_zipcode_brt_df = funda_zipcode_df.merge(brt_data_cleaned, on='NeighborhoodCode', how='right')"
   ]
  },
  {
   "cell_type": "code",
   "execution_count": 41,
   "metadata": {},
   "outputs": [
    {
     "output_type": "execute_result",
     "data": {
      "text/plain": [
       "Index(['zipcode', 'fullDescription', 'categoryObject', 'yearOfBuilding',\n",
       "       'garden', 'parcelSurface', 'numberRooms', 'numberBathrooms',\n",
       "       'energylabelClass', 'surface', 'publicationDay', 'publicationMonth',\n",
       "       'publicationYear', '2-onder-1-kapwoning', 'OpenPortiek', 'OpenPortiek2',\n",
       "       'appartement', 'bedrijfs-ofdienstwoning', 'bel-etage',\n",
       "       'beneden+bovenwoning', 'benedenwoning', 'bovenwoning', 'bungalow',\n",
       "       'corridorflat', 'dijkwoning', 'drive-inwoning', 'dubbelbenedenhuis',\n",
       "       'dubbelbovenhuis', 'eengezinswoning', 'eindwoning', 'galerijflat',\n",
       "       'geschakelde2-onder-1-kapwoning', 'geschakeldewoning', 'grachtenpand',\n",
       "       'halfvrijstaandewoning', 'herenhuis', 'hoekwoning', 'hofjeswoning',\n",
       "       'kwadrantwoning', 'landgoed', 'landhuis', 'maisonnette', 'paalwoning',\n",
       "       'patiowoning', 'penthouse', 'portiekflat', 'portiekwoning',\n",
       "       'semi-bungalow', 'serviceflat', 'souterrain', 'split-levelwoning',\n",
       "       'stacaravan', 'studentenkamer', 'tussenverdieping', 'tussenwoning',\n",
       "       'verspringend', 'verzorgingsflat', 'villa', 'vrijstaandewoning',\n",
       "       'waterwoning', 'wind/watermolen', 'woonboerderij', 'woonboot',\n",
       "       'NeighborhoodCode', 'DistrictCode_x', 'Municipalitycode_x',\n",
       "       'NeighborhoodName', 'Municipalitycode_y', 'MunicipalityName',\n",
       "       'DistrictCode_y', 'DistrictName'],\n",
       "      dtype='object')"
      ]
     },
     "metadata": {},
     "execution_count": 41
    }
   ],
   "source": [
    "funda_zipcode_brt_df.columns"
   ]
  },
  {
   "cell_type": "code",
   "execution_count": 42,
   "metadata": {},
   "outputs": [],
   "source": [
    "# inspect combined dataframe\n",
    "# funda_zipcode_brt_df.head(5)\n",
    "# drop columns NeighborhoodCode, DistrictCode_x, Municipalitycode_x and exclude _y from columns names\n",
    "funda_zipcode_brt_df = funda_zipcode_brt_df.drop(columns=['NeighborhoodCode', 'DistrictCode_x', 'Municipalitycode_x', 'NeighborhoodName', 'MunicipalityName', 'DistrictName']).rename(columns={'Municipalitycode_y':'Municipalitycode', 'DistrictCode_y':'DistrictCode'})"
   ]
  },
  {
   "cell_type": "code",
   "execution_count": 43,
   "metadata": {},
   "outputs": [
    {
     "output_type": "execute_result",
     "data": {
      "text/plain": [
       "  zipcode                                    fullDescription categoryObject  \\\n",
       "0  9901CJ  Op een goede locatie gelegen, uitstekend onder...       Woonhuis   \n",
       "1  9901BV  Levensloopbestendig, verrassend en centraal wo...       Woonhuis   \n",
       "2  9901CL  VRIJSTAAND / KARAKTERISTIEK / GROTE WONING / V...       Woonhuis   \n",
       "3  9901BS  Prachtig gelegen halfvrijstaande woning nabij ...       Woonhuis   \n",
       "4  9901AW  Sint Annastraat 7, Appingedam.Een beeldbepalen...       Woonhuis   \n",
       "\n",
       "   yearOfBuilding  garden  parcelSurface  numberRooms  numberBathrooms  \\\n",
       "0          1936.0     1.0          363.0          6.0              0.0   \n",
       "1          1977.0     1.0          679.0          4.0              2.0   \n",
       "2          1936.0     1.0         1140.0          7.0              1.0   \n",
       "3          1900.0     1.0          135.0          3.0              1.0   \n",
       "4          1906.0     0.0          149.0          5.0              0.0   \n",
       "\n",
       "  energylabelClass  surface  ...  verspringend  verzorgingsflat  villa  \\\n",
       "0                0    120.0  ...           0.0              0.0    0.0   \n",
       "1                0    162.0  ...           0.0              0.0    0.0   \n",
       "2                0    225.0  ...           0.0              0.0    0.0   \n",
       "3                0     74.0  ...           0.0              0.0    0.0   \n",
       "4                G    168.0  ...           0.0              0.0    0.0   \n",
       "\n",
       "   vrijstaandewoning  waterwoning  wind/watermolen  woonboerderij  woonboot  \\\n",
       "0                1.0          0.0              0.0            0.0       0.0   \n",
       "1                1.0          0.0              0.0            0.0       0.0   \n",
       "2                1.0          0.0              0.0            0.0       0.0   \n",
       "3                0.0          0.0              0.0            0.0       0.0   \n",
       "4                0.0          0.0              0.0            0.0       0.0   \n",
       "\n",
       "   Municipalitycode  DistrictCode  \n",
       "0            GM0003      WK000300  \n",
       "1            GM0003      WK000300  \n",
       "2            GM0003      WK000300  \n",
       "3            GM0003      WK000300  \n",
       "4            GM0003      WK000300  \n",
       "\n",
       "[5 rows x 65 columns]"
      ],
      "text/html": "<div>\n<style scoped>\n    .dataframe tbody tr th:only-of-type {\n        vertical-align: middle;\n    }\n\n    .dataframe tbody tr th {\n        vertical-align: top;\n    }\n\n    .dataframe thead th {\n        text-align: right;\n    }\n</style>\n<table border=\"1\" class=\"dataframe\">\n  <thead>\n    <tr style=\"text-align: right;\">\n      <th></th>\n      <th>zipcode</th>\n      <th>fullDescription</th>\n      <th>categoryObject</th>\n      <th>yearOfBuilding</th>\n      <th>garden</th>\n      <th>parcelSurface</th>\n      <th>numberRooms</th>\n      <th>numberBathrooms</th>\n      <th>energylabelClass</th>\n      <th>surface</th>\n      <th>...</th>\n      <th>verspringend</th>\n      <th>verzorgingsflat</th>\n      <th>villa</th>\n      <th>vrijstaandewoning</th>\n      <th>waterwoning</th>\n      <th>wind/watermolen</th>\n      <th>woonboerderij</th>\n      <th>woonboot</th>\n      <th>Municipalitycode</th>\n      <th>DistrictCode</th>\n    </tr>\n  </thead>\n  <tbody>\n    <tr>\n      <th>0</th>\n      <td>9901CJ</td>\n      <td>Op een goede locatie gelegen, uitstekend onder...</td>\n      <td>Woonhuis</td>\n      <td>1936.0</td>\n      <td>1.0</td>\n      <td>363.0</td>\n      <td>6.0</td>\n      <td>0.0</td>\n      <td>0</td>\n      <td>120.0</td>\n      <td>...</td>\n      <td>0.0</td>\n      <td>0.0</td>\n      <td>0.0</td>\n      <td>1.0</td>\n      <td>0.0</td>\n      <td>0.0</td>\n      <td>0.0</td>\n      <td>0.0</td>\n      <td>GM0003</td>\n      <td>WK000300</td>\n    </tr>\n    <tr>\n      <th>1</th>\n      <td>9901BV</td>\n      <td>Levensloopbestendig, verrassend en centraal wo...</td>\n      <td>Woonhuis</td>\n      <td>1977.0</td>\n      <td>1.0</td>\n      <td>679.0</td>\n      <td>4.0</td>\n      <td>2.0</td>\n      <td>0</td>\n      <td>162.0</td>\n      <td>...</td>\n      <td>0.0</td>\n      <td>0.0</td>\n      <td>0.0</td>\n      <td>1.0</td>\n      <td>0.0</td>\n      <td>0.0</td>\n      <td>0.0</td>\n      <td>0.0</td>\n      <td>GM0003</td>\n      <td>WK000300</td>\n    </tr>\n    <tr>\n      <th>2</th>\n      <td>9901CL</td>\n      <td>VRIJSTAAND / KARAKTERISTIEK / GROTE WONING / V...</td>\n      <td>Woonhuis</td>\n      <td>1936.0</td>\n      <td>1.0</td>\n      <td>1140.0</td>\n      <td>7.0</td>\n      <td>1.0</td>\n      <td>0</td>\n      <td>225.0</td>\n      <td>...</td>\n      <td>0.0</td>\n      <td>0.0</td>\n      <td>0.0</td>\n      <td>1.0</td>\n      <td>0.0</td>\n      <td>0.0</td>\n      <td>0.0</td>\n      <td>0.0</td>\n      <td>GM0003</td>\n      <td>WK000300</td>\n    </tr>\n    <tr>\n      <th>3</th>\n      <td>9901BS</td>\n      <td>Prachtig gelegen halfvrijstaande woning nabij ...</td>\n      <td>Woonhuis</td>\n      <td>1900.0</td>\n      <td>1.0</td>\n      <td>135.0</td>\n      <td>3.0</td>\n      <td>1.0</td>\n      <td>0</td>\n      <td>74.0</td>\n      <td>...</td>\n      <td>0.0</td>\n      <td>0.0</td>\n      <td>0.0</td>\n      <td>0.0</td>\n      <td>0.0</td>\n      <td>0.0</td>\n      <td>0.0</td>\n      <td>0.0</td>\n      <td>GM0003</td>\n      <td>WK000300</td>\n    </tr>\n    <tr>\n      <th>4</th>\n      <td>9901AW</td>\n      <td>Sint Annastraat 7, Appingedam.Een beeldbepalen...</td>\n      <td>Woonhuis</td>\n      <td>1906.0</td>\n      <td>0.0</td>\n      <td>149.0</td>\n      <td>5.0</td>\n      <td>0.0</td>\n      <td>G</td>\n      <td>168.0</td>\n      <td>...</td>\n      <td>0.0</td>\n      <td>0.0</td>\n      <td>0.0</td>\n      <td>0.0</td>\n      <td>0.0</td>\n      <td>0.0</td>\n      <td>0.0</td>\n      <td>0.0</td>\n      <td>GM0003</td>\n      <td>WK000300</td>\n    </tr>\n  </tbody>\n</table>\n<p>5 rows × 65 columns</p>\n</div>"
     },
     "metadata": {},
     "execution_count": 43
    }
   ],
   "source": [
    "funda_zipcode_brt_df.head(5)"
   ]
  },
  {
   "cell_type": "code",
   "execution_count": 44,
   "metadata": {},
   "outputs": [
    {
     "output_type": "execute_result",
     "data": {
      "text/plain": [
       "Index(['zipcode', 'fullDescription', 'categoryObject', 'yearOfBuilding',\n",
       "       'garden', 'parcelSurface', 'numberRooms', 'numberBathrooms',\n",
       "       'energylabelClass', 'surface', 'publicationDay', 'publicationMonth',\n",
       "       'publicationYear', '2-onder-1-kapwoning', 'OpenPortiek', 'OpenPortiek2',\n",
       "       'appartement', 'bedrijfs-ofdienstwoning', 'bel-etage',\n",
       "       'beneden+bovenwoning', 'benedenwoning', 'bovenwoning', 'bungalow',\n",
       "       'corridorflat', 'dijkwoning', 'drive-inwoning', 'dubbelbenedenhuis',\n",
       "       'dubbelbovenhuis', 'eengezinswoning', 'eindwoning', 'galerijflat',\n",
       "       'geschakelde2-onder-1-kapwoning', 'geschakeldewoning', 'grachtenpand',\n",
       "       'halfvrijstaandewoning', 'herenhuis', 'hoekwoning', 'hofjeswoning',\n",
       "       'kwadrantwoning', 'landgoed', 'landhuis', 'maisonnette', 'paalwoning',\n",
       "       'patiowoning', 'penthouse', 'portiekflat', 'portiekwoning',\n",
       "       'semi-bungalow', 'serviceflat', 'souterrain', 'split-levelwoning',\n",
       "       'stacaravan', 'studentenkamer', 'tussenverdieping', 'tussenwoning',\n",
       "       'verspringend', 'verzorgingsflat', 'villa', 'vrijstaandewoning',\n",
       "       'waterwoning', 'wind/watermolen', 'woonboerderij', 'woonboot',\n",
       "       'Municipalitycode', 'DistrictCode'],\n",
       "      dtype='object')"
      ]
     },
     "metadata": {},
     "execution_count": 44
    }
   ],
   "source": [
    "funda_zipcode_brt_df.columns"
   ]
  },
  {
   "source": [
    "## 4. Funda_2020 data "
   ],
   "cell_type": "markdown",
   "metadata": {}
  },
  {
   "cell_type": "code",
   "execution_count": 45,
   "metadata": {},
   "outputs": [
    {
     "output_type": "stream",
     "name": "stdout",
     "text": [
      "Funda_2020 data loaded\n"
     ]
    }
   ],
   "source": [
    "# load funda_2020\n",
    "from funda.load_data import DataLoader\n",
    "data_loader = DataLoader(base_folder='C:\\\\Users\\\\User\\\\Google Drive\\\\Master DDB\\\\AI for Business\\\\product3team2')\n",
    "funda_2020 = data_loader.load_funda_data_2020()\n",
    "print(\"Funda_2020 data loaded\")"
   ]
  },
  {
   "cell_type": "code",
   "execution_count": 47,
   "metadata": {},
   "outputs": [
    {
     "output_type": "stream",
     "name": "stdout",
     "text": [
      "Funda data 2020 cleaned\n"
     ]
    }
   ],
   "source": [
    "# clean funda_2020\n",
    "from funda.clean_data import DataCleaner\n",
    "data_cleaner = DataCleaner()\n",
    "funda_2020_cleaned = data_cleaner.clean_funda_2020(data=funda_2020)"
   ]
  },
  {
   "cell_type": "code",
   "execution_count": 55,
   "metadata": {},
   "outputs": [
    {
     "output_type": "execute_result",
     "data": {
      "text/plain": [
       "Index(['zipcode', 'fullDescription', 'categoryObject', 'yearOfBuilding',\n",
       "       'garden', 'parcelSurface', 'numberRooms', 'numberBathrooms',\n",
       "       'energylabelClass', 'surface', 'publicationDay', 'publicationMonth',\n",
       "       'publicationYear', '2-onder-1-kapwoning', 'OpenPortiek', 'OpenPortiek2',\n",
       "       'appartement', 'bedrijfs-ofdienstwoning', 'bel-etage',\n",
       "       'beneden+bovenwoning', 'benedenwoning', 'bovenwoning', 'bungalow',\n",
       "       'corridorflat', 'dijkwoning', 'drive-inwoning', 'dubbelbenedenhuis',\n",
       "       'dubbelbovenhuis', 'eengezinswoning', 'eindwoning', 'galerijflat',\n",
       "       'geschakelde2-onder-1-kapwoning', 'geschakeldewoning', 'grachtenpand',\n",
       "       'halfvrijstaandewoning', 'herenhuis', 'hoekwoning', 'hofjeswoning',\n",
       "       'kwadrantwoning', 'landgoed', 'landhuis', 'maisonnette', 'paalwoning',\n",
       "       'patiowoning', 'penthouse', 'portiekflat', 'portiekwoning',\n",
       "       'semi-bungalow', 'serviceflat', 'souterrain', 'split-levelwoning',\n",
       "       'stacaravan', 'studentenkamer', 'tussenverdieping', 'tussenwoning',\n",
       "       'verspringend', 'verzorgingsflat', 'villa', 'vrijstaandewoning',\n",
       "       'waterwoning', 'wind/watermolen', 'woonboerderij', 'woonboot',\n",
       "       'Municipalitycode', 'DistrictCode'],\n",
       "      dtype='object')"
      ]
     },
     "metadata": {},
     "execution_count": 55
    }
   ],
   "source": [
    "funda_zipcode_brt_df.columns"
   ]
  },
  {
   "cell_type": "code",
   "execution_count": 56,
   "metadata": {},
   "outputs": [],
   "source": [
    "# Replace NaN in parcelSurface with the mean of the Municpality \n",
    "funda_zipcode_brt_df['parcelSurface'] = funda_zipcode_brt_df.groupby(\"Municipalitycode\").transform(lambda x: x.fillna(x.mean()))\n"
   ]
  },
  {
   "cell_type": "code",
   "execution_count": 65,
   "metadata": {},
   "outputs": [
    {
     "output_type": "execute_result",
     "data": {
      "text/plain": [
       "  zipcode                                    fullDescription categoryObject  \\\n",
       "0  9901CJ  Op een goede locatie gelegen, uitstekend onder...       Woonhuis   \n",
       "1  9901BV  Levensloopbestendig, verrassend en centraal wo...       Woonhuis   \n",
       "2  9901CL  VRIJSTAAND / KARAKTERISTIEK / GROTE WONING / V...       Woonhuis   \n",
       "3  9901BS  Prachtig gelegen halfvrijstaande woning nabij ...       Woonhuis   \n",
       "4  9901AW  Sint Annastraat 7, Appingedam.Een beeldbepalen...       Woonhuis   \n",
       "5  9901BH  Compleet gerenoveerde, sfeervolle en moderne w...       Woonhuis   \n",
       "6  9901EN  *GROTENDEELS VERBOUWD *GROTE TUIN + ACHTEROM *...       Woonhuis   \n",
       "7  9901AE  Royaal en karakteristiek appartement met ruime...    Appartement   \n",
       "8  9901CG  ONDERHANDS VERKOCHT BINNEN ONS KLANTENBESTAND*...       Woonhuis   \n",
       "9  9901CR  Sommige objecten laten zich nauwelijks - volle...       Woonhuis   \n",
       "\n",
       "   yearOfBuilding  garden  parcelSurface  numberRooms  numberBathrooms  \\\n",
       "0          1936.0     1.0         1936.0          6.0              0.0   \n",
       "1          1977.0     1.0         1977.0          4.0              2.0   \n",
       "2          1936.0     1.0         1936.0          7.0              1.0   \n",
       "3          1900.0     1.0         1900.0          3.0              1.0   \n",
       "4          1906.0     0.0         1906.0          5.0              0.0   \n",
       "5          1900.0     1.0         1900.0          4.0              1.0   \n",
       "6          1900.0     1.0         1900.0          3.0              1.0   \n",
       "7          1840.0     1.0         1840.0          5.0              1.0   \n",
       "8          1964.0     1.0         1964.0          4.0              1.0   \n",
       "9          1935.0     1.0         1935.0          7.0              2.0   \n",
       "\n",
       "  energylabelClass  surface  ...  verspringend  verzorgingsflat  villa  \\\n",
       "0                0    120.0  ...           0.0              0.0    0.0   \n",
       "1                0    162.0  ...           0.0              0.0    0.0   \n",
       "2                0    225.0  ...           0.0              0.0    0.0   \n",
       "3                0     74.0  ...           0.0              0.0    0.0   \n",
       "4                G    168.0  ...           0.0              0.0    0.0   \n",
       "5                A     75.0  ...           0.0              0.0    0.0   \n",
       "6                0     75.0  ...           0.0              0.0    0.0   \n",
       "7                0    220.0  ...           0.0              0.0    0.0   \n",
       "8                C     80.0  ...           0.0              0.0    0.0   \n",
       "9                0    230.0  ...           0.0              0.0    0.0   \n",
       "\n",
       "   vrijstaandewoning  waterwoning  wind/watermolen  woonboerderij  woonboot  \\\n",
       "0                1.0          0.0              0.0            0.0       0.0   \n",
       "1                1.0          0.0              0.0            0.0       0.0   \n",
       "2                1.0          0.0              0.0            0.0       0.0   \n",
       "3                0.0          0.0              0.0            0.0       0.0   \n",
       "4                0.0          0.0              0.0            0.0       0.0   \n",
       "5                0.0          0.0              0.0            0.0       0.0   \n",
       "6                0.0          0.0              0.0            0.0       0.0   \n",
       "7                0.0          0.0              0.0            0.0       0.0   \n",
       "8                0.0          0.0              0.0            0.0       0.0   \n",
       "9                1.0          0.0              0.0            0.0       0.0   \n",
       "\n",
       "   Municipalitycode  DistrictCode  \n",
       "0            GM0003      WK000300  \n",
       "1            GM0003      WK000300  \n",
       "2            GM0003      WK000300  \n",
       "3            GM0003      WK000300  \n",
       "4            GM0003      WK000300  \n",
       "5            GM0003      WK000300  \n",
       "6            GM0003      WK000300  \n",
       "7            GM0003      WK000300  \n",
       "8            GM0003      WK000300  \n",
       "9            GM0003      WK000300  \n",
       "\n",
       "[10 rows x 65 columns]"
      ],
      "text/html": "<div>\n<style scoped>\n    .dataframe tbody tr th:only-of-type {\n        vertical-align: middle;\n    }\n\n    .dataframe tbody tr th {\n        vertical-align: top;\n    }\n\n    .dataframe thead th {\n        text-align: right;\n    }\n</style>\n<table border=\"1\" class=\"dataframe\">\n  <thead>\n    <tr style=\"text-align: right;\">\n      <th></th>\n      <th>zipcode</th>\n      <th>fullDescription</th>\n      <th>categoryObject</th>\n      <th>yearOfBuilding</th>\n      <th>garden</th>\n      <th>parcelSurface</th>\n      <th>numberRooms</th>\n      <th>numberBathrooms</th>\n      <th>energylabelClass</th>\n      <th>surface</th>\n      <th>...</th>\n      <th>verspringend</th>\n      <th>verzorgingsflat</th>\n      <th>villa</th>\n      <th>vrijstaandewoning</th>\n      <th>waterwoning</th>\n      <th>wind/watermolen</th>\n      <th>woonboerderij</th>\n      <th>woonboot</th>\n      <th>Municipalitycode</th>\n      <th>DistrictCode</th>\n    </tr>\n  </thead>\n  <tbody>\n    <tr>\n      <th>0</th>\n      <td>9901CJ</td>\n      <td>Op een goede locatie gelegen, uitstekend onder...</td>\n      <td>Woonhuis</td>\n      <td>1936.0</td>\n      <td>1.0</td>\n      <td>1936.0</td>\n      <td>6.0</td>\n      <td>0.0</td>\n      <td>0</td>\n      <td>120.0</td>\n      <td>...</td>\n      <td>0.0</td>\n      <td>0.0</td>\n      <td>0.0</td>\n      <td>1.0</td>\n      <td>0.0</td>\n      <td>0.0</td>\n      <td>0.0</td>\n      <td>0.0</td>\n      <td>GM0003</td>\n      <td>WK000300</td>\n    </tr>\n    <tr>\n      <th>1</th>\n      <td>9901BV</td>\n      <td>Levensloopbestendig, verrassend en centraal wo...</td>\n      <td>Woonhuis</td>\n      <td>1977.0</td>\n      <td>1.0</td>\n      <td>1977.0</td>\n      <td>4.0</td>\n      <td>2.0</td>\n      <td>0</td>\n      <td>162.0</td>\n      <td>...</td>\n      <td>0.0</td>\n      <td>0.0</td>\n      <td>0.0</td>\n      <td>1.0</td>\n      <td>0.0</td>\n      <td>0.0</td>\n      <td>0.0</td>\n      <td>0.0</td>\n      <td>GM0003</td>\n      <td>WK000300</td>\n    </tr>\n    <tr>\n      <th>2</th>\n      <td>9901CL</td>\n      <td>VRIJSTAAND / KARAKTERISTIEK / GROTE WONING / V...</td>\n      <td>Woonhuis</td>\n      <td>1936.0</td>\n      <td>1.0</td>\n      <td>1936.0</td>\n      <td>7.0</td>\n      <td>1.0</td>\n      <td>0</td>\n      <td>225.0</td>\n      <td>...</td>\n      <td>0.0</td>\n      <td>0.0</td>\n      <td>0.0</td>\n      <td>1.0</td>\n      <td>0.0</td>\n      <td>0.0</td>\n      <td>0.0</td>\n      <td>0.0</td>\n      <td>GM0003</td>\n      <td>WK000300</td>\n    </tr>\n    <tr>\n      <th>3</th>\n      <td>9901BS</td>\n      <td>Prachtig gelegen halfvrijstaande woning nabij ...</td>\n      <td>Woonhuis</td>\n      <td>1900.0</td>\n      <td>1.0</td>\n      <td>1900.0</td>\n      <td>3.0</td>\n      <td>1.0</td>\n      <td>0</td>\n      <td>74.0</td>\n      <td>...</td>\n      <td>0.0</td>\n      <td>0.0</td>\n      <td>0.0</td>\n      <td>0.0</td>\n      <td>0.0</td>\n      <td>0.0</td>\n      <td>0.0</td>\n      <td>0.0</td>\n      <td>GM0003</td>\n      <td>WK000300</td>\n    </tr>\n    <tr>\n      <th>4</th>\n      <td>9901AW</td>\n      <td>Sint Annastraat 7, Appingedam.Een beeldbepalen...</td>\n      <td>Woonhuis</td>\n      <td>1906.0</td>\n      <td>0.0</td>\n      <td>1906.0</td>\n      <td>5.0</td>\n      <td>0.0</td>\n      <td>G</td>\n      <td>168.0</td>\n      <td>...</td>\n      <td>0.0</td>\n      <td>0.0</td>\n      <td>0.0</td>\n      <td>0.0</td>\n      <td>0.0</td>\n      <td>0.0</td>\n      <td>0.0</td>\n      <td>0.0</td>\n      <td>GM0003</td>\n      <td>WK000300</td>\n    </tr>\n    <tr>\n      <th>5</th>\n      <td>9901BH</td>\n      <td>Compleet gerenoveerde, sfeervolle en moderne w...</td>\n      <td>Woonhuis</td>\n      <td>1900.0</td>\n      <td>1.0</td>\n      <td>1900.0</td>\n      <td>4.0</td>\n      <td>1.0</td>\n      <td>A</td>\n      <td>75.0</td>\n      <td>...</td>\n      <td>0.0</td>\n      <td>0.0</td>\n      <td>0.0</td>\n      <td>0.0</td>\n      <td>0.0</td>\n      <td>0.0</td>\n      <td>0.0</td>\n      <td>0.0</td>\n      <td>GM0003</td>\n      <td>WK000300</td>\n    </tr>\n    <tr>\n      <th>6</th>\n      <td>9901EN</td>\n      <td>*GROTENDEELS VERBOUWD *GROTE TUIN + ACHTEROM *...</td>\n      <td>Woonhuis</td>\n      <td>1900.0</td>\n      <td>1.0</td>\n      <td>1900.0</td>\n      <td>3.0</td>\n      <td>1.0</td>\n      <td>0</td>\n      <td>75.0</td>\n      <td>...</td>\n      <td>0.0</td>\n      <td>0.0</td>\n      <td>0.0</td>\n      <td>0.0</td>\n      <td>0.0</td>\n      <td>0.0</td>\n      <td>0.0</td>\n      <td>0.0</td>\n      <td>GM0003</td>\n      <td>WK000300</td>\n    </tr>\n    <tr>\n      <th>7</th>\n      <td>9901AE</td>\n      <td>Royaal en karakteristiek appartement met ruime...</td>\n      <td>Appartement</td>\n      <td>1840.0</td>\n      <td>1.0</td>\n      <td>1840.0</td>\n      <td>5.0</td>\n      <td>1.0</td>\n      <td>0</td>\n      <td>220.0</td>\n      <td>...</td>\n      <td>0.0</td>\n      <td>0.0</td>\n      <td>0.0</td>\n      <td>0.0</td>\n      <td>0.0</td>\n      <td>0.0</td>\n      <td>0.0</td>\n      <td>0.0</td>\n      <td>GM0003</td>\n      <td>WK000300</td>\n    </tr>\n    <tr>\n      <th>8</th>\n      <td>9901CG</td>\n      <td>ONDERHANDS VERKOCHT BINNEN ONS KLANTENBESTAND*...</td>\n      <td>Woonhuis</td>\n      <td>1964.0</td>\n      <td>1.0</td>\n      <td>1964.0</td>\n      <td>4.0</td>\n      <td>1.0</td>\n      <td>C</td>\n      <td>80.0</td>\n      <td>...</td>\n      <td>0.0</td>\n      <td>0.0</td>\n      <td>0.0</td>\n      <td>0.0</td>\n      <td>0.0</td>\n      <td>0.0</td>\n      <td>0.0</td>\n      <td>0.0</td>\n      <td>GM0003</td>\n      <td>WK000300</td>\n    </tr>\n    <tr>\n      <th>9</th>\n      <td>9901CR</td>\n      <td>Sommige objecten laten zich nauwelijks - volle...</td>\n      <td>Woonhuis</td>\n      <td>1935.0</td>\n      <td>1.0</td>\n      <td>1935.0</td>\n      <td>7.0</td>\n      <td>2.0</td>\n      <td>0</td>\n      <td>230.0</td>\n      <td>...</td>\n      <td>0.0</td>\n      <td>0.0</td>\n      <td>0.0</td>\n      <td>1.0</td>\n      <td>0.0</td>\n      <td>0.0</td>\n      <td>0.0</td>\n      <td>0.0</td>\n      <td>GM0003</td>\n      <td>WK000300</td>\n    </tr>\n  </tbody>\n</table>\n<p>10 rows × 65 columns</p>\n</div>"
     },
     "metadata": {},
     "execution_count": 65
    }
   ],
   "source": [
    "funda_zipcode_brt_df.head(10)"
   ]
  },
  {
   "cell_type": "code",
   "execution_count": 69,
   "metadata": {},
   "outputs": [],
   "source": [
    "funda_zipcode_brt_df = pd.get_dummies(funda_zipcode_brt_df, columns=['Municipalitycode', 'DistrictCode'])"
   ]
  },
  {
   "cell_type": "code",
   "execution_count": 70,
   "metadata": {},
   "outputs": [
    {
     "output_type": "execute_result",
     "data": {
      "text/plain": [
       "Index(['zipcode', 'fullDescription', 'categoryObject', 'yearOfBuilding',\n",
       "       'garden', 'parcelSurface', 'numberRooms', 'numberBathrooms',\n",
       "       'energylabelClass', 'surface',\n",
       "       ...\n",
       "       'DistrictCode_WK197811', 'DistrictCode_WK197812',\n",
       "       'DistrictCode_WK197813', 'DistrictCode_WK197814',\n",
       "       'DistrictCode_WK197815', 'DistrictCode_WK197816',\n",
       "       'DistrictCode_WK197817', 'DistrictCode_WK197818',\n",
       "       'DistrictCode_WK197819', 'DistrictCode_WK197820'],\n",
       "      dtype='object', length=3595)"
      ]
     },
     "metadata": {},
     "execution_count": 70
    }
   ],
   "source": [
    "funda_zipcode_brt_df.columns"
   ]
  },
  {
   "cell_type": "code",
   "execution_count": null,
   "metadata": {},
   "outputs": [],
   "source": [
    "funda_zipcode_brt_df.head(5)"
   ]
  },
  {
   "cell_type": "code",
   "execution_count": null,
   "metadata": {},
   "outputs": [],
   "source": []
  }
 ],
 "metadata": {
  "kernelspec": {
   "name": "python3",
   "display_name": "Python 3.8.6 64-bit ('Neuralnetwork': conda)",
   "metadata": {
    "interpreter": {
     "hash": "5ac351fefc6f1fafce45b5d7a001636dd5b44bbcd9d4a2eb56f7e5ca0039d71d"
    }
   }
  },
  "language_info": {
   "codemirror_mode": {
    "name": "ipython",
    "version": 3
   },
   "file_extension": ".py",
   "mimetype": "text/x-python",
   "name": "python",
   "nbconvert_exporter": "python",
   "pygments_lexer": "ipython3",
   "version": "3.8.6-final"
  }
 },
 "nbformat": 4,
 "nbformat_minor": 4
}