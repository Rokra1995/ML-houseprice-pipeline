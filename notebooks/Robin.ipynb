{
 "cells": [
  {
   "cell_type": "code",
   "execution_count": 25,
   "metadata": {
    "tags": []
   },
   "outputs": [],
   "source": [
    "import pandas as pd\n",
    "import os"
   ]
  },
  {
   "cell_type": "code",
   "execution_count": 76,
   "metadata": {
    "tags": []
   },
   "outputs": [],
   "source": [
    "class DataLoader(object):\n",
    "\n",
    "    def __init__(self, base_folder):\n",
    "        self.base_folder = base_folder\n",
    "\n",
    "    def load_cbs_postcodes(self):\n",
    "            full_path = os.path.join(self.base_folder, 'data/raw/pc6-gwb2020.csv')\n",
    "            data = pd.read_csv(full_path, sep=\";\")\n",
    "            return data\n",
    "\n",
    "    def load_funda_data_2020(self):\n",
    "        full_path = os.path.join(self.base_folder, 'data/raw/funda_2020_sold_houses.csv')\n",
    "        data = pd.read_csv(full_path)\n",
    "        return data"
   ]
  },
  {
   "cell_type": "code",
   "execution_count": 77,
   "metadata": {
    "tags": []
   },
   "outputs": [],
   "source": [
    "dataloader = DataLoader(base_folder='/Users/Robinkratschmayr2/Library/Mobile Documents/com~apple~CloudDocs/2. Ausbildung/Master/Quarter 2/Artificial Intelligence for Business/Assignment/product3team2')\n",
    "data = dataloader.load_cbs_postcodes()\n",
    "funda = dataloader.load_funda_data_2020()"
   ]
  },
  {
   "cell_type": "code",
   "execution_count": 80,
   "metadata": {},
   "outputs": [
    {
     "output_type": "execute_result",
     "data": {
      "text/plain": "      PC6  Buurt2020  Wijk2020  Gemeente2020\n0  1011AB    3630400     36304           363\n1  1011AC    3630400     36304           363\n2  1011AD    3630400     36304           363\n3  1011AE    3630400     36304           363\n4  1011AG    3630403     36304           363",
      "text/html": "<div>\n<style scoped>\n    .dataframe tbody tr th:only-of-type {\n        vertical-align: middle;\n    }\n\n    .dataframe tbody tr th {\n        vertical-align: top;\n    }\n\n    .dataframe thead th {\n        text-align: right;\n    }\n</style>\n<table border=\"1\" class=\"dataframe\">\n  <thead>\n    <tr style=\"text-align: right;\">\n      <th></th>\n      <th>PC6</th>\n      <th>Buurt2020</th>\n      <th>Wijk2020</th>\n      <th>Gemeente2020</th>\n    </tr>\n  </thead>\n  <tbody>\n    <tr>\n      <th>0</th>\n      <td>1011AB</td>\n      <td>3630400</td>\n      <td>36304</td>\n      <td>363</td>\n    </tr>\n    <tr>\n      <th>1</th>\n      <td>1011AC</td>\n      <td>3630400</td>\n      <td>36304</td>\n      <td>363</td>\n    </tr>\n    <tr>\n      <th>2</th>\n      <td>1011AD</td>\n      <td>3630400</td>\n      <td>36304</td>\n      <td>363</td>\n    </tr>\n    <tr>\n      <th>3</th>\n      <td>1011AE</td>\n      <td>3630400</td>\n      <td>36304</td>\n      <td>363</td>\n    </tr>\n    <tr>\n      <th>4</th>\n      <td>1011AG</td>\n      <td>3630403</td>\n      <td>36304</td>\n      <td>363</td>\n    </tr>\n  </tbody>\n</table>\n</div>"
     },
     "metadata": {},
     "execution_count": 80
    }
   ],
   "source": [
    "data.head()"
   ]
  },
  {
   "cell_type": "code",
   "execution_count": 78,
   "metadata": {},
   "outputs": [
    {
     "output_type": "execute_result",
     "data": {
      "text/plain": "  zipcode  sellingPrice  Asking_Price_M2   Facilities         Cadastre_Title  \\\n0  3417EK        315000      2943.925234  Electricity       MONTFOORT A 5048   \n1  3862KT        335000      1340.000000         None          NIJKERK M 635   \n2  6852RJ        395000      2801.418440  Electricity         HUISSEN G 2103   \n3  1431HZ        375000      2314.814815  Electricity        AALSMEER C 2721   \n4  2548HV        425000      3320.312500  Electricity  'S-GRAVENHAGE AX 8313   \n\n                                 Ownership situation  \\\n0                                     Full ownership   \n1                                     Full ownership   \n2                                     Full ownership   \n3                                     Full ownership   \n4  Municipal ownership encumbered with long-term ...   \n\n                                     fulldescription  \\\n0  Deze gunstig gelegen tussenwoning is twee jaar...   \n1  In een rustige woonwijk met zeer veel groen ge...   \n2  Tribunusallee 39 te Huissen  Modern afgewerkte...   \n3  Would you like to live in one of the nicest st...   \n4  Zeer fraai en luxueus afgewerkte 5 kamer eenge...   \n\n                              housetype parcelsurface yearofbuilding  ...  \\\n0     Single-family home, row house\\r\\n        107 m²           1982  ...   \n1  Single-family home, corner house\\r\\n        250 m²           1976  ...   \n2  Single-family home, corner house\\r\\n        141 m²           2010  ...   \n3     Single-family home, row house\\r\\n        162 m²           1941  ...   \n4     Single-family home, row house\\r\\n        128 m²           2008  ...   \n\n  numberrooms  numberbathrooms  energylabelclass  surface  \\\n0           5                1                 C      107   \n1           4                1                 C      250   \n2           5                2                 A      141   \n3           5                1                 F      162   \n4           4                1                 A      128   \n\n                         sales_agent                            buying_agent  \\\n0           Beumer Garantiemakelaars  Verschoor Makelaardij & Assurantiën BV   \n1            Van de Ridder Makelaars                                     NaN   \n2  Hermsen Garantiemakelaars Huissen                                     NaN   \n3                 Eveleens Makelaars           Peters en Partners Amstelveen   \n4            Olsthoorn NVM Makelaars                                     NaN   \n\n  sellingDate publicationDate sellingtime  \\\n0  2020-12-02      2020-11-27           5   \n1  2020-12-02      2020-11-19          13   \n2  2020-12-01      2020-11-19          12   \n3  2020-12-01      2020-11-21          10   \n4  2020-12-03      2020-11-24           9   \n\n                                                 url  \n0  https://www.funda.nl/en/koop/verkocht/montfoor...  \n1  https://www.funda.nl/en/koop/verkocht/nijkerk/...  \n2  https://www.funda.nl/en/koop/verkocht/huissen/...  \n3  https://www.funda.nl/en/koop/verkocht/aalsmeer...  \n4  https://www.funda.nl/en/koop/verkocht/den-haag...  \n\n[5 rows x 22 columns]",
      "text/html": "<div>\n<style scoped>\n    .dataframe tbody tr th:only-of-type {\n        vertical-align: middle;\n    }\n\n    .dataframe tbody tr th {\n        vertical-align: top;\n    }\n\n    .dataframe thead th {\n        text-align: right;\n    }\n</style>\n<table border=\"1\" class=\"dataframe\">\n  <thead>\n    <tr style=\"text-align: right;\">\n      <th></th>\n      <th>zipcode</th>\n      <th>sellingPrice</th>\n      <th>Asking_Price_M2</th>\n      <th>Facilities</th>\n      <th>Cadastre_Title</th>\n      <th>Ownership situation</th>\n      <th>fulldescription</th>\n      <th>housetype</th>\n      <th>parcelsurface</th>\n      <th>yearofbuilding</th>\n      <th>...</th>\n      <th>numberrooms</th>\n      <th>numberbathrooms</th>\n      <th>energylabelclass</th>\n      <th>surface</th>\n      <th>sales_agent</th>\n      <th>buying_agent</th>\n      <th>sellingDate</th>\n      <th>publicationDate</th>\n      <th>sellingtime</th>\n      <th>url</th>\n    </tr>\n  </thead>\n  <tbody>\n    <tr>\n      <th>0</th>\n      <td>3417EK</td>\n      <td>315000</td>\n      <td>2943.925234</td>\n      <td>Electricity</td>\n      <td>MONTFOORT A 5048</td>\n      <td>Full ownership</td>\n      <td>Deze gunstig gelegen tussenwoning is twee jaar...</td>\n      <td>Single-family home, row house\\r\\n</td>\n      <td>107 m²</td>\n      <td>1982</td>\n      <td>...</td>\n      <td>5</td>\n      <td>1</td>\n      <td>C</td>\n      <td>107</td>\n      <td>Beumer Garantiemakelaars</td>\n      <td>Verschoor Makelaardij &amp; Assurantiën BV</td>\n      <td>2020-12-02</td>\n      <td>2020-11-27</td>\n      <td>5</td>\n      <td>https://www.funda.nl/en/koop/verkocht/montfoor...</td>\n    </tr>\n    <tr>\n      <th>1</th>\n      <td>3862KT</td>\n      <td>335000</td>\n      <td>1340.000000</td>\n      <td>None</td>\n      <td>NIJKERK M 635</td>\n      <td>Full ownership</td>\n      <td>In een rustige woonwijk met zeer veel groen ge...</td>\n      <td>Single-family home, corner house\\r\\n</td>\n      <td>250 m²</td>\n      <td>1976</td>\n      <td>...</td>\n      <td>4</td>\n      <td>1</td>\n      <td>C</td>\n      <td>250</td>\n      <td>Van de Ridder Makelaars</td>\n      <td>NaN</td>\n      <td>2020-12-02</td>\n      <td>2020-11-19</td>\n      <td>13</td>\n      <td>https://www.funda.nl/en/koop/verkocht/nijkerk/...</td>\n    </tr>\n    <tr>\n      <th>2</th>\n      <td>6852RJ</td>\n      <td>395000</td>\n      <td>2801.418440</td>\n      <td>Electricity</td>\n      <td>HUISSEN G 2103</td>\n      <td>Full ownership</td>\n      <td>Tribunusallee 39 te Huissen  Modern afgewerkte...</td>\n      <td>Single-family home, corner house\\r\\n</td>\n      <td>141 m²</td>\n      <td>2010</td>\n      <td>...</td>\n      <td>5</td>\n      <td>2</td>\n      <td>A</td>\n      <td>141</td>\n      <td>Hermsen Garantiemakelaars Huissen</td>\n      <td>NaN</td>\n      <td>2020-12-01</td>\n      <td>2020-11-19</td>\n      <td>12</td>\n      <td>https://www.funda.nl/en/koop/verkocht/huissen/...</td>\n    </tr>\n    <tr>\n      <th>3</th>\n      <td>1431HZ</td>\n      <td>375000</td>\n      <td>2314.814815</td>\n      <td>Electricity</td>\n      <td>AALSMEER C 2721</td>\n      <td>Full ownership</td>\n      <td>Would you like to live in one of the nicest st...</td>\n      <td>Single-family home, row house\\r\\n</td>\n      <td>162 m²</td>\n      <td>1941</td>\n      <td>...</td>\n      <td>5</td>\n      <td>1</td>\n      <td>F</td>\n      <td>162</td>\n      <td>Eveleens Makelaars</td>\n      <td>Peters en Partners Amstelveen</td>\n      <td>2020-12-01</td>\n      <td>2020-11-21</td>\n      <td>10</td>\n      <td>https://www.funda.nl/en/koop/verkocht/aalsmeer...</td>\n    </tr>\n    <tr>\n      <th>4</th>\n      <td>2548HV</td>\n      <td>425000</td>\n      <td>3320.312500</td>\n      <td>Electricity</td>\n      <td>'S-GRAVENHAGE AX 8313</td>\n      <td>Municipal ownership encumbered with long-term ...</td>\n      <td>Zeer fraai en luxueus afgewerkte 5 kamer eenge...</td>\n      <td>Single-family home, row house\\r\\n</td>\n      <td>128 m²</td>\n      <td>2008</td>\n      <td>...</td>\n      <td>4</td>\n      <td>1</td>\n      <td>A</td>\n      <td>128</td>\n      <td>Olsthoorn NVM Makelaars</td>\n      <td>NaN</td>\n      <td>2020-12-03</td>\n      <td>2020-11-24</td>\n      <td>9</td>\n      <td>https://www.funda.nl/en/koop/verkocht/den-haag...</td>\n    </tr>\n  </tbody>\n</table>\n<p>5 rows × 22 columns</p>\n</div>"
     },
     "metadata": {},
     "execution_count": 78
    }
   ],
   "source": [
    "funda.head()"
   ]
  },
  {
   "cell_type": "code",
   "execution_count": null,
   "metadata": {},
   "outputs": [],
   "source": []
  }
 ],
 "metadata": {
  "language_info": {
   "codemirror_mode": {
    "name": "ipython",
    "version": 3
   },
   "file_extension": ".py",
   "mimetype": "text/x-python",
   "name": "python",
   "nbconvert_exporter": "python",
   "pygments_lexer": "ipython3",
   "version": 3
  },
  "orig_nbformat": 2,
  "kernelspec": {
   "name": "python_defaultSpec_1608038942822",
   "display_name": "Python 3.7.5 64-bit ('VE': virtualenv)"
  }
 },
 "nbformat": 4,
 "nbformat_minor": 2
}