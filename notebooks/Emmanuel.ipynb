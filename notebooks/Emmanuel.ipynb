{
 "metadata": {
  "language_info": {
   "codemirror_mode": {
    "name": "ipython",
    "version": 3
   },
   "file_extension": ".py",
   "mimetype": "text/x-python",
   "name": "python",
   "nbconvert_exporter": "python",
   "pygments_lexer": "ipython3",
   "version": "3.8.5-final"
  },
  "orig_nbformat": 2,
  "kernelspec": {
   "name": "python3",
   "display_name": "Python 3.8.5 64-bit ('AI-for-Business-env': conda)",
   "metadata": {
    "interpreter": {
     "hash": "48b1876a6d8f57b4761a59b7b71cb4524a7ff1f695adb9cda8c8cb2c2fced568"
    }
   }
  }
 },
 "nbformat": 4,
 "nbformat_minor": 2,
 "cells": [
  {
   "cell_type": "code",
   "execution_count": 1,
   "metadata": {},
   "outputs": [],
   "source": [
    "# Libraries and options\n",
    "# If error [No module named 'sklearn'], in terminal: conda install -c conda-forge scikit-learn\n",
    "import IPython\n",
    "from sklearn.model_selection import train_test_split\n",
    "from sklearn.ensemble import RandomForestRegressor\n",
    "from sklearn.metrics import mean_absolute_error \n",
    "%matplotlib inline\n",
    "from matplotlib import pyplot as plt\n",
    "import seaborn as sb\n",
    "import matplotlib.pyplot as plt\n",
    "import pandas as pd\n",
    "import numpy as np\n",
    "import warnings \n",
    "warnings.filterwarnings('ignore')\n",
    "warnings.filterwarnings('ignore', category=DeprecationWarning)\n",
    "#from xgboost import XGBRegressor"
   ]
  },
  {
   "cell_type": "code",
   "execution_count": 2,
   "metadata": {},
   "outputs": [],
   "source": [
    "class DataLoader(object):\n",
    "\n",
    "       def __init__(self, base_folder):\n",
    "              self.base_folder = base_folder\n",
    "\n",
    "       def load_crime_data(self):\n",
    "              full_path = os.path.join(self.base_folder, 'data/raw/crime_data.csv')\n",
    "              data = pd.read_csv(full_path, sep=\";\")\n",
    "              data = data.drop(['ID', 'SoortMisdrijf', 'Perioden'], axis=1)\n",
    "              data = data.rename(columns={'SoortMisdrijf': 'CrimeType', 'RegioS': 'Municipalitycode', 'Perioden': 'Periods', 'TotaalGeregistreerdeMisdrijven_1': 'Total Registered Crimes', 'GeregistreerdeMisdrijvenRelatief_2': 'Registered Crimes Relative', 'GeregistreerdeMisdrijvenPer1000Inw_3': 'Registered CrimesPer1000Inw', 'TotaalOpgehelderdeMisdrijven_4': 'TotalClearedCrimes', 'OpgehelderdeMisdrijvenRelatief_5': 'ClearedCrimesRelative', 'RegistratiesVanVerdachten_6': 'RegistrationsofSuspects'})\n",
    "              print('ID, SoortMisdrijf & Perioden successfully dropped')\n",
    "              data = data.replace(0.0, np.nan)\n",
    "              data = data.replace(0, np.nan)\n",
    "              print('All the zero values are replaced with NaN')\n",
    "              return data\n",
    "\n",
    "       def load_tourist_info(self):\n",
    "              full_path = os.path.join(self.base_folder, 'data/raw/tourist_info.csv')\n",
    "              data = pd.read_csv(full_path, sep=\";\")\n",
    "              data = data.rename(columns={'WoonlandVanGasten': 'Residential Land Of Guests', 'RegioS': 'Municipalitycode', 'Perioden': 'Periods', 'Gasten_1': 'Guests', 'Overnachtingen_2': 'Overnights'})\n",
    "              data = data.drop(['ID', 'Residential Land Of Guests', 'Periods'], axis=1)\n",
    "              print('ID, Residential Land Of Guests & Periods successfully dropped')\n",
    "              data = data.replace(0.0, np.nan)\n",
    "              data = data.replace(0, np.nan)\n",
    "              print('All the zero values are replaced with NaN')\n",
    "              return data\n",
    "\n",
    "       def load_cbs_data(self):\n",
    "              full_path = os.path.join(self.base_folder, 'data', 'raw', 'CBS_data.csv')\n",
    "              data = pd.read_csv(full_path, sep=\";\")\n",
    "              data = data.drop(['ID', 'Gemeentenaam_1', 'Codering_3'], axis=1)\n",
    "              data = data.rename(columns={'WijkenEnBuurten':'NeighborhoodsAndDistricts','Gemeentenaam_1':'NameOfMunicipality','Mannen_6':'NumberOfMen',\n",
    "    'Vrouwen_7':'NumberOfWomen','k_0Tot15Jaar_8':'AgeFrom0to15years','k_15Tot25Jaar_9':'AgeFrom15to25years',\n",
    "    'k_25Tot45Jaar_10' : 'AgeFrom25to45years','k_45Tot65Jaar_11' : 'AgeFrom45to65years','k_65JaarOfOuder_12' : 'AgeFrom65AndOlder',\n",
    "    'Bevolkingsdichtheid_33' : 'PopulationDensity','Woningvoorraad_34' : 'HousingStock','PercentageBewoond_38' : 'PercentageInhabited',\n",
    "    'PercentageOnbewoond_39' : 'PercentageUninhabited','Koopwoningen_40' : 'OwnerOccupiedHouses','HuurwoningenTotaal_41' : 'RentalHouses',\n",
    "    'BouwjaarVoor2000_45' : 'ConstructionYearBefore2000','BouwjaarVanaf2000_46' : 'ConstructionYearAfter2000',\n",
    "    'GemiddeldInkomenPerInwoner_66' : 'AverageIncomePerCitizen','MeestVoorkomendePostcode_103' : 'MostCommonPostalCode','Dekkingspercentage_104' : 'CoveragePercentage'})\n",
    "              print('ID, Gemeentenaam_1 & Codering_3 succesfully dropped')\n",
    "              data = data.replace(0.0, np.nan)\n",
    "              data = data.replace(0, np.nan)\n",
    "              data = data.replace(\"       .\", np.nan)\n",
    "              data = data.replace(\"         .\", np.nan)\n",
    "              print('All the zero values are replaced with NaN')\n",
    "              return data"
   ]
  },
  {
   "cell_type": "code",
   "execution_count": 3,
   "metadata": {},
   "outputs": [
    {
     "output_type": "stream",
     "name": "stdout",
     "text": [
      "ID, SoortMisdrijf & Perioden successfully dropped\nAll the zero values are replaced with NaN\nID, Residential Land Of Guests & Periods successfully dropped\nAll the zero values are replaced with NaN\nID, Gemeentenaam_1 & Codering_3 succesfully dropped\nAll the zero values are replaced with NaN\n"
     ]
    }
   ],
   "source": [
    "dataloader = DataLoader(base_folder='/Users/eaowusu/Documents/Amsterdam University of Applied Science/COLLEGE YEAR 2020 l 2021/DDB - COURSES 2020 l 2021/BLOCK 2/Artificial Intelligence for Business/Team2-Know How to Google/product3team2')\n",
    "crime_data = dataloader.load_crime_data()\n",
    "tourist_info = dataloader.load_tourist_info()\n",
    "cbs_data = dataloader.load_cbs_data()"
   ]
  },
  {
   "cell_type": "code",
   "execution_count": 4,
   "metadata": {},
   "outputs": [
    {
     "output_type": "execute_result",
     "data": {
      "text/plain": [
       "  Municipalitycode  Guests  Overnights\n",
       "0           GM0363  8577.0     16673.0\n",
       "1           GM0599  1261.0      2043.0\n",
       "2           GM0518  1079.0      1754.0\n",
       "3           GM0344   441.0       689.0\n",
       "4           GM0935   698.0      1157.0"
      ],
      "text/html": "<div>\n<style scoped>\n    .dataframe tbody tr th:only-of-type {\n        vertical-align: middle;\n    }\n\n    .dataframe tbody tr th {\n        vertical-align: top;\n    }\n\n    .dataframe thead th {\n        text-align: right;\n    }\n</style>\n<table border=\"1\" class=\"dataframe\">\n  <thead>\n    <tr style=\"text-align: right;\">\n      <th></th>\n      <th>Municipalitycode</th>\n      <th>Guests</th>\n      <th>Overnights</th>\n    </tr>\n  </thead>\n  <tbody>\n    <tr>\n      <th>0</th>\n      <td>GM0363</td>\n      <td>8577.0</td>\n      <td>16673.0</td>\n    </tr>\n    <tr>\n      <th>1</th>\n      <td>GM0599</td>\n      <td>1261.0</td>\n      <td>2043.0</td>\n    </tr>\n    <tr>\n      <th>2</th>\n      <td>GM0518</td>\n      <td>1079.0</td>\n      <td>1754.0</td>\n    </tr>\n    <tr>\n      <th>3</th>\n      <td>GM0344</td>\n      <td>441.0</td>\n      <td>689.0</td>\n    </tr>\n    <tr>\n      <th>4</th>\n      <td>GM0935</td>\n      <td>698.0</td>\n      <td>1157.0</td>\n    </tr>\n  </tbody>\n</table>\n</div>"
     },
     "metadata": {},
     "execution_count": 4
    }
   ],
   "source": [
    "tourist_info.head(5)"
   ]
  },
  {
   "cell_type": "code",
   "execution_count": 5,
   "metadata": {},
   "outputs": [
    {
     "output_type": "execute_result",
     "data": {
      "text/plain": [
       "  Municipalitycode  Total Registered Crimes  Registered Crimes Relative  \\\n",
       "0           GM1680                    545.0                       100.0   \n",
       "1           GM0738                    255.0                       100.0   \n",
       "2           GM0358                   1135.0                       100.0   \n",
       "3           GM0197                    505.0                       100.0   \n",
       "4           GM0305                      NaN                         NaN   \n",
       "\n",
       "  Registered CrimesPer1000Inw  TotalClearedCrimes  ClearedCrimesRelative  \\\n",
       "0                        21.4               125.0                   22.7   \n",
       "1                        19.5                45.0                   16.8   \n",
       "2                        36.0               280.0                   24.7   \n",
       "3                        18.7               180.0                   35.3   \n",
       "4                         NaN                 NaN                    NaN   \n",
       "\n",
       "   RegistrationsofSuspects  \n",
       "0                    155.0  \n",
       "1                     50.0  \n",
       "2                    325.0  \n",
       "3                    215.0  \n",
       "4                      NaN  "
      ],
      "text/html": "<div>\n<style scoped>\n    .dataframe tbody tr th:only-of-type {\n        vertical-align: middle;\n    }\n\n    .dataframe tbody tr th {\n        vertical-align: top;\n    }\n\n    .dataframe thead th {\n        text-align: right;\n    }\n</style>\n<table border=\"1\" class=\"dataframe\">\n  <thead>\n    <tr style=\"text-align: right;\">\n      <th></th>\n      <th>Municipalitycode</th>\n      <th>Total Registered Crimes</th>\n      <th>Registered Crimes Relative</th>\n      <th>Registered CrimesPer1000Inw</th>\n      <th>TotalClearedCrimes</th>\n      <th>ClearedCrimesRelative</th>\n      <th>RegistrationsofSuspects</th>\n    </tr>\n  </thead>\n  <tbody>\n    <tr>\n      <th>0</th>\n      <td>GM1680</td>\n      <td>545.0</td>\n      <td>100.0</td>\n      <td>21.4</td>\n      <td>125.0</td>\n      <td>22.7</td>\n      <td>155.0</td>\n    </tr>\n    <tr>\n      <th>1</th>\n      <td>GM0738</td>\n      <td>255.0</td>\n      <td>100.0</td>\n      <td>19.5</td>\n      <td>45.0</td>\n      <td>16.8</td>\n      <td>50.0</td>\n    </tr>\n    <tr>\n      <th>2</th>\n      <td>GM0358</td>\n      <td>1135.0</td>\n      <td>100.0</td>\n      <td>36.0</td>\n      <td>280.0</td>\n      <td>24.7</td>\n      <td>325.0</td>\n    </tr>\n    <tr>\n      <th>3</th>\n      <td>GM0197</td>\n      <td>505.0</td>\n      <td>100.0</td>\n      <td>18.7</td>\n      <td>180.0</td>\n      <td>35.3</td>\n      <td>215.0</td>\n    </tr>\n    <tr>\n      <th>4</th>\n      <td>GM0305</td>\n      <td>NaN</td>\n      <td>NaN</td>\n      <td>NaN</td>\n      <td>NaN</td>\n      <td>NaN</td>\n      <td>NaN</td>\n    </tr>\n  </tbody>\n</table>\n</div>"
     },
     "metadata": {},
     "execution_count": 5
    }
   ],
   "source": [
    "crime_data.head(5)"
   ]
  },
  {
   "cell_type": "code",
   "execution_count": 6,
   "metadata": {},
   "outputs": [
    {
     "output_type": "execute_result",
     "data": {
      "text/plain": [
       "  NeighborhoodsAndDistricts  NumberOfMen  NumberOfWomen  AgeFrom0to15years  \\\n",
       "0                NL00          8527041.0      8654043.0          2762624.0   \n",
       "1                GM1680          12666.0        12724.0             3531.0   \n",
       "2                WK168000         1735.0         1825.0              570.0   \n",
       "3                BU16800000       1660.0         1755.0              560.0   \n",
       "4                BU16800009         75.0           70.0               10.0   \n",
       "\n",
       "   AgeFrom15to25years  AgeFrom25to45years  AgeFrom45to65years  \\\n",
       "0           2116813.0           4222614.0           4839917.0   \n",
       "1              2571.0              4398.0              8396.0   \n",
       "2               335.0               610.0              1170.0   \n",
       "3               320.0               595.0              1100.0   \n",
       "4                10.0                15.0                70.0   \n",
       "\n",
       "   AgeFrom65AndOlder PopulationDensity  HousingStock PercentageInhabited  \\\n",
       "0          3239116.0               510     7740984.0                  96   \n",
       "1             6494.0                92       11165.0                  95   \n",
       "2              860.0               243        1595.0                  96   \n",
       "3              830.0              1354        1532.0                  96   \n",
       "4               30.0                12          63.0                  94   \n",
       "\n",
       "  PercentageUninhabited OwnerOccupiedHouses RentalHouses  \\\n",
       "0                     4                  57           42   \n",
       "1                     5                  73           25   \n",
       "2                     4                  73           23   \n",
       "3                     4                  72           24   \n",
       "4                     6                  98            2   \n",
       "\n",
       "  ConstructionYearBefore2000 ConstructionYearAfter2000  \\\n",
       "0                         85                        15   \n",
       "1                         90                        10   \n",
       "2                         89                        11   \n",
       "3                         90                        10   \n",
       "4                         68                        32   \n",
       "\n",
       "  AverageIncomePerCitizen MostCommonPostalCode CoveragePercentage  \n",
       "0                    26.0                  NaN                NaN  \n",
       "1                    26.1                  NaN                NaN  \n",
       "2                    27.2                  NaN                NaN  \n",
       "3                    26.4                 9468                  1  \n",
       "4                     NaN                 9468                  1  "
      ],
      "text/html": "<div>\n<style scoped>\n    .dataframe tbody tr th:only-of-type {\n        vertical-align: middle;\n    }\n\n    .dataframe tbody tr th {\n        vertical-align: top;\n    }\n\n    .dataframe thead th {\n        text-align: right;\n    }\n</style>\n<table border=\"1\" class=\"dataframe\">\n  <thead>\n    <tr style=\"text-align: right;\">\n      <th></th>\n      <th>NeighborhoodsAndDistricts</th>\n      <th>NumberOfMen</th>\n      <th>NumberOfWomen</th>\n      <th>AgeFrom0to15years</th>\n      <th>AgeFrom15to25years</th>\n      <th>AgeFrom25to45years</th>\n      <th>AgeFrom45to65years</th>\n      <th>AgeFrom65AndOlder</th>\n      <th>PopulationDensity</th>\n      <th>HousingStock</th>\n      <th>PercentageInhabited</th>\n      <th>PercentageUninhabited</th>\n      <th>OwnerOccupiedHouses</th>\n      <th>RentalHouses</th>\n      <th>ConstructionYearBefore2000</th>\n      <th>ConstructionYearAfter2000</th>\n      <th>AverageIncomePerCitizen</th>\n      <th>MostCommonPostalCode</th>\n      <th>CoveragePercentage</th>\n    </tr>\n  </thead>\n  <tbody>\n    <tr>\n      <th>0</th>\n      <td>NL00</td>\n      <td>8527041.0</td>\n      <td>8654043.0</td>\n      <td>2762624.0</td>\n      <td>2116813.0</td>\n      <td>4222614.0</td>\n      <td>4839917.0</td>\n      <td>3239116.0</td>\n      <td>510</td>\n      <td>7740984.0</td>\n      <td>96</td>\n      <td>4</td>\n      <td>57</td>\n      <td>42</td>\n      <td>85</td>\n      <td>15</td>\n      <td>26.0</td>\n      <td>NaN</td>\n      <td>NaN</td>\n    </tr>\n    <tr>\n      <th>1</th>\n      <td>GM1680</td>\n      <td>12666.0</td>\n      <td>12724.0</td>\n      <td>3531.0</td>\n      <td>2571.0</td>\n      <td>4398.0</td>\n      <td>8396.0</td>\n      <td>6494.0</td>\n      <td>92</td>\n      <td>11165.0</td>\n      <td>95</td>\n      <td>5</td>\n      <td>73</td>\n      <td>25</td>\n      <td>90</td>\n      <td>10</td>\n      <td>26.1</td>\n      <td>NaN</td>\n      <td>NaN</td>\n    </tr>\n    <tr>\n      <th>2</th>\n      <td>WK168000</td>\n      <td>1735.0</td>\n      <td>1825.0</td>\n      <td>570.0</td>\n      <td>335.0</td>\n      <td>610.0</td>\n      <td>1170.0</td>\n      <td>860.0</td>\n      <td>243</td>\n      <td>1595.0</td>\n      <td>96</td>\n      <td>4</td>\n      <td>73</td>\n      <td>23</td>\n      <td>89</td>\n      <td>11</td>\n      <td>27.2</td>\n      <td>NaN</td>\n      <td>NaN</td>\n    </tr>\n    <tr>\n      <th>3</th>\n      <td>BU16800000</td>\n      <td>1660.0</td>\n      <td>1755.0</td>\n      <td>560.0</td>\n      <td>320.0</td>\n      <td>595.0</td>\n      <td>1100.0</td>\n      <td>830.0</td>\n      <td>1354</td>\n      <td>1532.0</td>\n      <td>96</td>\n      <td>4</td>\n      <td>72</td>\n      <td>24</td>\n      <td>90</td>\n      <td>10</td>\n      <td>26.4</td>\n      <td>9468</td>\n      <td>1</td>\n    </tr>\n    <tr>\n      <th>4</th>\n      <td>BU16800009</td>\n      <td>75.0</td>\n      <td>70.0</td>\n      <td>10.0</td>\n      <td>10.0</td>\n      <td>15.0</td>\n      <td>70.0</td>\n      <td>30.0</td>\n      <td>12</td>\n      <td>63.0</td>\n      <td>94</td>\n      <td>6</td>\n      <td>98</td>\n      <td>2</td>\n      <td>68</td>\n      <td>32</td>\n      <td>NaN</td>\n      <td>9468</td>\n      <td>1</td>\n    </tr>\n  </tbody>\n</table>\n</div>"
     },
     "metadata": {},
     "execution_count": 6
    }
   ],
   "source": [
    "cbs_data.head(5)"
   ]
  },
  {
   "cell_type": "code",
   "execution_count": 7,
   "metadata": {},
   "outputs": [
    {
     "output_type": "execute_result",
     "data": {
      "text/plain": [
       "Municipalitycode     object\n",
       "Guests              float64\n",
       "Overnights          float64\n",
       "dtype: object"
      ]
     },
     "metadata": {},
     "execution_count": 7
    }
   ],
   "source": [
    "tourist_info.dtypes"
   ]
  },
  {
   "cell_type": "code",
   "execution_count": 8,
   "metadata": {},
   "outputs": [
    {
     "output_type": "execute_result",
     "data": {
      "text/plain": [
       "Municipalitycode                object\n",
       "Total Registered Crimes        float64\n",
       "Registered Crimes Relative     float64\n",
       "Registered CrimesPer1000Inw     object\n",
       "TotalClearedCrimes             float64\n",
       "ClearedCrimesRelative          float64\n",
       "RegistrationsofSuspects        float64\n",
       "dtype: object"
      ]
     },
     "metadata": {},
     "execution_count": 8
    }
   ],
   "source": [
    "crime_data.dtypes"
   ]
  },
  {
   "cell_type": "code",
   "execution_count": 9,
   "metadata": {},
   "outputs": [
    {
     "output_type": "execute_result",
     "data": {
      "text/plain": [
       "NeighborhoodsAndDistricts      object\n",
       "NumberOfMen                   float64\n",
       "NumberOfWomen                 float64\n",
       "AgeFrom0to15years             float64\n",
       "AgeFrom15to25years            float64\n",
       "AgeFrom25to45years            float64\n",
       "AgeFrom45to65years            float64\n",
       "AgeFrom65AndOlder             float64\n",
       "PopulationDensity              object\n",
       "HousingStock                  float64\n",
       "PercentageInhabited            object\n",
       "PercentageUninhabited          object\n",
       "OwnerOccupiedHouses            object\n",
       "RentalHouses                   object\n",
       "ConstructionYearBefore2000     object\n",
       "ConstructionYearAfter2000      object\n",
       "AverageIncomePerCitizen        object\n",
       "MostCommonPostalCode           object\n",
       "CoveragePercentage             object\n",
       "dtype: object"
      ]
     },
     "metadata": {},
     "execution_count": 9
    }
   ],
   "source": [
    "cbs_data.dtypes"
   ]
  },
  {
   "cell_type": "code",
   "execution_count": null,
   "metadata": {},
   "outputs": [],
   "source": [
    "type_dict = {'Municipalitycode':'str',\n",
    "                     'Registered CrimesPer1000Inw':'float',\n",
    "                     }\n",
    "              for k,v in type_dict.items():\n",
    "                     data = data.astype({k: v})\n",
    "              print('Datatypes checked and replaced if needed')\n",
    "\n",
    "type_dict = {'Municipalitycode': 'str',\n",
    "                     'Guests':'float',\n",
    "                     'Overnights': 'float',\n",
    "                     }\n",
    "              for k,v in type_dict.items():\n",
    "                     data = data.astype({k: v})\n",
    "              print('Datatypes checked and replaced if needed')\n",
    "\n",
    "type_dict = {'NeighborhoodsAndDistricts':'str',\n",
    "                     'NumberOfMen':'int',\n",
    "                     'NumberOfWomen':'int',\n",
    "                     'AgeFrom0to15years':'int',\n",
    "                     'AgeFrom15to25years':'int',\n",
    "                     'AgeFrom25to45years':'int',\n",
    "                     'AgeFrom45to65years':'int',\n",
    "                     'AgeFrom65AndOlder':'int',\n",
    "                     'PopulationDensity':'int',\n",
    "                     'HousingStock':'int',\n",
    "                     'PercentageInhabited':'int',\n",
    "                     'PercentageUninhabited':'int',\n",
    "                     'OwnerOccupiedHouses':'int',\n",
    "                     'RentalHouses':'int',\n",
    "                     'ConstructionYearBefore2000':'int',\n",
    "                     'ConstructionYearAfter2000':'int',\n",
    "                     'AverageIncomePerCitizen':'float',\n",
    "                     'MostCommonPostalCode':'str',\n",
    "                     'CoveragePercentage':'int',\n",
    "                     }\n",
    "              for k,v in type_dict.items():\n",
    "                     data = data.astype({k: v})\n",
    "              print('Datatypes checked and replaced if needed')\n"
   ]
  }
 ]
}