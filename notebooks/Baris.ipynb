{
 "metadata": {
  "language_info": {
   "codemirror_mode": {
    "name": "ipython",
    "version": 3
   },
   "file_extension": ".py",
   "mimetype": "text/x-python",
   "name": "python",
   "nbconvert_exporter": "python",
   "pygments_lexer": "ipython3",
   "version": "3.8.5-final"
  },
  "orig_nbformat": 2,
  "kernelspec": {
   "name": "python3",
   "display_name": "Python 3",
   "language": "python"
  }
 },
 "nbformat": 4,
 "nbformat_minor": 2,
 "cells": [
  {
   "cell_type": "code",
   "execution_count": 1,
   "metadata": {},
   "outputs": [],
   "source": [
    "import pandas as pd\n",
    "\n",
    "funda_2018 = pd.read_csv(r\"C:\\Users\\B.R\\Documents\\HvA\\Master DBB\\AI for Business\\product3team2\\data\\raw\\funda_2018.csv\")\n",
    "\n"
   ]
  },
  {
   "cell_type": "code",
   "execution_count": 30,
   "metadata": {},
   "outputs": [],
   "source": [
    "def cleaned_funda_2018(data):\n",
    "    funda_2018 = data\n",
    "    funda_2018 = funda_2018.fillna(0).rename(columns={'publicatieDatum':'publicationDate','postcode':'zipcode', 'koopPrijs':'sellingPrice',\\\n",
    "        'volledigeOmschrijving':'fullDescription','soortWoning':'houseType','categorieObject':'categoryObject', 'bouwjaar':'yearOfBuilding', \\\n",
    "        'indTuin':'garden','perceelOppervlakte':'parcelSurface','aantalKamers':'numberRooms','aantalBadkamers':'numberBathrooms',   'energielabelKlasse':'energylabelClass',\\\n",
    "        'oppervlakte':'surface','datum_ondertekening':'sellingDate'}).drop(['globalId', 'globalId.1','kantoor_naam_MD5hash'], axis=1)\n",
    "\n",
    "\n",
    "    funda_2018['publicationDate'] = pd.to_datetime(funda_2018['publicationDate'])\n",
    "    funda_2018['sellingDate'] = pd.to_datetime(funda_2018['sellingDate'])\n",
    "\n",
    "    \n",
    "    datatypes_funda_2018 = funda_2018.dtypes\n",
    "\n",
    "    print('Data type of each column of Dataframe :')\n",
    "    print(datatypes_funda_2018)"
   ]
  },
  {
   "cell_type": "code",
   "execution_count": 31,
   "metadata": {},
   "outputs": [
    {
     "output_type": "stream",
     "name": "stdout",
     "text": [
      "Data type of each column of Dataframe :\npublicationDate     datetime64[ns]\nzipcode                     object\nsellingPrice               float64\nfullDescription             object\nhouseType                   object\ncategoryObject              object\nyearOfBuilding              object\ngarden                       int64\nparcelSurface              float64\nnumberRooms                  int64\nnumberBathrooms            float64\nenergylabelClass            object\nsurface                      int64\nsellingDate         datetime64[ns]\ndtype: object\n"
     ]
    }
   ],
   "source": [
    "cleaned_funda_2018(funda_2018)"
   ]
  }
 ]
}