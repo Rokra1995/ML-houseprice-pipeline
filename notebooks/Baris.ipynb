{
 "metadata": {
  "language_info": {
   "codemirror_mode": {
    "name": "ipython",
    "version": 3
   },
   "file_extension": ".py",
   "mimetype": "text/x-python",
   "name": "python",
   "nbconvert_exporter": "python",
   "pygments_lexer": "ipython3",
   "version": "3.8.5-final"
  },
  "orig_nbformat": 2,
  "kernelspec": {
   "name": "python3",
   "display_name": "Python 3",
   "language": "python"
  }
 },
 "nbformat": 4,
 "nbformat_minor": 2,
 "cells": [
  {
   "cell_type": "code",
   "execution_count": 1,
   "metadata": {},
   "outputs": [],
   "source": [
    "import pandas as pd\n",
    "\n",
    "funda_2018 = pd.read_csv(r\"C:\\Users\\B.R\\Documents\\HvA\\Master DBB\\AI for Business\\product3team2\\data\\raw\\funda_2018.csv\")\n",
    "\n"
   ]
  },
  {
   "cell_type": "code",
   "execution_count": 19,
   "metadata": {},
   "outputs": [
    {
     "output_type": "error",
     "ename": "IndentationError",
     "evalue": "unexpected indent (<ipython-input-19-df34f49224df>, line 22)",
     "traceback": [
      "\u001b[1;36m  File \u001b[1;32m\"<ipython-input-19-df34f49224df>\"\u001b[1;36m, line \u001b[1;32m22\u001b[0m\n\u001b[1;33m    funda_2018['publicationDate'] = funda_2018['publicationDate'].astype('date')\u001b[0m\n\u001b[1;37m    ^\u001b[0m\n\u001b[1;31mIndentationError\u001b[0m\u001b[1;31m:\u001b[0m unexpected indent\n"
     ]
    }
   ],
   "source": [
    "def cleaned_funda_2018():\n",
    "\n",
    "    funda_2018 = funda_2018.fillna(0).rename(columns={'publicatieDatum':'publicationDate','postcode':'zipcode', 'koopPrijs':'sellingPrice',\\\n",
    "        'volledigeOmschrijving':'fullDescription','soortWoning':'houseType','categorieObject':'categoryObject', 'bouwjaar':'yearOfBuilding', \\\n",
    "        'indTuin':'garden','perceelOppervlakte':'parcelSurface','aantalKamers':'numberRooms','aantalBadkamers':'numberBathrooms',   'energielabelKlasse':'energylabelClass',\\\n",
    "        'oppervlakte':'surface','datum_ondertekening':'sellingDate'}).drop(['globalId', 'globalId.1','kantoor_naam_MD5hash'], axis=1)\n",
    "\n",
    "'''\n",
    "    def category_to_list(item):\n",
    "        item_list = item.split(' ')\n",
    "        cleaned_item_list = []\n",
    "        for i in item_list:\n",
    "            cleaned_item = i.replace('<','').replace('{','').replace('>','').replace('}','').replace('(','').replace(')','')\n",
    "            cleaned_item_list.append(cleaned_item)\n",
    "        return str(cleaned_item_list)\n",
    "\n",
    "    funda_2018['houseType'] = funda_2018['houseType'].apply(lambda x: category_to_list(x))\n",
    "    funda_2018['categoryObject'] = funda_2018['categoryObject'].apply(lambda x: str(x).replace('<','').replace('{','').replace('>','').replace('}',''))\n",
    "    funda_2018['sellingTime'] = pd.to_datetime(funda_2018['sellingDate']) - pd.to_datetime(funda_2018['publicationDate'])\n",
    "    funda_2018['sellingTime'] = funda_2018['sellingTime'].apply(lambda x: int(x.days))\n",
    "'''\n",
    "    funda_2018['publicationDate'] = funda_2018['publicationDate'].astype('date')\n",
    "    funda_2018['zipcode'] = funda_2018['zipcode'].astype('text')\n",
    "    funda_2018['sellingPrice'] = funda_2018['sellingPrice'].astype('int')\n",
    "    funda_2018['houseType'] = funda_2018['houseType'].astype('text')\n",
    "    funda_2018['categoryObject'] = funda_2018['categoryObject'].astype('text')\n",
    "    funda_2018['yearOfBuilding'] = funda_2018['yearOfBuilding'].astype('text')\n",
    "    funda_2018['parcelSurface'] = funda_2018['parcelSurface'].astype('int')\n",
    "    funda_2018['numberBathrooms'] = funda_2018['numberBathrooms'].astype('int')\n",
    "    funda_2018['energylabelClass'] = funda_2018['energylabelClass'].astype('text')\n",
    "    funda_2018['sellingDate'] = funda_2018['sellingDate'].astype('date')\n",
    "\n",
    "\n",
    "\n",
    "\n",
    "    datatypes_funda_2018 = funda_2018.dtypes\n",
    "\n",
    "print('Data type of each column of Dataframe :')\n",
    "print(datatypes_funda_2018)"
   ]
  },
  {
   "cell_type": "code",
   "execution_count": null,
   "metadata": {},
   "outputs": [],
   "source": []
  }
 ]
}