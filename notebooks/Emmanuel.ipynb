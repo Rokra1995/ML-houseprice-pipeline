{
 "metadata": {
  "language_info": {
   "codemirror_mode": {
    "name": "ipython",
    "version": 3
   },
   "file_extension": ".py",
   "mimetype": "text/x-python",
   "name": "python",
   "nbconvert_exporter": "python",
   "pygments_lexer": "ipython3",
   "version": "3.8.5-final"
  },
  "orig_nbformat": 2,
  "kernelspec": {
   "name": "python3",
   "display_name": "Python 3.8.5 64-bit ('AI-for-Business-env': conda)",
   "metadata": {
    "interpreter": {
     "hash": "48b1876a6d8f57b4761a59b7b71cb4524a7ff1f695adb9cda8c8cb2c2fced568"
    }
   }
  }
 },
 "nbformat": 4,
 "nbformat_minor": 2,
 "cells": [
  {
   "cell_type": "code",
   "execution_count": 2,
   "metadata": {},
   "outputs": [],
   "source": [
    "# Libraries and options\n",
    "# If error [No module named 'sklearn'], in terminal: conda install -c conda-forge scikit-learn\n",
    "import IPython\n",
    "from sklearn.model_selection import train_test_split\n",
    "from sklearn.ensemble import RandomForestRegressor\n",
    "from sklearn.metrics import mean_absolute_error \n",
    "%matplotlib inline\n",
    "from matplotlib import pyplot as plt\n",
    "import seaborn as sb\n",
    "import matplotlib.pyplot as plt\n",
    "import pandas as pd\n",
    "import numpy as np\n",
    "import warnings \n",
    "warnings.filterwarnings('ignore')\n",
    "warnings.filterwarnings('ignore', category=DeprecationWarning)\n",
    "#from xgboost import XGBRegressor"
   ]
  },
  {
   "cell_type": "code",
   "execution_count": 3,
   "metadata": {},
   "outputs": [],
   "source": [
    "class DataLoader(object):\n",
    "\n",
    "       def __init__(self, base_folder):\n",
    "              self.base_folder = base_folder\n",
    "\n",
    "       def load_crime_data(self):\n",
    "              full_path = os.path.join(self.base_folder, 'data/raw/crime_data.csv')\n",
    "              data = pd.read_csv(full_path, sep=\";\")\n",
    "              data = data.drop(['ID', 'SoortMisdrijf', 'Perioden'], axis=1)\n",
    "              data = data.rename(columns={'SoortMisdrijf': 'CrimeType', 'RegioS': 'Municipalitycode', 'Perioden': 'Periods', 'TotaalGeregistreerdeMisdrijven_1': 'Total Registered Crimes', 'GeregistreerdeMisdrijvenRelatief_2': 'Registered Crimes Relative', 'GeregistreerdeMisdrijvenPer1000Inw_3': 'Registered CrimesPer1000Inw', 'TotaalOpgehelderdeMisdrijven_4': 'TotalClearedCrimes', 'OpgehelderdeMisdrijvenRelatief_5': 'ClearedCrimesRelative', 'RegistratiesVanVerdachten_6': 'RegistrationsofSuspects'})\n",
    "              print('ID, SoortMisdrijf & Perioden successfully dropped')\n",
    "              data = data.replace(0.0, np.nan)\n",
    "              data = data.replace(0, np.nan)\n",
    "              data = data.replace(\"       .\", np.nan)\n",
    "              data = data.replace(\"         .\", np.nan)\n",
    "              print('All the zero values are replaced with NaN')\n",
    "              type_dict = {'Municipalitycode': 'string',\n",
    "                     'Registered CrimesPer1000Inw':'float',\n",
    "                     }\n",
    "\n",
    "              for k,v in type_dict.items():\n",
    "                     data = data.astype({k: v})\n",
    "              return data\n",
    "\n",
    "       def load_tourist_info(self):\n",
    "              full_path = os.path.join(self.base_folder, 'data/raw/tourist_info.csv')\n",
    "              data = pd.read_csv(full_path, sep=\";\")\n",
    "              data = data.rename(columns={'WoonlandVanGasten': 'Residential Land Of Guests', 'RegioS': 'Municipalitycode', 'Perioden': 'Periods', 'Gasten_1': 'Guests', 'Overnachtingen_2': 'Overnights'})\n",
    "              data = data.drop(['ID', 'Residential Land Of Guests', 'Periods'], axis=1)\n",
    "              print('ID, Residential Land Of Guests & Periods successfully dropped')\n",
    "              data = data.replace(0.0, np.nan)\n",
    "              data = data.replace(0, np.nan)\n",
    "              print('All the zero values are replaced with NaN')\n",
    "              type_dict = {'Municipalitycode': 'string',\n",
    "                     'Guests':'float',\n",
    "                     }\n",
    "\n",
    "              for k,v in type_dict.items():\n",
    "                     data = data.astype({k: v})\n",
    "              return data\n",
    "\n",
    "       def load_cbs_data(self):\n",
    "              full_path = os.path.join(self.base_folder, 'data', 'raw', 'CBS_data.csv')\n",
    "              data = pd.read_csv(full_path, sep=\";\")\n",
    "              data = data.drop(['ID', 'Gemeentenaam_1', 'Codering_3'], axis=1)\n",
    "              data = data.rename(columns={'WijkenEnBuurten':'Municipalitycode','Gemeentenaam_1':'NameOfMunicipality','Mannen_6':'NumberOfMen',\n",
    "    'Vrouwen_7':'NumberOfWomen','k_0Tot15Jaar_8':'AgeFrom0to15years','k_15Tot25Jaar_9':'AgeFrom15to25years',\n",
    "    'k_25Tot45Jaar_10' : 'AgeFrom25to45years','k_45Tot65Jaar_11' : 'AgeFrom45to65years','k_65JaarOfOuder_12' : 'AgeFrom65AndOlder',\n",
    "    'Bevolkingsdichtheid_33' : 'PopulationDensity','Woningvoorraad_34' : 'HousingStock','PercentageBewoond_38' : 'PercentageInhabited',\n",
    "    'PercentageOnbewoond_39' : 'PercentageUninhabited','Koopwoningen_40' : 'OwnerOccupiedHouses','HuurwoningenTotaal_41' : 'RentalHouses',\n",
    "    'BouwjaarVoor2000_45' : 'ConstructionYearBefore2000','BouwjaarVanaf2000_46' : 'ConstructionYearAfter2000',\n",
    "    'GemiddeldInkomenPerInwoner_66' : 'AverageIncomePerCitizen','MeestVoorkomendePostcode_103' : 'MostCommonPostalCode','Dekkingspercentage_104' : 'CoveragePercentage'})\n",
    "              print('ID, Gemeentenaam_1 & Codering_3 succesfully dropped')\n",
    "              data = data.replace(\"       .\", np.nan)\n",
    "              data = data.replace(\"         .\", np.nan)\n",
    "              type_dict = {'Municipalitycode': 'string',\n",
    "                     'PopulationDensity':'float',\n",
    "                     'PercentageInhabited':'float',\n",
    "                     'PercentageUninhabited':'float',\n",
    "                     'OwnerOccupiedHouses':'float',\n",
    "                     'RentalHouses':'float',\n",
    "                     'ConstructionYearBefore2000':'float',\n",
    "                     'ConstructionYearAfter2000':'float',\n",
    "                     'AverageIncomePerCitizen':'float',\n",
    "                     'MostCommonPostalCode':'string',\n",
    "                     'CoveragePercentage':'float',\n",
    "                     }\n",
    "\n",
    "              for k,v in type_dict.items():\n",
    "                     data = data.astype({k: v})\n",
    "              return data\n"
   ]
  },
  {
   "cell_type": "code",
   "execution_count": 4,
   "metadata": {},
   "outputs": [
    {
     "output_type": "stream",
     "name": "stdout",
     "text": [
      "The Crime Data File:\nID, SoortMisdrijf & Perioden successfully dropped\nAll the zero values are replaced with NaN\n\n\nThe Tourist Data File:\nID, Residential Land Of Guests & Periods successfully dropped\nAll the zero values are replaced with NaN\n\n\nThe CBS Data File:\nID, Gemeentenaam_1 & Codering_3 succesfully dropped\n"
     ]
    }
   ],
   "source": [
    "dataloader = DataLoader(base_folder='/Users/eaowusu/Documents/Amsterdam University of Applied Science/COLLEGE YEAR 2020 l 2021/DDB - COURSES 2020 l 2021/BLOCK 2/Artificial Intelligence for Business/Team2-Know How to Google/product3team2')\n",
    "\n",
    "print('The Crime Data File:')\n",
    "crime_data = dataloader.load_crime_data()\n",
    "print(\"\\n\")\n",
    "print('The Tourist Data File:')\n",
    "tourist_info = dataloader.load_tourist_info()\n",
    "print(\"\\n\")\n",
    "print('The CBS Data File:')\n",
    "cbs_data_old = dataloader.load_cbs_data()"
   ]
  },
  {
   "cell_type": "code",
   "execution_count": 10,
   "metadata": {},
   "outputs": [
    {
     "output_type": "execute_result",
     "data": {
      "text/plain": [
       "  Municipalitycode  Total Registered Crimes  Registered Crimes Relative  \\\n",
       "0           GM1680                    545.0                       100.0   \n",
       "1           GM0738                    255.0                       100.0   \n",
       "2           GM0358                   1135.0                       100.0   \n",
       "3           GM0197                    505.0                       100.0   \n",
       "4           GM0305                      NaN                         NaN   \n",
       "\n",
       "   Registered CrimesPer1000Inw  TotalClearedCrimes  ClearedCrimesRelative  \\\n",
       "0                         21.4               125.0                   22.7   \n",
       "1                         19.5                45.0                   16.8   \n",
       "2                         36.0               280.0                   24.7   \n",
       "3                         18.7               180.0                   35.3   \n",
       "4                          NaN                 NaN                    NaN   \n",
       "\n",
       "   RegistrationsofSuspects  \n",
       "0                    155.0  \n",
       "1                     50.0  \n",
       "2                    325.0  \n",
       "3                    215.0  \n",
       "4                      NaN  "
      ],
      "text/html": "<div>\n<style scoped>\n    .dataframe tbody tr th:only-of-type {\n        vertical-align: middle;\n    }\n\n    .dataframe tbody tr th {\n        vertical-align: top;\n    }\n\n    .dataframe thead th {\n        text-align: right;\n    }\n</style>\n<table border=\"1\" class=\"dataframe\">\n  <thead>\n    <tr style=\"text-align: right;\">\n      <th></th>\n      <th>Municipalitycode</th>\n      <th>Total Registered Crimes</th>\n      <th>Registered Crimes Relative</th>\n      <th>Registered CrimesPer1000Inw</th>\n      <th>TotalClearedCrimes</th>\n      <th>ClearedCrimesRelative</th>\n      <th>RegistrationsofSuspects</th>\n    </tr>\n  </thead>\n  <tbody>\n    <tr>\n      <th>0</th>\n      <td>GM1680</td>\n      <td>545.0</td>\n      <td>100.0</td>\n      <td>21.4</td>\n      <td>125.0</td>\n      <td>22.7</td>\n      <td>155.0</td>\n    </tr>\n    <tr>\n      <th>1</th>\n      <td>GM0738</td>\n      <td>255.0</td>\n      <td>100.0</td>\n      <td>19.5</td>\n      <td>45.0</td>\n      <td>16.8</td>\n      <td>50.0</td>\n    </tr>\n    <tr>\n      <th>2</th>\n      <td>GM0358</td>\n      <td>1135.0</td>\n      <td>100.0</td>\n      <td>36.0</td>\n      <td>280.0</td>\n      <td>24.7</td>\n      <td>325.0</td>\n    </tr>\n    <tr>\n      <th>3</th>\n      <td>GM0197</td>\n      <td>505.0</td>\n      <td>100.0</td>\n      <td>18.7</td>\n      <td>180.0</td>\n      <td>35.3</td>\n      <td>215.0</td>\n    </tr>\n    <tr>\n      <th>4</th>\n      <td>GM0305</td>\n      <td>NaN</td>\n      <td>NaN</td>\n      <td>NaN</td>\n      <td>NaN</td>\n      <td>NaN</td>\n      <td>NaN</td>\n    </tr>\n  </tbody>\n</table>\n</div>"
     },
     "metadata": {},
     "execution_count": 10
    }
   ],
   "source": [
    "crime_data.head(5)"
   ]
  },
  {
   "cell_type": "code",
   "execution_count": 11,
   "metadata": {},
   "outputs": [
    {
     "output_type": "execute_result",
     "data": {
      "text/plain": [
       "  Municipalitycode  Guests  Overnights\n",
       "0           GM0363  8577.0     16673.0\n",
       "1           GM0599  1261.0      2043.0\n",
       "2           GM0518  1079.0      1754.0\n",
       "3           GM0344   441.0       689.0\n",
       "4           GM0935   698.0      1157.0"
      ],
      "text/html": "<div>\n<style scoped>\n    .dataframe tbody tr th:only-of-type {\n        vertical-align: middle;\n    }\n\n    .dataframe tbody tr th {\n        vertical-align: top;\n    }\n\n    .dataframe thead th {\n        text-align: right;\n    }\n</style>\n<table border=\"1\" class=\"dataframe\">\n  <thead>\n    <tr style=\"text-align: right;\">\n      <th></th>\n      <th>Municipalitycode</th>\n      <th>Guests</th>\n      <th>Overnights</th>\n    </tr>\n  </thead>\n  <tbody>\n    <tr>\n      <th>0</th>\n      <td>GM0363</td>\n      <td>8577.0</td>\n      <td>16673.0</td>\n    </tr>\n    <tr>\n      <th>1</th>\n      <td>GM0599</td>\n      <td>1261.0</td>\n      <td>2043.0</td>\n    </tr>\n    <tr>\n      <th>2</th>\n      <td>GM0518</td>\n      <td>1079.0</td>\n      <td>1754.0</td>\n    </tr>\n    <tr>\n      <th>3</th>\n      <td>GM0344</td>\n      <td>441.0</td>\n      <td>689.0</td>\n    </tr>\n    <tr>\n      <th>4</th>\n      <td>GM0935</td>\n      <td>698.0</td>\n      <td>1157.0</td>\n    </tr>\n  </tbody>\n</table>\n</div>"
     },
     "metadata": {},
     "execution_count": 11
    }
   ],
   "source": [
    "tourist_info.head(5)"
   ]
  },
  {
   "cell_type": "code",
   "execution_count": 12,
   "metadata": {},
   "outputs": [
    {
     "output_type": "execute_result",
     "data": {
      "text/plain": [
       "  Municipalitycode  NumberOfMen  NumberOfWomen  AgeFrom0to15years  \\\n",
       "0       NL00            8527041        8654043            2762624   \n",
       "1       GM1680            12666          12724               3531   \n",
       "2       WK168000           1735           1825                570   \n",
       "3       BU16800000         1660           1755                560   \n",
       "4       BU16800009           75             70                 10   \n",
       "\n",
       "   AgeFrom15to25years  AgeFrom25to45years  AgeFrom45to65years  \\\n",
       "0             2116813             4222614             4839917   \n",
       "1                2571                4398                8396   \n",
       "2                 335                 610                1170   \n",
       "3                 320                 595                1100   \n",
       "4                  10                  15                  70   \n",
       "\n",
       "   AgeFrom65AndOlder  PopulationDensity  HousingStock  PercentageInhabited  \\\n",
       "0            3239116              510.0       7740984                 96.0   \n",
       "1               6494               92.0         11165                 95.0   \n",
       "2                860              243.0          1595                 96.0   \n",
       "3                830             1354.0          1532                 96.0   \n",
       "4                 30               12.0            63                 94.0   \n",
       "\n",
       "   PercentageUninhabited  OwnerOccupiedHouses  RentalHouses  \\\n",
       "0                    4.0                 57.0          42.0   \n",
       "1                    5.0                 73.0          25.0   \n",
       "2                    4.0                 73.0          23.0   \n",
       "3                    4.0                 72.0          24.0   \n",
       "4                    6.0                 98.0           2.0   \n",
       "\n",
       "   ConstructionYearBefore2000  ConstructionYearAfter2000  \\\n",
       "0                        85.0                       15.0   \n",
       "1                        90.0                       10.0   \n",
       "2                        89.0                       11.0   \n",
       "3                        90.0                       10.0   \n",
       "4                        68.0                       32.0   \n",
       "\n",
       "   AverageIncomePerCitizen MostCommonPostalCode  CoveragePercentage  \n",
       "0                     26.0                 <NA>                 NaN  \n",
       "1                     26.1                 <NA>                 NaN  \n",
       "2                     27.2                 <NA>                 NaN  \n",
       "3                     26.4                 9468                 1.0  \n",
       "4                      NaN                 9468                 1.0  "
      ],
      "text/html": "<div>\n<style scoped>\n    .dataframe tbody tr th:only-of-type {\n        vertical-align: middle;\n    }\n\n    .dataframe tbody tr th {\n        vertical-align: top;\n    }\n\n    .dataframe thead th {\n        text-align: right;\n    }\n</style>\n<table border=\"1\" class=\"dataframe\">\n  <thead>\n    <tr style=\"text-align: right;\">\n      <th></th>\n      <th>Municipalitycode</th>\n      <th>NumberOfMen</th>\n      <th>NumberOfWomen</th>\n      <th>AgeFrom0to15years</th>\n      <th>AgeFrom15to25years</th>\n      <th>AgeFrom25to45years</th>\n      <th>AgeFrom45to65years</th>\n      <th>AgeFrom65AndOlder</th>\n      <th>PopulationDensity</th>\n      <th>HousingStock</th>\n      <th>PercentageInhabited</th>\n      <th>PercentageUninhabited</th>\n      <th>OwnerOccupiedHouses</th>\n      <th>RentalHouses</th>\n      <th>ConstructionYearBefore2000</th>\n      <th>ConstructionYearAfter2000</th>\n      <th>AverageIncomePerCitizen</th>\n      <th>MostCommonPostalCode</th>\n      <th>CoveragePercentage</th>\n    </tr>\n  </thead>\n  <tbody>\n    <tr>\n      <th>0</th>\n      <td>NL00</td>\n      <td>8527041</td>\n      <td>8654043</td>\n      <td>2762624</td>\n      <td>2116813</td>\n      <td>4222614</td>\n      <td>4839917</td>\n      <td>3239116</td>\n      <td>510.0</td>\n      <td>7740984</td>\n      <td>96.0</td>\n      <td>4.0</td>\n      <td>57.0</td>\n      <td>42.0</td>\n      <td>85.0</td>\n      <td>15.0</td>\n      <td>26.0</td>\n      <td>&lt;NA&gt;</td>\n      <td>NaN</td>\n    </tr>\n    <tr>\n      <th>1</th>\n      <td>GM1680</td>\n      <td>12666</td>\n      <td>12724</td>\n      <td>3531</td>\n      <td>2571</td>\n      <td>4398</td>\n      <td>8396</td>\n      <td>6494</td>\n      <td>92.0</td>\n      <td>11165</td>\n      <td>95.0</td>\n      <td>5.0</td>\n      <td>73.0</td>\n      <td>25.0</td>\n      <td>90.0</td>\n      <td>10.0</td>\n      <td>26.1</td>\n      <td>&lt;NA&gt;</td>\n      <td>NaN</td>\n    </tr>\n    <tr>\n      <th>2</th>\n      <td>WK168000</td>\n      <td>1735</td>\n      <td>1825</td>\n      <td>570</td>\n      <td>335</td>\n      <td>610</td>\n      <td>1170</td>\n      <td>860</td>\n      <td>243.0</td>\n      <td>1595</td>\n      <td>96.0</td>\n      <td>4.0</td>\n      <td>73.0</td>\n      <td>23.0</td>\n      <td>89.0</td>\n      <td>11.0</td>\n      <td>27.2</td>\n      <td>&lt;NA&gt;</td>\n      <td>NaN</td>\n    </tr>\n    <tr>\n      <th>3</th>\n      <td>BU16800000</td>\n      <td>1660</td>\n      <td>1755</td>\n      <td>560</td>\n      <td>320</td>\n      <td>595</td>\n      <td>1100</td>\n      <td>830</td>\n      <td>1354.0</td>\n      <td>1532</td>\n      <td>96.0</td>\n      <td>4.0</td>\n      <td>72.0</td>\n      <td>24.0</td>\n      <td>90.0</td>\n      <td>10.0</td>\n      <td>26.4</td>\n      <td>9468</td>\n      <td>1.0</td>\n    </tr>\n    <tr>\n      <th>4</th>\n      <td>BU16800009</td>\n      <td>75</td>\n      <td>70</td>\n      <td>10</td>\n      <td>10</td>\n      <td>15</td>\n      <td>70</td>\n      <td>30</td>\n      <td>12.0</td>\n      <td>63</td>\n      <td>94.0</td>\n      <td>6.0</td>\n      <td>98.0</td>\n      <td>2.0</td>\n      <td>68.0</td>\n      <td>32.0</td>\n      <td>NaN</td>\n      <td>9468</td>\n      <td>1.0</td>\n    </tr>\n  </tbody>\n</table>\n</div>"
     },
     "metadata": {},
     "execution_count": 12
    }
   ],
   "source": [
    "cbs_data_old.head(5)"
   ]
  },
  {
   "cell_type": "code",
   "execution_count": 342,
   "metadata": {},
   "outputs": [
    {
     "output_type": "stream",
     "name": "stdout",
     "text": [
      "Counting the NaN values in the columns Men, Women and their Ages\n\nNumber of null values in column NumberOfMen : 0\nNumber of null values in column NumberOfWomen: 0\nNumber of null values in column AgeFrom0to15years : 0\nNumber of null values in column AgeFrom15to25years : 0\nNumber of null values in column AgeFrom25to45years: 0\nNumber of null values in column AgeFrom45to65years : 0\nNumber of null values in column AgeFrom65AndOlder : 0\n"
     ]
    }
   ],
   "source": [
    "print(\"Counting the NaN values in the columns Men, Women and their Ages\\n\")\n",
    "\n",
    "print(\"Number of null values in column NumberOfMen : \" + \n",
    "       str(cbs_data_old['NumberOfMen'].isnull().sum())) \n",
    "print(\"Number of null values in column NumberOfWomen: \" + \n",
    "       str(cbs_data_old['NumberOfWomen'].isnull().sum()))\n",
    "print(\"Number of null values in column AgeFrom0to15years : \" + \n",
    "       str(cbs_data_old['AgeFrom0to15years'].isnull().sum())) \n",
    "print(\"Number of null values in column AgeFrom15to25years : \" + \n",
    "       str(cbs_data_old['AgeFrom15to25years'].isnull().sum())) \n",
    "print(\"Number of null values in column AgeFrom25to45years: \" + \n",
    "       str(cbs_data_old['AgeFrom25to45years'].isnull().sum()))\n",
    "print(\"Number of null values in column AgeFrom45to65years : \" + \n",
    "       str(cbs_data_old['AgeFrom45to65years'].isnull().sum()))\n",
    "print(\"Number of null values in column AgeFrom65AndOlder : \" + \n",
    "       str(cbs_data_old['AgeFrom65AndOlder'].isnull().sum()))  "
   ]
  },
  {
   "cell_type": "code",
   "execution_count": 13,
   "metadata": {},
   "outputs": [
    {
     "output_type": "display_data",
     "data": {
      "text/plain": "Municipalitycode                  0\nNumberOfMen                       0\nNumberOfWomen                     0\nAgeFrom0to15years                 0\nAgeFrom15to25years                0\nAgeFrom25to45years                0\nAgeFrom45to65years                0\nAgeFrom65AndOlder                 0\nPopulationDensity               637\nHousingStock                      0\nPercentageInhabited            1528\nPercentageUninhabited          1528\nOwnerOccupiedHouses            1551\nRentalHouses                   1551\nConstructionYearBefore2000     1528\nConstructionYearAfter2000      1528\nAverageIncomePerCitizen       12690\nMostCommonPostalCode           3540\nCoveragePercentage             3540\ndtype: int64"
     },
     "metadata": {}
    }
   ],
   "source": [
    "display(cbs_data_old.isnull().sum()) "
   ]
  },
  {
   "cell_type": "code",
   "execution_count": 14,
   "metadata": {},
   "outputs": [
    {
     "output_type": "stream",
     "name": "stdout",
     "text": [
      "Counting all the NaN values in all the columns\n"
     ]
    },
    {
     "output_type": "display_data",
     "data": {
      "text/plain": "Municipalitycode                   0\nTotal Registered Crimes        19133\nRegistered Crimes Relative     22800\nRegistered CrimesPer1000Inw    17706\nTotalClearedCrimes             22527\nClearedCrimesRelative          22527\nRegistrationsofSuspects        21610\ndtype: int64"
     },
     "metadata": {}
    }
   ],
   "source": [
    "print(\"Counting all the NaN values in all the columns\")\n",
    "display(crime_data.isnull().sum()) \n"
   ]
  },
  {
   "cell_type": "code",
   "execution_count": 15,
   "metadata": {},
   "outputs": [
    {
     "output_type": "stream",
     "name": "stdout",
     "text": [
      "Counting all the NaN values in all the columns\n"
     ]
    },
    {
     "output_type": "display_data",
     "data": {
      "text/plain": "Municipalitycode     0\nGuests              34\nOvernights          34\ndtype: int64"
     },
     "metadata": {}
    }
   ],
   "source": [
    "print(\"Counting all the NaN values in all the columns\")\n",
    "display(tourist_info.isnull().sum()) \n"
   ]
  },
  {
   "cell_type": "code",
   "execution_count": 16,
   "metadata": {},
   "outputs": [
    {
     "output_type": "execute_result",
     "data": {
      "text/plain": [
       "Municipalitycode                string\n",
       "Total Registered Crimes        float64\n",
       "Registered Crimes Relative     float64\n",
       "Registered CrimesPer1000Inw    float64\n",
       "TotalClearedCrimes             float64\n",
       "ClearedCrimesRelative          float64\n",
       "RegistrationsofSuspects        float64\n",
       "dtype: object"
      ]
     },
     "metadata": {},
     "execution_count": 16
    }
   ],
   "source": [
    "crime_data.dtypes"
   ]
  },
  {
   "cell_type": "code",
   "execution_count": 17,
   "metadata": {},
   "outputs": [
    {
     "output_type": "execute_result",
     "data": {
      "text/plain": [
       "Municipalitycode     string\n",
       "Guests              float64\n",
       "Overnights          float64\n",
       "dtype: object"
      ]
     },
     "metadata": {},
     "execution_count": 17
    }
   ],
   "source": [
    "tourist_info.dtypes"
   ]
  },
  {
   "cell_type": "code",
   "execution_count": 18,
   "metadata": {},
   "outputs": [
    {
     "output_type": "execute_result",
     "data": {
      "text/plain": [
       "Municipalitycode               string\n",
       "NumberOfMen                     int64\n",
       "NumberOfWomen                   int64\n",
       "AgeFrom0to15years               int64\n",
       "AgeFrom15to25years              int64\n",
       "AgeFrom25to45years              int64\n",
       "AgeFrom45to65years              int64\n",
       "AgeFrom65AndOlder               int64\n",
       "PopulationDensity             float64\n",
       "HousingStock                    int64\n",
       "PercentageInhabited           float64\n",
       "PercentageUninhabited         float64\n",
       "OwnerOccupiedHouses           float64\n",
       "RentalHouses                  float64\n",
       "ConstructionYearBefore2000    float64\n",
       "ConstructionYearAfter2000     float64\n",
       "AverageIncomePerCitizen       float64\n",
       "MostCommonPostalCode           string\n",
       "CoveragePercentage            float64\n",
       "dtype: object"
      ]
     },
     "metadata": {},
     "execution_count": 18
    }
   ],
   "source": [
    "cbs_data_old.dtypes"
   ]
  },
  {
   "cell_type": "code",
   "execution_count": 19,
   "metadata": {},
   "outputs": [
    {
     "output_type": "execute_result",
     "data": {
      "text/plain": [
       "NumberOfMen                   2032.896912\n",
       "NumberOfWomen                 2063.217028\n",
       "AgeFrom0to15years              658.833651\n",
       "AgeFrom15to25years             504.788397\n",
       "AgeFrom25to45years            1007.003816\n",
       "AgeFrom45to65years            1154.237956\n",
       "AgeFrom65AndOlder              772.468519\n",
       "PopulationDensity             2820.796901\n",
       "HousingStock                  1846.168376\n",
       "PercentageInhabited             94.242981\n",
       "PercentageUninhabited            5.762923\n",
       "OwnerOccupiedHouses             67.275146\n",
       "RentalHouses                    31.703305\n",
       "ConstructionYearBefore2000      84.193519\n",
       "ConstructionYearAfter2000       15.811073\n",
       "AverageIncomePerCitizen         25.863057\n",
       "CoveragePercentage               1.244559\n",
       "dtype: float64"
      ]
     },
     "metadata": {},
     "execution_count": 19
    }
   ],
   "source": [
    "cbs_data_old.mean()"
   ]
  },
  {
   "cell_type": "code",
   "execution_count": 21,
   "metadata": {},
   "outputs": [
    {
     "output_type": "stream",
     "name": "stdout",
     "text": [
      "The NaN Values have been replaced with the mean of the columns\n"
     ]
    },
    {
     "output_type": "execute_result",
     "data": {
      "text/plain": [
       "      Municipalitycode  NumberOfMen  NumberOfWomen  AgeFrom0to15years  \\\n",
       "0           NL00            8527041        8654043            2762624   \n",
       "1           GM1680            12666          12724               3531   \n",
       "2           WK168000           1735           1825                570   \n",
       "3           BU16800000         1660           1755                560   \n",
       "4           BU16800009           75             70                 10   \n",
       "...                ...          ...            ...                ...   \n",
       "16767       BU01935150         1575           1580                670   \n",
       "16768       BU01935160           50             50                 25   \n",
       "16769       WK019352            450            465                145   \n",
       "16770       BU01935200          195            205                 75   \n",
       "16771       BU01935210          255            255                 70   \n",
       "\n",
       "       AgeFrom15to25years  AgeFrom25to45years  AgeFrom45to65years  \\\n",
       "0                 2116813             4222614             4839917   \n",
       "1                    2571                4398                8396   \n",
       "2                     335                 610                1170   \n",
       "3                     320                 595                1100   \n",
       "4                      10                  15                  70   \n",
       "...                   ...                 ...                 ...   \n",
       "16767                 340                 740                1080   \n",
       "16768                   5                  15                  45   \n",
       "16769                  95                 145                 300   \n",
       "16770                  45                  95                 120   \n",
       "16771                  50                  50                 175   \n",
       "\n",
       "       AgeFrom65AndOlder  PopulationDensity  HousingStock  \\\n",
       "0                3239116              510.0       7740984   \n",
       "1                   6494               92.0         11165   \n",
       "2                    860              243.0          1595   \n",
       "3                    830             1354.0          1532   \n",
       "4                     30               12.0            63   \n",
       "...                  ...                ...           ...   \n",
       "16767                315             6691.0          1192   \n",
       "16768                  0              236.0            22   \n",
       "16769                215               83.0           293   \n",
       "16770                 55              758.0           154   \n",
       "16771                160               49.0           139   \n",
       "\n",
       "       PercentageInhabited  PercentageUninhabited  OwnerOccupiedHouses  \\\n",
       "0                     96.0                    4.0                 57.0   \n",
       "1                     95.0                    5.0                 73.0   \n",
       "2                     96.0                    4.0                 73.0   \n",
       "3                     96.0                    4.0                 72.0   \n",
       "4                     94.0                    6.0                 98.0   \n",
       "...                    ...                    ...                  ...   \n",
       "16767                 99.0                    1.0                 78.0   \n",
       "16768                 95.0                    5.0                 82.0   \n",
       "16769                 98.0                    2.0                 78.0   \n",
       "16770                 99.0                    1.0                 77.0   \n",
       "16771                 97.0                    3.0                 79.0   \n",
       "\n",
       "       RentalHouses  ConstructionYearBefore2000  ConstructionYearAfter2000  \\\n",
       "0              42.0                        85.0                       15.0   \n",
       "1              25.0                        90.0                       10.0   \n",
       "2              23.0                        89.0                       11.0   \n",
       "3              24.0                        90.0                       10.0   \n",
       "4               2.0                        68.0                       32.0   \n",
       "...             ...                         ...                        ...   \n",
       "16767          22.0                       100.0                        0.0   \n",
       "16768          14.0                         5.0                       95.0   \n",
       "16769          22.0                        82.0                       18.0   \n",
       "16770          23.0                        77.0                       23.0   \n",
       "16771          20.0                        87.0                       13.0   \n",
       "\n",
       "       AverageIncomePerCitizen MostCommonPostalCode  CoveragePercentage  \n",
       "0                    26.000000                 <NA>            1.244559  \n",
       "1                    26.100000                 <NA>            1.244559  \n",
       "2                    27.200000                 <NA>            1.244559  \n",
       "3                    26.400000                 9468            1.000000  \n",
       "4                    25.863057                 9468            1.000000  \n",
       "...                        ...                  ...                 ...  \n",
       "16767                25.000000                 8014            1.000000  \n",
       "16768                25.863057                 8015            3.000000  \n",
       "16769                25.863057                 <NA>            1.244559  \n",
       "16770                25.863057                 8015            1.000000  \n",
       "16771                25.863057                 8015            2.000000  \n",
       "\n",
       "[16772 rows x 19 columns]"
      ],
      "text/html": "<div>\n<style scoped>\n    .dataframe tbody tr th:only-of-type {\n        vertical-align: middle;\n    }\n\n    .dataframe tbody tr th {\n        vertical-align: top;\n    }\n\n    .dataframe thead th {\n        text-align: right;\n    }\n</style>\n<table border=\"1\" class=\"dataframe\">\n  <thead>\n    <tr style=\"text-align: right;\">\n      <th></th>\n      <th>Municipalitycode</th>\n      <th>NumberOfMen</th>\n      <th>NumberOfWomen</th>\n      <th>AgeFrom0to15years</th>\n      <th>AgeFrom15to25years</th>\n      <th>AgeFrom25to45years</th>\n      <th>AgeFrom45to65years</th>\n      <th>AgeFrom65AndOlder</th>\n      <th>PopulationDensity</th>\n      <th>HousingStock</th>\n      <th>PercentageInhabited</th>\n      <th>PercentageUninhabited</th>\n      <th>OwnerOccupiedHouses</th>\n      <th>RentalHouses</th>\n      <th>ConstructionYearBefore2000</th>\n      <th>ConstructionYearAfter2000</th>\n      <th>AverageIncomePerCitizen</th>\n      <th>MostCommonPostalCode</th>\n      <th>CoveragePercentage</th>\n    </tr>\n  </thead>\n  <tbody>\n    <tr>\n      <th>0</th>\n      <td>NL00</td>\n      <td>8527041</td>\n      <td>8654043</td>\n      <td>2762624</td>\n      <td>2116813</td>\n      <td>4222614</td>\n      <td>4839917</td>\n      <td>3239116</td>\n      <td>510.0</td>\n      <td>7740984</td>\n      <td>96.0</td>\n      <td>4.0</td>\n      <td>57.0</td>\n      <td>42.0</td>\n      <td>85.0</td>\n      <td>15.0</td>\n      <td>26.000000</td>\n      <td>&lt;NA&gt;</td>\n      <td>1.244559</td>\n    </tr>\n    <tr>\n      <th>1</th>\n      <td>GM1680</td>\n      <td>12666</td>\n      <td>12724</td>\n      <td>3531</td>\n      <td>2571</td>\n      <td>4398</td>\n      <td>8396</td>\n      <td>6494</td>\n      <td>92.0</td>\n      <td>11165</td>\n      <td>95.0</td>\n      <td>5.0</td>\n      <td>73.0</td>\n      <td>25.0</td>\n      <td>90.0</td>\n      <td>10.0</td>\n      <td>26.100000</td>\n      <td>&lt;NA&gt;</td>\n      <td>1.244559</td>\n    </tr>\n    <tr>\n      <th>2</th>\n      <td>WK168000</td>\n      <td>1735</td>\n      <td>1825</td>\n      <td>570</td>\n      <td>335</td>\n      <td>610</td>\n      <td>1170</td>\n      <td>860</td>\n      <td>243.0</td>\n      <td>1595</td>\n      <td>96.0</td>\n      <td>4.0</td>\n      <td>73.0</td>\n      <td>23.0</td>\n      <td>89.0</td>\n      <td>11.0</td>\n      <td>27.200000</td>\n      <td>&lt;NA&gt;</td>\n      <td>1.244559</td>\n    </tr>\n    <tr>\n      <th>3</th>\n      <td>BU16800000</td>\n      <td>1660</td>\n      <td>1755</td>\n      <td>560</td>\n      <td>320</td>\n      <td>595</td>\n      <td>1100</td>\n      <td>830</td>\n      <td>1354.0</td>\n      <td>1532</td>\n      <td>96.0</td>\n      <td>4.0</td>\n      <td>72.0</td>\n      <td>24.0</td>\n      <td>90.0</td>\n      <td>10.0</td>\n      <td>26.400000</td>\n      <td>9468</td>\n      <td>1.000000</td>\n    </tr>\n    <tr>\n      <th>4</th>\n      <td>BU16800009</td>\n      <td>75</td>\n      <td>70</td>\n      <td>10</td>\n      <td>10</td>\n      <td>15</td>\n      <td>70</td>\n      <td>30</td>\n      <td>12.0</td>\n      <td>63</td>\n      <td>94.0</td>\n      <td>6.0</td>\n      <td>98.0</td>\n      <td>2.0</td>\n      <td>68.0</td>\n      <td>32.0</td>\n      <td>25.863057</td>\n      <td>9468</td>\n      <td>1.000000</td>\n    </tr>\n    <tr>\n      <th>...</th>\n      <td>...</td>\n      <td>...</td>\n      <td>...</td>\n      <td>...</td>\n      <td>...</td>\n      <td>...</td>\n      <td>...</td>\n      <td>...</td>\n      <td>...</td>\n      <td>...</td>\n      <td>...</td>\n      <td>...</td>\n      <td>...</td>\n      <td>...</td>\n      <td>...</td>\n      <td>...</td>\n      <td>...</td>\n      <td>...</td>\n      <td>...</td>\n    </tr>\n    <tr>\n      <th>16767</th>\n      <td>BU01935150</td>\n      <td>1575</td>\n      <td>1580</td>\n      <td>670</td>\n      <td>340</td>\n      <td>740</td>\n      <td>1080</td>\n      <td>315</td>\n      <td>6691.0</td>\n      <td>1192</td>\n      <td>99.0</td>\n      <td>1.0</td>\n      <td>78.0</td>\n      <td>22.0</td>\n      <td>100.0</td>\n      <td>0.0</td>\n      <td>25.000000</td>\n      <td>8014</td>\n      <td>1.000000</td>\n    </tr>\n    <tr>\n      <th>16768</th>\n      <td>BU01935160</td>\n      <td>50</td>\n      <td>50</td>\n      <td>25</td>\n      <td>5</td>\n      <td>15</td>\n      <td>45</td>\n      <td>0</td>\n      <td>236.0</td>\n      <td>22</td>\n      <td>95.0</td>\n      <td>5.0</td>\n      <td>82.0</td>\n      <td>14.0</td>\n      <td>5.0</td>\n      <td>95.0</td>\n      <td>25.863057</td>\n      <td>8015</td>\n      <td>3.000000</td>\n    </tr>\n    <tr>\n      <th>16769</th>\n      <td>WK019352</td>\n      <td>450</td>\n      <td>465</td>\n      <td>145</td>\n      <td>95</td>\n      <td>145</td>\n      <td>300</td>\n      <td>215</td>\n      <td>83.0</td>\n      <td>293</td>\n      <td>98.0</td>\n      <td>2.0</td>\n      <td>78.0</td>\n      <td>22.0</td>\n      <td>82.0</td>\n      <td>18.0</td>\n      <td>25.863057</td>\n      <td>&lt;NA&gt;</td>\n      <td>1.244559</td>\n    </tr>\n    <tr>\n      <th>16770</th>\n      <td>BU01935200</td>\n      <td>195</td>\n      <td>205</td>\n      <td>75</td>\n      <td>45</td>\n      <td>95</td>\n      <td>120</td>\n      <td>55</td>\n      <td>758.0</td>\n      <td>154</td>\n      <td>99.0</td>\n      <td>1.0</td>\n      <td>77.0</td>\n      <td>23.0</td>\n      <td>77.0</td>\n      <td>23.0</td>\n      <td>25.863057</td>\n      <td>8015</td>\n      <td>1.000000</td>\n    </tr>\n    <tr>\n      <th>16771</th>\n      <td>BU01935210</td>\n      <td>255</td>\n      <td>255</td>\n      <td>70</td>\n      <td>50</td>\n      <td>50</td>\n      <td>175</td>\n      <td>160</td>\n      <td>49.0</td>\n      <td>139</td>\n      <td>97.0</td>\n      <td>3.0</td>\n      <td>79.0</td>\n      <td>20.0</td>\n      <td>87.0</td>\n      <td>13.0</td>\n      <td>25.863057</td>\n      <td>8015</td>\n      <td>2.000000</td>\n    </tr>\n  </tbody>\n</table>\n<p>16772 rows × 19 columns</p>\n</div>"
     },
     "metadata": {},
     "execution_count": 21
    }
   ],
   "source": [
    "#Fill NAN with Mean\n",
    "cbs_data = cbs_data_old.fillna(cbs_data_old.mean())\n",
    "\n",
    "#Print new data set\n",
    "print(\"The NaN Values have been replaced with the mean of the columns\")\n",
    "cbs_data"
   ]
  },
  {
   "cell_type": "code",
   "execution_count": 22,
   "metadata": {},
   "outputs": [],
   "source": [
    "cbs_data['MostCommonPostalCode'].fillna((cbs_data['MostCommonPostalCode'].mode()), inplace=True)"
   ]
  },
  {
   "cell_type": "code",
   "execution_count": 23,
   "metadata": {},
   "outputs": [
    {
     "output_type": "stream",
     "name": "stdout",
     "text": [
      "Confirming that all the NAN values are gone\n"
     ]
    },
    {
     "output_type": "display_data",
     "data": {
      "text/plain": "Municipalitycode                 0\nNumberOfMen                      0\nNumberOfWomen                    0\nAgeFrom0to15years                0\nAgeFrom15to25years               0\nAgeFrom25to45years               0\nAgeFrom45to65years               0\nAgeFrom65AndOlder                0\nPopulationDensity                0\nHousingStock                     0\nPercentageInhabited              0\nPercentageUninhabited            0\nOwnerOccupiedHouses              0\nRentalHouses                     0\nConstructionYearBefore2000       0\nConstructionYearAfter2000        0\nAverageIncomePerCitizen          0\nMostCommonPostalCode          3539\nCoveragePercentage               0\ndtype: int64"
     },
     "metadata": {}
    }
   ],
   "source": [
    "print(\"Confirming that all the NAN values are gone\")\n",
    "display(cbs_data.isnull().sum()) "
   ]
  },
  {
   "cell_type": "code",
   "execution_count": 24,
   "metadata": {},
   "outputs": [
    {
     "output_type": "display_data",
     "data": {
      "text/plain": "      Municipalitycode  Total Registered Crimes  Registered Crimes Relative  \\\n0               GM0363                  81870.0                       100.0   \n1               GM0363                  81870.0                       100.0   \n2               GM0363                  81870.0                       100.0   \n3               GM0363                  81870.0                       100.0   \n4               GM0363                  81870.0                       100.0   \n...                ...                      ...                         ...   \n27445           GM0344                     75.0                         NaN   \n27446           GM0344                     75.0                         NaN   \n27447           GM0344                     75.0                         NaN   \n27448           GM0344                     75.0                         NaN   \n27449           GM0344                     75.0                         NaN   \n\n       Registered CrimesPer1000Inw  TotalClearedCrimes  ClearedCrimesRelative  \\\n0                             95.9             19715.0                   24.1   \n1                             95.9             19715.0                   24.1   \n2                             95.9             19715.0                   24.1   \n3                             95.9             19715.0                   24.1   \n4                             95.9             19715.0                   24.1   \n...                            ...                 ...                    ...   \n27445                          NaN                60.0                   78.4   \n27446                          NaN                60.0                   78.4   \n27447                          NaN                60.0                   78.4   \n27448                          NaN                60.0                   78.4   \n27449                          NaN                60.0                   78.4   \n\n       RegistrationsofSuspects  Guests  Overnights  \n0                      23975.0  8577.0     16673.0  \n1                      23975.0  1654.0      2828.0  \n2                      23975.0  6923.0     13846.0  \n3                      23975.0  4656.0      9454.0  \n4                      23975.0   866.0      1701.0  \n...                        ...     ...         ...  \n27445                     70.0     NaN         NaN  \n27446                     70.0     1.0         1.0  \n27447                     70.0     3.0         5.0  \n27448                     70.0     1.0         2.0  \n27449                     70.0     2.0         3.0  \n\n[27450 rows x 9 columns]",
      "text/html": "<div>\n<style scoped>\n    .dataframe tbody tr th:only-of-type {\n        vertical-align: middle;\n    }\n\n    .dataframe tbody tr th {\n        vertical-align: top;\n    }\n\n    .dataframe thead th {\n        text-align: right;\n    }\n</style>\n<table border=\"1\" class=\"dataframe\">\n  <thead>\n    <tr style=\"text-align: right;\">\n      <th></th>\n      <th>Municipalitycode</th>\n      <th>Total Registered Crimes</th>\n      <th>Registered Crimes Relative</th>\n      <th>Registered CrimesPer1000Inw</th>\n      <th>TotalClearedCrimes</th>\n      <th>ClearedCrimesRelative</th>\n      <th>RegistrationsofSuspects</th>\n      <th>Guests</th>\n      <th>Overnights</th>\n    </tr>\n  </thead>\n  <tbody>\n    <tr>\n      <th>0</th>\n      <td>GM0363</td>\n      <td>81870.0</td>\n      <td>100.0</td>\n      <td>95.9</td>\n      <td>19715.0</td>\n      <td>24.1</td>\n      <td>23975.0</td>\n      <td>8577.0</td>\n      <td>16673.0</td>\n    </tr>\n    <tr>\n      <th>1</th>\n      <td>GM0363</td>\n      <td>81870.0</td>\n      <td>100.0</td>\n      <td>95.9</td>\n      <td>19715.0</td>\n      <td>24.1</td>\n      <td>23975.0</td>\n      <td>1654.0</td>\n      <td>2828.0</td>\n    </tr>\n    <tr>\n      <th>2</th>\n      <td>GM0363</td>\n      <td>81870.0</td>\n      <td>100.0</td>\n      <td>95.9</td>\n      <td>19715.0</td>\n      <td>24.1</td>\n      <td>23975.0</td>\n      <td>6923.0</td>\n      <td>13846.0</td>\n    </tr>\n    <tr>\n      <th>3</th>\n      <td>GM0363</td>\n      <td>81870.0</td>\n      <td>100.0</td>\n      <td>95.9</td>\n      <td>19715.0</td>\n      <td>24.1</td>\n      <td>23975.0</td>\n      <td>4656.0</td>\n      <td>9454.0</td>\n    </tr>\n    <tr>\n      <th>4</th>\n      <td>GM0363</td>\n      <td>81870.0</td>\n      <td>100.0</td>\n      <td>95.9</td>\n      <td>19715.0</td>\n      <td>24.1</td>\n      <td>23975.0</td>\n      <td>866.0</td>\n      <td>1701.0</td>\n    </tr>\n    <tr>\n      <th>...</th>\n      <td>...</td>\n      <td>...</td>\n      <td>...</td>\n      <td>...</td>\n      <td>...</td>\n      <td>...</td>\n      <td>...</td>\n      <td>...</td>\n      <td>...</td>\n    </tr>\n    <tr>\n      <th>27445</th>\n      <td>GM0344</td>\n      <td>75.0</td>\n      <td>NaN</td>\n      <td>NaN</td>\n      <td>60.0</td>\n      <td>78.4</td>\n      <td>70.0</td>\n      <td>NaN</td>\n      <td>NaN</td>\n    </tr>\n    <tr>\n      <th>27446</th>\n      <td>GM0344</td>\n      <td>75.0</td>\n      <td>NaN</td>\n      <td>NaN</td>\n      <td>60.0</td>\n      <td>78.4</td>\n      <td>70.0</td>\n      <td>1.0</td>\n      <td>1.0</td>\n    </tr>\n    <tr>\n      <th>27447</th>\n      <td>GM0344</td>\n      <td>75.0</td>\n      <td>NaN</td>\n      <td>NaN</td>\n      <td>60.0</td>\n      <td>78.4</td>\n      <td>70.0</td>\n      <td>3.0</td>\n      <td>5.0</td>\n    </tr>\n    <tr>\n      <th>27448</th>\n      <td>GM0344</td>\n      <td>75.0</td>\n      <td>NaN</td>\n      <td>NaN</td>\n      <td>60.0</td>\n      <td>78.4</td>\n      <td>70.0</td>\n      <td>1.0</td>\n      <td>2.0</td>\n    </tr>\n    <tr>\n      <th>27449</th>\n      <td>GM0344</td>\n      <td>75.0</td>\n      <td>NaN</td>\n      <td>NaN</td>\n      <td>60.0</td>\n      <td>78.4</td>\n      <td>70.0</td>\n      <td>2.0</td>\n      <td>3.0</td>\n    </tr>\n  </tbody>\n</table>\n<p>27450 rows × 9 columns</p>\n</div>"
     },
     "metadata": {}
    }
   ],
   "source": [
    "display(pd.merge(crime_data, tourist_info, on='Municipalitycode'))\n",
    "\n",
    "#pd.merge(pd.merge(t1, t2, on='a'), t3, on='a')"
   ]
  },
  {
   "cell_type": "code",
   "execution_count": 25,
   "metadata": {},
   "outputs": [
    {
     "output_type": "execute_result",
     "data": {
      "text/plain": [
       "Empty DataFrame\n",
       "Columns: [Municipalitycode, Total Registered Crimes, Registered Crimes Relative, Registered CrimesPer1000Inw, TotalClearedCrimes, ClearedCrimesRelative, RegistrationsofSuspects, Guests, Overnights, NumberOfMen, NumberOfWomen, AgeFrom0to15years, AgeFrom15to25years, AgeFrom25to45years, AgeFrom45to65years, AgeFrom65AndOlder, PopulationDensity, HousingStock, PercentageInhabited, PercentageUninhabited, OwnerOccupiedHouses, RentalHouses, ConstructionYearBefore2000, ConstructionYearAfter2000, AverageIncomePerCitizen, MostCommonPostalCode, CoveragePercentage]\n",
       "Index: []\n",
       "\n",
       "[0 rows x 27 columns]"
      ],
      "text/html": "<div>\n<style scoped>\n    .dataframe tbody tr th:only-of-type {\n        vertical-align: middle;\n    }\n\n    .dataframe tbody tr th {\n        vertical-align: top;\n    }\n\n    .dataframe thead th {\n        text-align: right;\n    }\n</style>\n<table border=\"1\" class=\"dataframe\">\n  <thead>\n    <tr style=\"text-align: right;\">\n      <th></th>\n      <th>Municipalitycode</th>\n      <th>Total Registered Crimes</th>\n      <th>Registered Crimes Relative</th>\n      <th>Registered CrimesPer1000Inw</th>\n      <th>TotalClearedCrimes</th>\n      <th>ClearedCrimesRelative</th>\n      <th>RegistrationsofSuspects</th>\n      <th>Guests</th>\n      <th>Overnights</th>\n      <th>NumberOfMen</th>\n      <th>...</th>\n      <th>HousingStock</th>\n      <th>PercentageInhabited</th>\n      <th>PercentageUninhabited</th>\n      <th>OwnerOccupiedHouses</th>\n      <th>RentalHouses</th>\n      <th>ConstructionYearBefore2000</th>\n      <th>ConstructionYearAfter2000</th>\n      <th>AverageIncomePerCitizen</th>\n      <th>MostCommonPostalCode</th>\n      <th>CoveragePercentage</th>\n    </tr>\n  </thead>\n  <tbody>\n  </tbody>\n</table>\n<p>0 rows × 27 columns</p>\n</div>"
     },
     "metadata": {},
     "execution_count": 25
    }
   ],
   "source": [
    "pd.merge(pd.merge(crime_data, tourist_info, on='Municipalitycode'), cbs_data, on='Municipalitycode')"
   ]
  },
  {
   "cell_type": "code",
   "execution_count": null,
   "metadata": {},
   "outputs": [],
   "source": []
  }
 ]
}