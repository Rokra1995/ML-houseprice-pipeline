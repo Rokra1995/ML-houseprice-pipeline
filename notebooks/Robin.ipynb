{
 "cells": [
  {
   "cell_type": "code",
   "execution_count": 21,
   "metadata": {
    "tags": []
   },
   "outputs": [],
   "source": [
    "import pandas as pd\n",
    "import os"
   ]
  },
  {
   "cell_type": "code",
   "execution_count": 22,
   "metadata": {
    "tags": []
   },
   "outputs": [],
   "source": [
    "from funda.load_data import DataLoader\n",
    "    "
   ]
  },
  {
   "cell_type": "code",
   "execution_count": 120,
   "metadata": {},
   "outputs": [],
   "source": [
    "class DataCleaner(object):\n",
    "\n",
    "    def clean_broker_info(data):\n",
    "        #dropping columns url & replacing the word 'missing' with a 0 to be able to transform col as integer\n",
    "        data = data.drop(columns=['url']).replace('Missing',0)\n",
    "        #replacing the whitespace in the middle of the postcode to be able to link with other cbs data\n",
    "        data['zipcode_broker'] = data.zipcode_broker.replace(\" \", \"\", regex=True)\n",
    "        #removing unnecessary whitespaces in the broker description\n",
    "        data['description_broker'] = data.description_broker.replace(\"  \", \" \", regex=True)\n",
    "        data['description_broker'] = data.description_broker.replace(\"   \", \" \", regex=True)\n",
    "        data['description_broker'] = data.description_broker.replace(\"    \", \" \", regex=True)\n",
    "        #specifying the datatypes of each column\n",
    "        type_dict = {'name_broker': 'string',\n",
    "            'zipcode_broker':'string',\n",
    "            'description_broker': 'string',\n",
    "            'score_broker': 'float64',\n",
    "            'number_reviews_broker': 'int64',\n",
    "            'number_houses_for_sale_offered': 'int64',\n",
    "            'number_houses_sold_last_12_months': 'int64'}\n",
    "\n",
    "        for k,v in type_dict.items():\n",
    "            data = data.astype({k: v})\n",
    "\n",
    "        return data\n",
    "\n",
    "    def clean_broker_reviews(data):\n",
    "        #shortening the reviewtype\n",
    "        data['ReviewType'] = data.ReviewType.replace(\" reviews\",\"\",regex=True)\n",
    "        #renaming the column Reviewtype to a more accurate name\n",
    "        data = data.rename(columns={'SalesAgent':'Broker'})\n",
    "        #transforming the reviewdate into datetimeformat\n",
    "        data['ReviewDate'] = pd.to_datetime(data['ReviewDate'])\n",
    "        return data"
   ]
  },
  {
   "cell_type": "code",
   "execution_count": 105,
   "metadata": {},
   "outputs": [],
   "source": [
    "data_loader = DataLoader(base_folder='/Users/Robinkratschmayr2/Library/Mobile Documents/com~apple~CloudDocs/2. Ausbildung/Master/Quarter 2/Artificial Intelligence for Business/Assignment/product3team2')\n",
    "\n",
    "brokers = data_loader.load_broker_info()\n",
    "broker_reviews = data_loader.load_broker_reviews()"
   ]
  },
  {
   "cell_type": "code",
   "execution_count": 121,
   "metadata": {
    "tags": []
   },
   "outputs": [
    {
     "output_type": "execute_result",
     "data": {
      "text/plain": "                              Broker ReviewType  \\\n0             11 Makelaars Amsterdam       Buy    \n1       & Bijleveld makelaardij b.v.       Buy    \n2       & Bijleveld makelaardij b.v.       Buy    \n3       & Bijleveld makelaardij b.v.       Buy    \n4       & Bijleveld makelaardij b.v.       Buy    \n...                              ...        ...   \n272263                 Makelaarsland      Sale    \n272264                 Makelaarsland      Sale    \n272265                 Makelaarsland      Sale    \n272266                 Makelaarsland      Sale    \n272267                 Makelaarsland      Sale    \n\n                                                  Reviews  ReviewScore  \\\n0       Niels is een persoonlijke makelaar, een mensen...         10.0   \n1       Vanaf het eerste contact t/m het ondertekenen ...          9.5   \n2       Superb service! I got a great help and support...         10.5   \n3       Geweldige service en deskundig advies voor ges...          9.5   \n4       Prettig contact gedurende het aankooptraject, ...          9.5   \n...                                                   ...          ...   \n272263  Vind het raar dat je een makelaar krijgt toege...          6.5   \n272264  Deze makelaar gekozen omdat ik zelf huis mag/m...          5.5   \n272265  Het contact met de makelaar verliep goed. Alti...          7.5   \n272266  Afgezien van opstellen van het koopcontract en...          6.5   \n272267  Bij Makelaarsland krijg je waarvoor je betaald...          5.0   \n\n       ReviewDate  \n0      2019-06-25  \n1      2020-10-21  \n2      2020-05-19  \n3      2020-03-27  \n4      2020-01-24  \n...           ...  \n272263 2012-12-27  \n272264 2012-12-26  \n272265 2012-12-22  \n272266 2012-12-20  \n272267 2012-12-18  \n\n[272268 rows x 5 columns]",
      "text/html": "<div>\n<style scoped>\n    .dataframe tbody tr th:only-of-type {\n        vertical-align: middle;\n    }\n\n    .dataframe tbody tr th {\n        vertical-align: top;\n    }\n\n    .dataframe thead th {\n        text-align: right;\n    }\n</style>\n<table border=\"1\" class=\"dataframe\">\n  <thead>\n    <tr style=\"text-align: right;\">\n      <th></th>\n      <th>Broker</th>\n      <th>ReviewType</th>\n      <th>Reviews</th>\n      <th>ReviewScore</th>\n      <th>ReviewDate</th>\n    </tr>\n  </thead>\n  <tbody>\n    <tr>\n      <th>0</th>\n      <td>11 Makelaars Amsterdam</td>\n      <td>Buy</td>\n      <td>Niels is een persoonlijke makelaar, een mensen...</td>\n      <td>10.0</td>\n      <td>2019-06-25</td>\n    </tr>\n    <tr>\n      <th>1</th>\n      <td>&amp; Bijleveld makelaardij b.v.</td>\n      <td>Buy</td>\n      <td>Vanaf het eerste contact t/m het ondertekenen ...</td>\n      <td>9.5</td>\n      <td>2020-10-21</td>\n    </tr>\n    <tr>\n      <th>2</th>\n      <td>&amp; Bijleveld makelaardij b.v.</td>\n      <td>Buy</td>\n      <td>Superb service! I got a great help and support...</td>\n      <td>10.5</td>\n      <td>2020-05-19</td>\n    </tr>\n    <tr>\n      <th>3</th>\n      <td>&amp; Bijleveld makelaardij b.v.</td>\n      <td>Buy</td>\n      <td>Geweldige service en deskundig advies voor ges...</td>\n      <td>9.5</td>\n      <td>2020-03-27</td>\n    </tr>\n    <tr>\n      <th>4</th>\n      <td>&amp; Bijleveld makelaardij b.v.</td>\n      <td>Buy</td>\n      <td>Prettig contact gedurende het aankooptraject, ...</td>\n      <td>9.5</td>\n      <td>2020-01-24</td>\n    </tr>\n    <tr>\n      <th>...</th>\n      <td>...</td>\n      <td>...</td>\n      <td>...</td>\n      <td>...</td>\n      <td>...</td>\n    </tr>\n    <tr>\n      <th>272263</th>\n      <td>Makelaarsland</td>\n      <td>Sale</td>\n      <td>Vind het raar dat je een makelaar krijgt toege...</td>\n      <td>6.5</td>\n      <td>2012-12-27</td>\n    </tr>\n    <tr>\n      <th>272264</th>\n      <td>Makelaarsland</td>\n      <td>Sale</td>\n      <td>Deze makelaar gekozen omdat ik zelf huis mag/m...</td>\n      <td>5.5</td>\n      <td>2012-12-26</td>\n    </tr>\n    <tr>\n      <th>272265</th>\n      <td>Makelaarsland</td>\n      <td>Sale</td>\n      <td>Het contact met de makelaar verliep goed. Alti...</td>\n      <td>7.5</td>\n      <td>2012-12-22</td>\n    </tr>\n    <tr>\n      <th>272266</th>\n      <td>Makelaarsland</td>\n      <td>Sale</td>\n      <td>Afgezien van opstellen van het koopcontract en...</td>\n      <td>6.5</td>\n      <td>2012-12-20</td>\n    </tr>\n    <tr>\n      <th>272267</th>\n      <td>Makelaarsland</td>\n      <td>Sale</td>\n      <td>Bij Makelaarsland krijg je waarvoor je betaald...</td>\n      <td>5.0</td>\n      <td>2012-12-18</td>\n    </tr>\n  </tbody>\n</table>\n<p>272268 rows × 5 columns</p>\n</div>"
     },
     "metadata": {},
     "execution_count": 121
    }
   ],
   "source": [
    "broker_reviews_cleaned = DataCleaner.clean_broker_reviews(broker_reviews)\n",
    "broker_reviews_cleaned.dtypes\n",
    "#broker_reviews_cleaned\n",
    "\n"
   ]
  },
  {
   "cell_type": "code",
   "execution_count": 147,
   "metadata": {},
   "outputs": [],
   "source": []
  }
 ],
 "metadata": {
  "language_info": {
   "codemirror_mode": {
    "name": "ipython",
    "version": 3
   },
   "file_extension": ".py",
   "mimetype": "text/x-python",
   "name": "python",
   "nbconvert_exporter": "python",
   "pygments_lexer": "ipython3",
   "version": "3.8.5-final"
  },
  "orig_nbformat": 2,
  "kernelspec": {
   "name": "python_defaultSpec_1608210004446",
   "display_name": "Python 3.8.5 64-bit ('AI-for-business-env': conda)"
  }
 },
 "nbformat": 4,
 "nbformat_minor": 2
}